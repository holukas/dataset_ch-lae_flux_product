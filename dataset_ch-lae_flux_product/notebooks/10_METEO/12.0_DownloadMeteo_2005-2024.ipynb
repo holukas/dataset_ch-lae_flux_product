{
 "cells": [
  {
   "cell_type": "markdown",
   "id": "2cb69589-01ea-4fa7-b60d-00c7d87ecc42",
   "metadata": {},
   "source": [
    "# Download multiple meteoscreening variables"
   ]
  },
  {
   "cell_type": "markdown",
   "id": "7b302c76-a358-42e4-86f1-605239b7ba3a",
   "metadata": {},
   "source": [
    "**notebook version**: `3` (4 Jul 2024)  \n",
    "**new in this version**: added check if downloaded data is indeed in 30MIN time resolution\n",
    "\n",
    "- This notebook can be used to download data from the database `InfluxDB`\n",
    "- Data are stored to a `.csv` file in this folder"
   ]
  },
  {
   "cell_type": "markdown",
   "id": "d2a15198-883d-4cf7-9198-b97f5a1774e1",
   "metadata": {},
   "source": [
    "</br>"
   ]
  },
  {
   "cell_type": "markdown",
   "id": "01673648-2743-4026-9699-ef921ca8cac7",
   "metadata": {},
   "source": [
    "# Settings"
   ]
  },
  {
   "cell_type": "markdown",
   "id": "ad1202e4-be6b-49db-824e-4adb164ab637",
   "metadata": {},
   "source": [
    "## Data settings"
   ]
  },
  {
   "cell_type": "code",
   "execution_count": 1,
   "id": "d0aaaf11-fd0c-47fe-a869-79ca6e4507b1",
   "metadata": {},
   "outputs": [],
   "source": [
    "DIRCONF = r'F:\\Sync\\luhk_work\\20 - CODING\\22 - POET\\configs'\n",
    "# DIRCONF = r'P:\\Flux\\RDS_calculations\\_scripts\\_configs\\configs'  # Folder with configuration files: needed e.g. for connection to database\n",
    "TIMEZONE_OFFSET_TO_UTC_HOURS = 1  # Timezone, e.g. \"1\" is translated to timezone \"UTC+01:00\" (CET, winter time)\n",
    "REQUIRED_TIME_RESOLUTION = '30min'  # 30MIN time resolution\n",
    "SITE_LAT = 47.478333   # CH-LAE\n",
    "SITE_LON = 8.364389  # CH-LAE"
   ]
  },
  {
   "cell_type": "markdown",
   "id": "acd7176f-9419-40c0-8028-6b94929c1937",
   "metadata": {},
   "source": [
    "## Imports"
   ]
  },
  {
   "cell_type": "code",
   "execution_count": 2,
   "id": "335cc79e-7c01-4dfe-8f72-b2406b8ea136",
   "metadata": {},
   "outputs": [
    {
     "name": "stdout",
     "output_type": "stream",
     "text": [
      "diive version: v0.87.1\n",
      "dbc-influxdb version: v0.13.1\n",
      "Reading configuration files was successful.\n",
      "Connection to database works.\n"
     ]
    }
   ],
   "source": [
    "from datetime import datetime\n",
    "from pathlib import Path\n",
    "import importlib.metadata\n",
    "import matplotlib\n",
    "import matplotlib.pyplot as plt\n",
    "import matplotlib.gridspec as gridspec\n",
    "%matplotlib inline\n",
    "import numpy as np\n",
    "import pandas as pd\n",
    "import seaborn as sns\n",
    "sns.set_theme('notebook')\n",
    "from diive.core.plotting.timeseries import TimeSeries\n",
    "from dbc_influxdb import dbcInflux\n",
    "import diive as dv\n",
    "from diive.core.plotting.heatmap_datetime import HeatmapDateTime\n",
    "from diive.core.times.times import DetectFrequency\n",
    "from diive.core.times.times import TimestampSanitizer\n",
    "from diive.core.io.files import save_parquet\n",
    "from diive.pkgs.createvar.potentialradiation import potrad\n",
    "from diive.pkgs.gapfilling.xgboost_ts import XGBoostTS\n",
    "from diive.pkgs.corrections.offsetcorrection import remove_relativehumidity_offset, remove_radiation_zero_offset\n",
    "import warnings\n",
    "from influxdb_client.client.warnings import MissingPivotFunction\n",
    "warnings.filterwarnings(action='ignore', category=FutureWarning)\n",
    "warnings.filterwarnings(action='ignore', category=UserWarning)\n",
    "dt_string = datetime.now().strftime(\"%Y-%m-%d %H:%M:%S\")\n",
    "version_diive = importlib.metadata.version(\"diive\")\n",
    "print(f\"diive version: v{version_diive}\")\n",
    "version_dbc = importlib.metadata.version(\"dbc_influxdb\")\n",
    "print(f\"dbc-influxdb version: v{version_dbc}\")\n",
    "dbc = dbcInflux(dirconf=DIRCONF)  # Connect to database"
   ]
  },
  {
   "cell_type": "markdown",
   "id": "b8f0546b-b1f8-46d6-855b-39c940e046f3",
   "metadata": {},
   "source": [
    "</br>"
   ]
  },
  {
   "cell_type": "markdown",
   "id": "7c260537-0632-44e6-8b42-44e25b6ca39a",
   "metadata": {},
   "source": [
    "# Data from `diive` meteoscreening (2022-2024)"
   ]
  },
  {
   "cell_type": "markdown",
   "id": "6a861344-88e1-48af-8f3a-c69bb98081f1",
   "metadata": {},
   "source": [
    "## Download"
   ]
  },
  {
   "cell_type": "code",
   "execution_count": 3,
   "id": "7ae84d33-62ec-4b4f-8898-008015370784",
   "metadata": {},
   "outputs": [
    {
     "name": "stdout",
     "output_type": "stream",
     "text": [
      "\n",
      "DOWNLOADING\n",
      "    from bucket ch-lae_processed\n",
      "    variables ['TA_T1_47_1', 'RH_T1_47_1', 'SW_IN_T1_47_1', 'LW_IN_T1_47_1', 'PA_T1_47_1', 'PPFD_IN_T1_47_1']\n",
      "    from measurements ['TA', 'RH', 'LW', 'PPFD', 'SW', 'PA']\n",
      "    from data version ['meteoscreening_diive']\n",
      "    between 2022-01-01 00:00:01 and 2025-01-01 00:00:01\n",
      "    with timezone offset to UTC of 1\n",
      "Using querystring:\n",
      "from(bucket: \"ch-lae_processed\") |> range(start: 2022-01-01T00:00:01+01:00, stop: 2025-01-01T00:00:01+01:00) |> filter(fn: (r) => r[\"_measurement\"] == \"TA\" or r[\"_measurement\"] == \"RH\" or r[\"_measurement\"] == \"LW\" or r[\"_measurement\"] == \"PPFD\" or r[\"_measurement\"] == \"SW\" or r[\"_measurement\"] == \"PA\") |> filter(fn: (r) => r[\"data_version\"] == \"meteoscreening_diive\") |> filter(fn: (r) => r[\"_field\"] == \"TA_T1_47_1\" or r[\"_field\"] == \"RH_T1_47_1\" or r[\"_field\"] == \"SW_IN_T1_47_1\" or r[\"_field\"] == \"LW_IN_T1_47_1\" or r[\"_field\"] == \"PA_T1_47_1\" or r[\"_field\"] == \"PPFD_IN_T1_47_1\") |> pivot(rowKey:[\"_time\"], columnKey: [\"_field\"], valueColumn: \"_value\")\n",
      "Used querystring: from(bucket: \"ch-lae_processed\") |> range(start: 2022-01-01T00:00:01+01:00, stop: 2025-01-01T00:00:01+01:00) |> filter(fn: (r) => r[\"_measurement\"] == \"TA\" or r[\"_measurement\"] == \"RH\" or r[\"_measurement\"] == \"LW\" or r[\"_measurement\"] == \"PPFD\" or r[\"_measurement\"] == \"SW\" or r[\"_measurement\"] == \"PA\") |> filter(fn: (r) => r[\"data_version\"] == \"meteoscreening_diive\") |> filter(fn: (r) => r[\"_field\"] == \"TA_T1_47_1\" or r[\"_field\"] == \"RH_T1_47_1\" or r[\"_field\"] == \"SW_IN_T1_47_1\" or r[\"_field\"] == \"LW_IN_T1_47_1\" or r[\"_field\"] == \"PA_T1_47_1\" or r[\"_field\"] == \"PPFD_IN_T1_47_1\") |> pivot(rowKey:[\"_time\"], columnKey: [\"_field\"], valueColumn: \"_value\")\n",
      "querystring was constructed from:\n",
      "    bucketstring: from(bucket: \"ch-lae_processed\")\n",
      "    rangestring: |> range(start: 2022-01-01T00:00:01+01:00, stop: 2025-01-01T00:00:01+01:00)\n",
      "    measurementstring: |> filter(fn: (r) => r[\"_measurement\"] == \"TA\" or r[\"_measurement\"] == \"RH\" or r[\"_measurement\"] == \"LW\" or r[\"_measurement\"] == \"PPFD\" or r[\"_measurement\"] == \"SW\" or r[\"_measurement\"] == \"PA\")\n",
      "    dataversionstring: |> filter(fn: (r) => r[\"data_version\"] == \"meteoscreening_diive\")\n",
      "    fieldstring: |> filter(fn: (r) => r[\"_field\"] == \"TA_T1_47_1\" or r[\"_field\"] == \"RH_T1_47_1\" or r[\"_field\"] == \"SW_IN_T1_47_1\" or r[\"_field\"] == \"LW_IN_T1_47_1\" or r[\"_field\"] == \"PA_T1_47_1\" or r[\"_field\"] == \"PPFD_IN_T1_47_1\")\n",
      "    pivotstring: |> pivot(rowKey:[\"_time\"], columnKey: [\"_field\"], valueColumn: \"_value\")\n",
      "Download finished.\n",
      "Downloaded data for 6 variables:\n",
      "<-- LW_IN_T1_47_1  (52492 records)  first date: 2022-01-01 00:30:00  last date: 2025-01-01 00:00:00\n",
      "<-- PA_T1_47_1  (52492 records)  first date: 2022-01-01 00:30:00  last date: 2025-01-01 00:00:00\n",
      "<-- PPFD_IN_T1_47_1  (52526 records)  first date: 2022-01-01 00:30:00  last date: 2025-01-01 00:00:00\n",
      "<-- RH_T1_47_1  (52492 records)  first date: 2022-01-01 00:30:00  last date: 2025-01-01 00:00:00\n",
      "<-- SW_IN_T1_47_1  (52526 records)  first date: 2022-01-01 00:30:00  last date: 2025-01-01 00:00:00\n",
      "<-- TA_T1_47_1  (52492 records)  first date: 2022-01-01 00:30:00  last date: 2025-01-01 00:00:00\n",
      "========================================\n",
      "Fields in measurement TA of bucket ch-lae_processed:\n",
      "#1  ch-lae_processed  TA  TA_EP\n",
      "#2  ch-lae_processed  TA  TA_ERA\n",
      "#3  ch-lae_processed  TA  TA_F\n",
      "#4  ch-lae_processed  TA  TA_FF1_2_1\n",
      "#5  ch-lae_processed  TA  TA_F_MDS\n",
      "#6  ch-lae_processed  TA  TA_F_MDS_QC\n",
      "#7  ch-lae_processed  TA  TA_F_QC\n",
      "#8  ch-lae_processed  TA  TA_H1_0_1\n",
      "#9  ch-lae_processed  TA  TA_IRGA70_PRF_M1_0.1_1\n",
      "#10  ch-lae_processed  TA  TA_IRGA70_PRF_M1_1_1\n",
      "#11  ch-lae_processed  TA  TA_IRGA70_PRF_M2_0.1_1\n",
      "#12  ch-lae_processed  TA  TA_IRGA70_PRF_M2_1_1\n",
      "#13  ch-lae_processed  TA  TA_IRGA70_PRF_T1_0.1_1\n",
      "#14  ch-lae_processed  TA  TA_IRGA70_PRF_T1_1_1\n",
      "#15  ch-lae_processed  TA  TA_IRGA70_PRF_T1_27_1\n",
      "#16  ch-lae_processed  TA  TA_IRGA70_PRF_T1_3_1\n",
      "#17  ch-lae_processed  TA  TA_IRGA70_PRF_T1_44_1\n",
      "#18  ch-lae_processed  TA  TA_IRGA70_PRF_T1_54_1\n",
      "#19  ch-lae_processed  TA  TA_IRGA70_PRF_T1_5_1\n",
      "#20  ch-lae_processed  TA  TA_IRGA70_PRF_T1_9_1\n",
      "#21  ch-lae_processed  TA  TA_NABEL_T1_49_1\n",
      "#22  ch-lae_processed  TA  TA_PRF_T1_0.1_1\n",
      "#23  ch-lae_processed  TA  TA_PRF_T1_0.4_1\n",
      "#24  ch-lae_processed  TA  TA_PRF_T1_10_1\n",
      "#25  ch-lae_processed  TA  TA_PRF_T1_27_1\n",
      "#26  ch-lae_processed  TA  TA_PRF_T1_44_1\n",
      "#27  ch-lae_processed  TA  TA_PRF_T1_54_1\n",
      "#28  ch-lae_processed  TA  TA_T1_47_1\n",
      "#29  ch-lae_processed  TA  T_SONIC\n",
      "Found 29 fields in measurement TA of bucket ch-lae_processed.\n",
      "========================================\n",
      "========================================\n",
      "Fields in measurement RH of bucket ch-lae_processed:\n",
      "#1  ch-lae_processed  RH  RH\n",
      "#2  ch-lae_processed  RH  RH_1_1_1\n",
      "#3  ch-lae_processed  RH  RH_EP\n",
      "#4  ch-lae_processed  RH  RH_FF1_2_1\n",
      "#5  ch-lae_processed  RH  RH_NABEL_T1_49_1\n",
      "#6  ch-lae_processed  RH  RH_PRF_T1_0.1_1\n",
      "#7  ch-lae_processed  RH  RH_PRF_T1_0.4_1\n",
      "#8  ch-lae_processed  RH  RH_PRF_T1_10_1\n",
      "#9  ch-lae_processed  RH  RH_PRF_T1_27_1\n",
      "#10  ch-lae_processed  RH  RH_PRF_T1_44_1\n",
      "#11  ch-lae_processed  RH  RH_PRF_T1_54_1\n",
      "#12  ch-lae_processed  RH  RH_T1_47_1\n",
      "Found 12 fields in measurement RH of bucket ch-lae_processed.\n",
      "========================================\n",
      "========================================\n",
      "Fields in measurement LW of bucket ch-lae_processed:\n",
      "#1  ch-lae_processed  LW  LW_IN_COR_T1_47_1\n",
      "#2  ch-lae_processed  LW  LW_IN_ERA\n",
      "#3  ch-lae_processed  LW  LW_IN_F\n",
      "#4  ch-lae_processed  LW  LW_IN_F_MDS\n",
      "#5  ch-lae_processed  LW  LW_IN_F_MDS_QC\n",
      "#6  ch-lae_processed  LW  LW_IN_F_QC\n",
      "#7  ch-lae_processed  LW  LW_IN_JSB\n",
      "#8  ch-lae_processed  LW  LW_IN_JSB_ERA\n",
      "#9  ch-lae_processed  LW  LW_IN_JSB_F\n",
      "#10  ch-lae_processed  LW  LW_IN_JSB_F_QC\n",
      "#11  ch-lae_processed  LW  LW_IN_JSB_QC\n",
      "#12  ch-lae_processed  LW  LW_IN_T1_47_1\n",
      "#13  ch-lae_processed  LW  LW_OUT_COR_T1_47_1\n",
      "#14  ch-lae_processed  LW  LW_OUT_T1_47_1\n",
      "Found 14 fields in measurement LW of bucket ch-lae_processed.\n",
      "========================================\n",
      "========================================\n",
      "Fields in measurement PPFD of bucket ch-lae_processed:\n",
      "#1  ch-lae_processed  PPFD  PPFD_DIF_T1_47_1\n",
      "#2  ch-lae_processed  PPFD  PPFD_IN\n",
      "#3  ch-lae_processed  PPFD  PPFD_IN_CORRECTED_T1_47_1\n",
      "#4  ch-lae_processed  PPFD  PPFD_IN_CORRECTED_T1_47_2\n",
      "#5  ch-lae_processed  PPFD  PPFD_IN_FF1_2_1\n",
      "#6  ch-lae_processed  PPFD  PPFD_IN_T1_47_1\n",
      "#7  ch-lae_processed  PPFD  PPFD_IN_T1_47_2\n",
      "#8  ch-lae_processed  PPFD  PPFD_OUT_CORRECTED_T1_47_1\n",
      "#9  ch-lae_processed  PPFD  PPFD_OUT_CORRECTED_T1_47_2\n",
      "#10  ch-lae_processed  PPFD  PPFD_OUT_T1_47_1\n",
      "#11  ch-lae_processed  PPFD  PPFD_OUT_T1_47_2\n",
      "Found 11 fields in measurement PPFD of bucket ch-lae_processed.\n",
      "========================================\n",
      "========================================\n",
      "Fields in measurement SW of bucket ch-lae_processed:\n",
      "#1  ch-lae_processed  SW  NIGHT\n",
      "#2  ch-lae_processed  SW  SW_IN_CORRECTED_T1_47_1\n",
      "#3  ch-lae_processed  SW  SW_IN_ERA\n",
      "#4  ch-lae_processed  SW  SW_IN_F\n",
      "#5  ch-lae_processed  SW  SW_IN_F_MDS\n",
      "#6  ch-lae_processed  SW  SW_IN_F_MDS_QC\n",
      "#7  ch-lae_processed  SW  SW_IN_F_QC\n",
      "#8  ch-lae_processed  SW  SW_IN_NABEL_T1_49_1\n",
      "#9  ch-lae_processed  SW  SW_IN_POT\n",
      "#10  ch-lae_processed  SW  SW_IN_T1_47_1\n",
      "#11  ch-lae_processed  SW  SW_OUT_CORRECTED_T1_47_1\n",
      "#12  ch-lae_processed  SW  SW_OUT_T1_47_1\n",
      "Found 12 fields in measurement SW of bucket ch-lae_processed.\n",
      "========================================\n",
      "========================================\n",
      "Fields in measurement PA of bucket ch-lae_processed:\n",
      "#1  ch-lae_processed  PA  CUSTOM_AIR_P_MEAN\n",
      "#2  ch-lae_processed  PA  PA\n",
      "#3  ch-lae_processed  PA  PA_EP\n",
      "#4  ch-lae_processed  PA  PA_ERA\n",
      "#5  ch-lae_processed  PA  PA_F\n",
      "#6  ch-lae_processed  PA  PA_F_QC\n",
      "#7  ch-lae_processed  PA  PA_H1_0_1\n",
      "#8  ch-lae_processed  PA  PA_IRGA70_PRF_M1_0.1_1\n",
      "#9  ch-lae_processed  PA  PA_IRGA70_PRF_M1_1_1\n",
      "#10  ch-lae_processed  PA  PA_IRGA70_PRF_M2_0.1_1\n",
      "#11  ch-lae_processed  PA  PA_IRGA70_PRF_M2_1_1\n",
      "#12  ch-lae_processed  PA  PA_IRGA70_PRF_T1_0.1_1\n",
      "#13  ch-lae_processed  PA  PA_IRGA70_PRF_T1_1_1\n",
      "#14  ch-lae_processed  PA  PA_IRGA70_PRF_T1_27_1\n",
      "#15  ch-lae_processed  PA  PA_IRGA70_PRF_T1_3_1\n",
      "#16  ch-lae_processed  PA  PA_IRGA70_PRF_T1_44_1\n",
      "#17  ch-lae_processed  PA  PA_IRGA70_PRF_T1_54_1\n",
      "#18  ch-lae_processed  PA  PA_IRGA70_PRF_T1_5_1\n",
      "#19  ch-lae_processed  PA  PA_IRGA70_PRF_T1_9_1\n",
      "#20  ch-lae_processed  PA  PA_NABEL_H1_2_1\n",
      "#21  ch-lae_processed  PA  PA_T1_47_1\n",
      "Found 21 fields in measurement PA of bucket ch-lae_processed.\n",
      "========================================\n",
      "CPU times: total: 6.11 s\n",
      "Wall time: 9.01 s\n"
     ]
    }
   ],
   "source": [
    "%%time\n",
    "\n",
    "BUCKET = f'ch-lae_processed'\n",
    "FIELDS = ['TA_T1_47_1', 'RH_T1_47_1', 'SW_IN_T1_47_1', 'LW_IN_T1_47_1', 'PA_T1_47_1', 'PPFD_IN_T1_47_1']\n",
    "MEASUREMENTS = ['TA', 'RH', 'LW', 'PPFD', 'SW', 'PA']\n",
    "START = '2022-01-01 00:00:01'\n",
    "STOP = '2025-01-01 00:00:01'\n",
    "DATA_VERSION = 'meteoscreening_diive'\n",
    "\n",
    "data_simple_diive, data_detailed_diive, assigned_measurements_diive = dbc.download(\n",
    "    bucket=BUCKET,\n",
    "    measurements=MEASUREMENTS,\n",
    "    fields=FIELDS,\n",
    "    start=START,  # Download data starting with this date (the start date itself IS included),\n",
    "    stop=STOP,  # Download data before this date (the stop date itself IS NOT included),\n",
    "    timezone_offset_to_utc_hours=TIMEZONE_OFFSET_TO_UTC_HOURS,\n",
    "    data_version=DATA_VERSION\n",
    ")"
   ]
  },
  {
   "cell_type": "code",
   "execution_count": 4,
   "id": "625f0fe9-0365-46c9-9a7f-7c5ac9c1a21e",
   "metadata": {},
   "outputs": [
    {
     "data": {
      "text/html": [
       "<div>\n",
       "<style scoped>\n",
       "    .dataframe tbody tr th:only-of-type {\n",
       "        vertical-align: middle;\n",
       "    }\n",
       "\n",
       "    .dataframe tbody tr th {\n",
       "        vertical-align: top;\n",
       "    }\n",
       "\n",
       "    .dataframe thead th {\n",
       "        text-align: right;\n",
       "    }\n",
       "</style>\n",
       "<table border=\"1\" class=\"dataframe\">\n",
       "  <thead>\n",
       "    <tr style=\"text-align: right;\">\n",
       "      <th></th>\n",
       "      <th>LW_IN_T1_47_1</th>\n",
       "      <th>PA_T1_47_1</th>\n",
       "      <th>PPFD_IN_T1_47_1</th>\n",
       "      <th>RH_T1_47_1</th>\n",
       "      <th>SW_IN_T1_47_1</th>\n",
       "      <th>TA_T1_47_1</th>\n",
       "    </tr>\n",
       "    <tr>\n",
       "      <th>TIMESTAMP_END</th>\n",
       "      <th></th>\n",
       "      <th></th>\n",
       "      <th></th>\n",
       "      <th></th>\n",
       "      <th></th>\n",
       "      <th></th>\n",
       "    </tr>\n",
       "  </thead>\n",
       "  <tbody>\n",
       "    <tr>\n",
       "      <th>2022-01-01 00:30:00</th>\n",
       "      <td>281.339657</td>\n",
       "      <td>94173.592000</td>\n",
       "      <td>0.0</td>\n",
       "      <td>89.611768</td>\n",
       "      <td>0.0</td>\n",
       "      <td>8.437600</td>\n",
       "    </tr>\n",
       "    <tr>\n",
       "      <th>2022-01-01 01:00:00</th>\n",
       "      <td>280.357413</td>\n",
       "      <td>94174.110667</td>\n",
       "      <td>0.0</td>\n",
       "      <td>89.877390</td>\n",
       "      <td>0.0</td>\n",
       "      <td>8.238294</td>\n",
       "    </tr>\n",
       "    <tr>\n",
       "      <th>2022-01-01 01:30:00</th>\n",
       "      <td>279.863157</td>\n",
       "      <td>94169.154667</td>\n",
       "      <td>0.0</td>\n",
       "      <td>90.451803</td>\n",
       "      <td>0.0</td>\n",
       "      <td>8.044655</td>\n",
       "    </tr>\n",
       "    <tr>\n",
       "      <th>2022-01-01 02:00:00</th>\n",
       "      <td>280.836867</td>\n",
       "      <td>94161.158333</td>\n",
       "      <td>0.0</td>\n",
       "      <td>89.879497</td>\n",
       "      <td>0.0</td>\n",
       "      <td>8.111550</td>\n",
       "    </tr>\n",
       "    <tr>\n",
       "      <th>2022-01-01 02:30:00</th>\n",
       "      <td>280.860203</td>\n",
       "      <td>94162.427000</td>\n",
       "      <td>0.0</td>\n",
       "      <td>89.994291</td>\n",
       "      <td>0.0</td>\n",
       "      <td>7.972055</td>\n",
       "    </tr>\n",
       "    <tr>\n",
       "      <th>...</th>\n",
       "      <td>...</td>\n",
       "      <td>...</td>\n",
       "      <td>...</td>\n",
       "      <td>...</td>\n",
       "      <td>...</td>\n",
       "      <td>...</td>\n",
       "    </tr>\n",
       "    <tr>\n",
       "      <th>2024-12-31 22:00:00</th>\n",
       "      <td>232.595527</td>\n",
       "      <td>94211.806333</td>\n",
       "      <td>0.0</td>\n",
       "      <td>87.387340</td>\n",
       "      <td>0.0</td>\n",
       "      <td>-0.504794</td>\n",
       "    </tr>\n",
       "    <tr>\n",
       "      <th>2024-12-31 22:30:00</th>\n",
       "      <td>232.609777</td>\n",
       "      <td>94189.012667</td>\n",
       "      <td>0.0</td>\n",
       "      <td>87.563567</td>\n",
       "      <td>0.0</td>\n",
       "      <td>-0.296828</td>\n",
       "    </tr>\n",
       "    <tr>\n",
       "      <th>2024-12-31 23:00:00</th>\n",
       "      <td>232.345020</td>\n",
       "      <td>94169.524667</td>\n",
       "      <td>0.0</td>\n",
       "      <td>89.921251</td>\n",
       "      <td>0.0</td>\n",
       "      <td>-0.392922</td>\n",
       "    </tr>\n",
       "    <tr>\n",
       "      <th>2024-12-31 23:30:00</th>\n",
       "      <td>234.211100</td>\n",
       "      <td>94168.412667</td>\n",
       "      <td>0.0</td>\n",
       "      <td>81.942686</td>\n",
       "      <td>0.0</td>\n",
       "      <td>0.792661</td>\n",
       "    </tr>\n",
       "    <tr>\n",
       "      <th>2025-01-01 00:00:00</th>\n",
       "      <td>231.760533</td>\n",
       "      <td>94170.793333</td>\n",
       "      <td>0.0</td>\n",
       "      <td>88.444646</td>\n",
       "      <td>0.0</td>\n",
       "      <td>-0.422600</td>\n",
       "    </tr>\n",
       "  </tbody>\n",
       "</table>\n",
       "<p>52526 rows × 6 columns</p>\n",
       "</div>"
      ],
      "text/plain": [
       "                     LW_IN_T1_47_1    PA_T1_47_1  PPFD_IN_T1_47_1  RH_T1_47_1  SW_IN_T1_47_1  TA_T1_47_1\n",
       "TIMESTAMP_END                                                                                           \n",
       "2022-01-01 00:30:00     281.339657  94173.592000              0.0   89.611768            0.0    8.437600\n",
       "2022-01-01 01:00:00     280.357413  94174.110667              0.0   89.877390            0.0    8.238294\n",
       "2022-01-01 01:30:00     279.863157  94169.154667              0.0   90.451803            0.0    8.044655\n",
       "2022-01-01 02:00:00     280.836867  94161.158333              0.0   89.879497            0.0    8.111550\n",
       "2022-01-01 02:30:00     280.860203  94162.427000              0.0   89.994291            0.0    7.972055\n",
       "...                            ...           ...              ...         ...            ...         ...\n",
       "2024-12-31 22:00:00     232.595527  94211.806333              0.0   87.387340            0.0   -0.504794\n",
       "2024-12-31 22:30:00     232.609777  94189.012667              0.0   87.563567            0.0   -0.296828\n",
       "2024-12-31 23:00:00     232.345020  94169.524667              0.0   89.921251            0.0   -0.392922\n",
       "2024-12-31 23:30:00     234.211100  94168.412667              0.0   81.942686            0.0    0.792661\n",
       "2025-01-01 00:00:00     231.760533  94170.793333              0.0   88.444646            0.0   -0.422600\n",
       "\n",
       "[52526 rows x 6 columns]"
      ]
     },
     "execution_count": 4,
     "metadata": {},
     "output_type": "execute_result"
    }
   ],
   "source": [
    "data_simple_diive"
   ]
  },
  {
   "cell_type": "markdown",
   "id": "fe5dee76-b0b1-4d21-a68b-67cc38b40556",
   "metadata": {},
   "source": [
    "## Correction: adjust units `PA`"
   ]
  },
  {
   "cell_type": "code",
   "execution_count": 5,
   "id": "aff9592b-989f-4ce2-a672-b626c4dcf03e",
   "metadata": {},
   "outputs": [
    {
     "data": {
      "text/html": [
       "<div>\n",
       "<style scoped>\n",
       "    .dataframe tbody tr th:only-of-type {\n",
       "        vertical-align: middle;\n",
       "    }\n",
       "\n",
       "    .dataframe tbody tr th {\n",
       "        vertical-align: top;\n",
       "    }\n",
       "\n",
       "    .dataframe thead th {\n",
       "        text-align: right;\n",
       "    }\n",
       "</style>\n",
       "<table border=\"1\" class=\"dataframe\">\n",
       "  <thead>\n",
       "    <tr style=\"text-align: right;\">\n",
       "      <th></th>\n",
       "      <th>LW_IN_T1_47_1</th>\n",
       "      <th>PA_T1_47_1</th>\n",
       "      <th>PPFD_IN_T1_47_1</th>\n",
       "      <th>RH_T1_47_1</th>\n",
       "      <th>SW_IN_T1_47_1</th>\n",
       "      <th>TA_T1_47_1</th>\n",
       "    </tr>\n",
       "    <tr>\n",
       "      <th>TIMESTAMP_END</th>\n",
       "      <th></th>\n",
       "      <th></th>\n",
       "      <th></th>\n",
       "      <th></th>\n",
       "      <th></th>\n",
       "      <th></th>\n",
       "    </tr>\n",
       "  </thead>\n",
       "  <tbody>\n",
       "    <tr>\n",
       "      <th>2022-01-01 00:30:00</th>\n",
       "      <td>281.339657</td>\n",
       "      <td>94.173592</td>\n",
       "      <td>0.0</td>\n",
       "      <td>89.611768</td>\n",
       "      <td>0.0</td>\n",
       "      <td>8.437600</td>\n",
       "    </tr>\n",
       "    <tr>\n",
       "      <th>2022-01-01 01:00:00</th>\n",
       "      <td>280.357413</td>\n",
       "      <td>94.174111</td>\n",
       "      <td>0.0</td>\n",
       "      <td>89.877390</td>\n",
       "      <td>0.0</td>\n",
       "      <td>8.238294</td>\n",
       "    </tr>\n",
       "    <tr>\n",
       "      <th>2022-01-01 01:30:00</th>\n",
       "      <td>279.863157</td>\n",
       "      <td>94.169155</td>\n",
       "      <td>0.0</td>\n",
       "      <td>90.451803</td>\n",
       "      <td>0.0</td>\n",
       "      <td>8.044655</td>\n",
       "    </tr>\n",
       "    <tr>\n",
       "      <th>2022-01-01 02:00:00</th>\n",
       "      <td>280.836867</td>\n",
       "      <td>94.161158</td>\n",
       "      <td>0.0</td>\n",
       "      <td>89.879497</td>\n",
       "      <td>0.0</td>\n",
       "      <td>8.111550</td>\n",
       "    </tr>\n",
       "    <tr>\n",
       "      <th>2022-01-01 02:30:00</th>\n",
       "      <td>280.860203</td>\n",
       "      <td>94.162427</td>\n",
       "      <td>0.0</td>\n",
       "      <td>89.994291</td>\n",
       "      <td>0.0</td>\n",
       "      <td>7.972055</td>\n",
       "    </tr>\n",
       "    <tr>\n",
       "      <th>...</th>\n",
       "      <td>...</td>\n",
       "      <td>...</td>\n",
       "      <td>...</td>\n",
       "      <td>...</td>\n",
       "      <td>...</td>\n",
       "      <td>...</td>\n",
       "    </tr>\n",
       "    <tr>\n",
       "      <th>2024-12-31 22:00:00</th>\n",
       "      <td>232.595527</td>\n",
       "      <td>94.211806</td>\n",
       "      <td>0.0</td>\n",
       "      <td>87.387340</td>\n",
       "      <td>0.0</td>\n",
       "      <td>-0.504794</td>\n",
       "    </tr>\n",
       "    <tr>\n",
       "      <th>2024-12-31 22:30:00</th>\n",
       "      <td>232.609777</td>\n",
       "      <td>94.189013</td>\n",
       "      <td>0.0</td>\n",
       "      <td>87.563567</td>\n",
       "      <td>0.0</td>\n",
       "      <td>-0.296828</td>\n",
       "    </tr>\n",
       "    <tr>\n",
       "      <th>2024-12-31 23:00:00</th>\n",
       "      <td>232.345020</td>\n",
       "      <td>94.169525</td>\n",
       "      <td>0.0</td>\n",
       "      <td>89.921251</td>\n",
       "      <td>0.0</td>\n",
       "      <td>-0.392922</td>\n",
       "    </tr>\n",
       "    <tr>\n",
       "      <th>2024-12-31 23:30:00</th>\n",
       "      <td>234.211100</td>\n",
       "      <td>94.168413</td>\n",
       "      <td>0.0</td>\n",
       "      <td>81.942686</td>\n",
       "      <td>0.0</td>\n",
       "      <td>0.792661</td>\n",
       "    </tr>\n",
       "    <tr>\n",
       "      <th>2025-01-01 00:00:00</th>\n",
       "      <td>231.760533</td>\n",
       "      <td>94.170793</td>\n",
       "      <td>0.0</td>\n",
       "      <td>88.444646</td>\n",
       "      <td>0.0</td>\n",
       "      <td>-0.422600</td>\n",
       "    </tr>\n",
       "  </tbody>\n",
       "</table>\n",
       "<p>52526 rows × 6 columns</p>\n",
       "</div>"
      ],
      "text/plain": [
       "                     LW_IN_T1_47_1  PA_T1_47_1  PPFD_IN_T1_47_1  RH_T1_47_1  SW_IN_T1_47_1  TA_T1_47_1\n",
       "TIMESTAMP_END                                                                                         \n",
       "2022-01-01 00:30:00     281.339657   94.173592              0.0   89.611768            0.0    8.437600\n",
       "2022-01-01 01:00:00     280.357413   94.174111              0.0   89.877390            0.0    8.238294\n",
       "2022-01-01 01:30:00     279.863157   94.169155              0.0   90.451803            0.0    8.044655\n",
       "2022-01-01 02:00:00     280.836867   94.161158              0.0   89.879497            0.0    8.111550\n",
       "2022-01-01 02:30:00     280.860203   94.162427              0.0   89.994291            0.0    7.972055\n",
       "...                            ...         ...              ...         ...            ...         ...\n",
       "2024-12-31 22:00:00     232.595527   94.211806              0.0   87.387340            0.0   -0.504794\n",
       "2024-12-31 22:30:00     232.609777   94.189013              0.0   87.563567            0.0   -0.296828\n",
       "2024-12-31 23:00:00     232.345020   94.169525              0.0   89.921251            0.0   -0.392922\n",
       "2024-12-31 23:30:00     234.211100   94.168413              0.0   81.942686            0.0    0.792661\n",
       "2025-01-01 00:00:00     231.760533   94.170793              0.0   88.444646            0.0   -0.422600\n",
       "\n",
       "[52526 rows x 6 columns]"
      ]
     },
     "execution_count": 5,
     "metadata": {},
     "output_type": "execute_result"
    }
   ],
   "source": [
    "# Convert units from Pa to kPa\n",
    "data_simple_diive['PA_T1_47_1'] = data_simple_diive['PA_T1_47_1'].divide(1000)\n",
    "data_simple_diive"
   ]
  },
  {
   "cell_type": "markdown",
   "id": "09967401-ab54-4392-9ab2-e57495dbda4f",
   "metadata": {},
   "source": [
    "## Rename variables for merging"
   ]
  },
  {
   "cell_type": "code",
   "execution_count": 6,
   "id": "35a48af4-eeea-4f36-a4b0-9d4d68692ed2",
   "metadata": {},
   "outputs": [
    {
     "data": {
      "text/html": [
       "<div>\n",
       "<style scoped>\n",
       "    .dataframe tbody tr th:only-of-type {\n",
       "        vertical-align: middle;\n",
       "    }\n",
       "\n",
       "    .dataframe tbody tr th {\n",
       "        vertical-align: top;\n",
       "    }\n",
       "\n",
       "    .dataframe thead th {\n",
       "        text-align: right;\n",
       "    }\n",
       "</style>\n",
       "<table border=\"1\" class=\"dataframe\">\n",
       "  <thead>\n",
       "    <tr style=\"text-align: right;\">\n",
       "      <th></th>\n",
       "      <th>LW_IN_T1_47_1</th>\n",
       "      <th>PA_T1_47_1</th>\n",
       "      <th>PPFD_IN_T1_47_1</th>\n",
       "      <th>RH_T1_47_1</th>\n",
       "      <th>SW_IN_T1_47_1</th>\n",
       "      <th>TA_T1_47_1</th>\n",
       "    </tr>\n",
       "    <tr>\n",
       "      <th>TIMESTAMP_END</th>\n",
       "      <th></th>\n",
       "      <th></th>\n",
       "      <th></th>\n",
       "      <th></th>\n",
       "      <th></th>\n",
       "      <th></th>\n",
       "    </tr>\n",
       "  </thead>\n",
       "  <tbody>\n",
       "    <tr>\n",
       "      <th>2022-01-01 00:30:00</th>\n",
       "      <td>281.339657</td>\n",
       "      <td>94.173592</td>\n",
       "      <td>0.0</td>\n",
       "      <td>89.611768</td>\n",
       "      <td>0.0</td>\n",
       "      <td>8.437600</td>\n",
       "    </tr>\n",
       "    <tr>\n",
       "      <th>2022-01-01 01:00:00</th>\n",
       "      <td>280.357413</td>\n",
       "      <td>94.174111</td>\n",
       "      <td>0.0</td>\n",
       "      <td>89.877390</td>\n",
       "      <td>0.0</td>\n",
       "      <td>8.238294</td>\n",
       "    </tr>\n",
       "    <tr>\n",
       "      <th>2022-01-01 01:30:00</th>\n",
       "      <td>279.863157</td>\n",
       "      <td>94.169155</td>\n",
       "      <td>0.0</td>\n",
       "      <td>90.451803</td>\n",
       "      <td>0.0</td>\n",
       "      <td>8.044655</td>\n",
       "    </tr>\n",
       "    <tr>\n",
       "      <th>2022-01-01 02:00:00</th>\n",
       "      <td>280.836867</td>\n",
       "      <td>94.161158</td>\n",
       "      <td>0.0</td>\n",
       "      <td>89.879497</td>\n",
       "      <td>0.0</td>\n",
       "      <td>8.111550</td>\n",
       "    </tr>\n",
       "    <tr>\n",
       "      <th>2022-01-01 02:30:00</th>\n",
       "      <td>280.860203</td>\n",
       "      <td>94.162427</td>\n",
       "      <td>0.0</td>\n",
       "      <td>89.994291</td>\n",
       "      <td>0.0</td>\n",
       "      <td>7.972055</td>\n",
       "    </tr>\n",
       "    <tr>\n",
       "      <th>...</th>\n",
       "      <td>...</td>\n",
       "      <td>...</td>\n",
       "      <td>...</td>\n",
       "      <td>...</td>\n",
       "      <td>...</td>\n",
       "      <td>...</td>\n",
       "    </tr>\n",
       "    <tr>\n",
       "      <th>2024-12-31 22:00:00</th>\n",
       "      <td>232.595527</td>\n",
       "      <td>94.211806</td>\n",
       "      <td>0.0</td>\n",
       "      <td>87.387340</td>\n",
       "      <td>0.0</td>\n",
       "      <td>-0.504794</td>\n",
       "    </tr>\n",
       "    <tr>\n",
       "      <th>2024-12-31 22:30:00</th>\n",
       "      <td>232.609777</td>\n",
       "      <td>94.189013</td>\n",
       "      <td>0.0</td>\n",
       "      <td>87.563567</td>\n",
       "      <td>0.0</td>\n",
       "      <td>-0.296828</td>\n",
       "    </tr>\n",
       "    <tr>\n",
       "      <th>2024-12-31 23:00:00</th>\n",
       "      <td>232.345020</td>\n",
       "      <td>94.169525</td>\n",
       "      <td>0.0</td>\n",
       "      <td>89.921251</td>\n",
       "      <td>0.0</td>\n",
       "      <td>-0.392922</td>\n",
       "    </tr>\n",
       "    <tr>\n",
       "      <th>2024-12-31 23:30:00</th>\n",
       "      <td>234.211100</td>\n",
       "      <td>94.168413</td>\n",
       "      <td>0.0</td>\n",
       "      <td>81.942686</td>\n",
       "      <td>0.0</td>\n",
       "      <td>0.792661</td>\n",
       "    </tr>\n",
       "    <tr>\n",
       "      <th>2025-01-01 00:00:00</th>\n",
       "      <td>231.760533</td>\n",
       "      <td>94.170793</td>\n",
       "      <td>0.0</td>\n",
       "      <td>88.444646</td>\n",
       "      <td>0.0</td>\n",
       "      <td>-0.422600</td>\n",
       "    </tr>\n",
       "  </tbody>\n",
       "</table>\n",
       "<p>52526 rows × 6 columns</p>\n",
       "</div>"
      ],
      "text/plain": [
       "                     LW_IN_T1_47_1  PA_T1_47_1  PPFD_IN_T1_47_1  RH_T1_47_1  SW_IN_T1_47_1  TA_T1_47_1\n",
       "TIMESTAMP_END                                                                                         \n",
       "2022-01-01 00:30:00     281.339657   94.173592              0.0   89.611768            0.0    8.437600\n",
       "2022-01-01 01:00:00     280.357413   94.174111              0.0   89.877390            0.0    8.238294\n",
       "2022-01-01 01:30:00     279.863157   94.169155              0.0   90.451803            0.0    8.044655\n",
       "2022-01-01 02:00:00     280.836867   94.161158              0.0   89.879497            0.0    8.111550\n",
       "2022-01-01 02:30:00     280.860203   94.162427              0.0   89.994291            0.0    7.972055\n",
       "...                            ...         ...              ...         ...            ...         ...\n",
       "2024-12-31 22:00:00     232.595527   94.211806              0.0   87.387340            0.0   -0.504794\n",
       "2024-12-31 22:30:00     232.609777   94.189013              0.0   87.563567            0.0   -0.296828\n",
       "2024-12-31 23:00:00     232.345020   94.169525              0.0   89.921251            0.0   -0.392922\n",
       "2024-12-31 23:30:00     234.211100   94.168413              0.0   81.942686            0.0    0.792661\n",
       "2025-01-01 00:00:00     231.760533   94.170793              0.0   88.444646            0.0   -0.422600\n",
       "\n",
       "[52526 rows x 6 columns]"
      ]
     },
     "execution_count": 6,
     "metadata": {},
     "output_type": "execute_result"
    }
   ],
   "source": [
    "renaming_dict = {\n",
    "    'LW_IN_T1_47_1': 'LW_IN_T1_47_1',\n",
    "    'PPFD_IN_T1_47_1': 'PPFD_IN_T1_47_1',\n",
    "    'RH_T1_47_1': 'RH_T1_47_1',\n",
    "    'SW_IN_T1_47_1': 'SW_IN_T1_47_1',\n",
    "    'TA_T1_47_1': 'TA_T1_47_1',\n",
    "    'PA_T1_47_1': 'PA_T1_47_1'\n",
    "}\n",
    "data_simple_diive = data_simple_diive.rename(columns=renaming_dict)\n",
    "data_simple_diive"
   ]
  },
  {
   "cell_type": "markdown",
   "id": "a73f6e56-dded-495a-a9f2-720e27fe4f96",
   "metadata": {},
   "source": [
    "</br>"
   ]
  },
  {
   "cell_type": "markdown",
   "id": "3806344d-7948-485f-b940-ee1f10c59fc8",
   "metadata": {},
   "source": [
    "</br>"
   ]
  },
  {
   "cell_type": "markdown",
   "id": "62f3c522-9a07-4172-9ead-d2d7cc2f75be",
   "metadata": {},
   "source": [
    "# Data from `mst` meteoscreening (2004-2021)"
   ]
  },
  {
   "cell_type": "markdown",
   "id": "85c3f7fb-9707-463f-9e88-e81f00658f36",
   "metadata": {},
   "source": [
    "## Download"
   ]
  },
  {
   "cell_type": "code",
   "execution_count": 12,
   "id": "b2fbc87e-78b0-4797-a490-606ccaca66c7",
   "metadata": {},
   "outputs": [
    {
     "name": "stdout",
     "output_type": "stream",
     "text": [
      "\n",
      "DOWNLOADING\n",
      "    from bucket ch-lae_processed\n",
      "    variables ['TA_T1_47_1', 'RH_T1_47_1', 'SW_IN_T1_47_1', 'LW_IN_T1_47_1', 'PA_T1_47_1', 'PPFD_IN_T1_47_1']\n",
      "    from measurements ['TA', 'RH', 'LW', 'PPFD', 'SW', 'PA']\n",
      "    from data version ['meteoscreening_mst']\n",
      "    between 2012-08-01 00:00:01 and 2012-09-01 00:00:01\n",
      "    with timezone offset to UTC of 1\n",
      "Using querystring:\n",
      "from(bucket: \"ch-lae_processed\") |> range(start: 2012-08-01T00:00:01+01:00, stop: 2012-09-01T00:00:01+01:00) |> filter(fn: (r) => r[\"_measurement\"] == \"TA\" or r[\"_measurement\"] == \"RH\" or r[\"_measurement\"] == \"LW\" or r[\"_measurement\"] == \"PPFD\" or r[\"_measurement\"] == \"SW\" or r[\"_measurement\"] == \"PA\") |> filter(fn: (r) => r[\"data_version\"] == \"meteoscreening_mst\") |> filter(fn: (r) => r[\"_field\"] == \"TA_T1_47_1\" or r[\"_field\"] == \"RH_T1_47_1\" or r[\"_field\"] == \"SW_IN_T1_47_1\" or r[\"_field\"] == \"LW_IN_T1_47_1\" or r[\"_field\"] == \"PA_T1_47_1\" or r[\"_field\"] == \"PPFD_IN_T1_47_1\") |> pivot(rowKey:[\"_time\"], columnKey: [\"_field\"], valueColumn: \"_value\")\n",
      "Used querystring: from(bucket: \"ch-lae_processed\") |> range(start: 2012-08-01T00:00:01+01:00, stop: 2012-09-01T00:00:01+01:00) |> filter(fn: (r) => r[\"_measurement\"] == \"TA\" or r[\"_measurement\"] == \"RH\" or r[\"_measurement\"] == \"LW\" or r[\"_measurement\"] == \"PPFD\" or r[\"_measurement\"] == \"SW\" or r[\"_measurement\"] == \"PA\") |> filter(fn: (r) => r[\"data_version\"] == \"meteoscreening_mst\") |> filter(fn: (r) => r[\"_field\"] == \"TA_T1_47_1\" or r[\"_field\"] == \"RH_T1_47_1\" or r[\"_field\"] == \"SW_IN_T1_47_1\" or r[\"_field\"] == \"LW_IN_T1_47_1\" or r[\"_field\"] == \"PA_T1_47_1\" or r[\"_field\"] == \"PPFD_IN_T1_47_1\") |> pivot(rowKey:[\"_time\"], columnKey: [\"_field\"], valueColumn: \"_value\")\n",
      "querystring was constructed from:\n",
      "    bucketstring: from(bucket: \"ch-lae_processed\")\n",
      "    rangestring: |> range(start: 2012-08-01T00:00:01+01:00, stop: 2012-09-01T00:00:01+01:00)\n",
      "    measurementstring: |> filter(fn: (r) => r[\"_measurement\"] == \"TA\" or r[\"_measurement\"] == \"RH\" or r[\"_measurement\"] == \"LW\" or r[\"_measurement\"] == \"PPFD\" or r[\"_measurement\"] == \"SW\" or r[\"_measurement\"] == \"PA\")\n",
      "    dataversionstring: |> filter(fn: (r) => r[\"data_version\"] == \"meteoscreening_mst\")\n",
      "    fieldstring: |> filter(fn: (r) => r[\"_field\"] == \"TA_T1_47_1\" or r[\"_field\"] == \"RH_T1_47_1\" or r[\"_field\"] == \"SW_IN_T1_47_1\" or r[\"_field\"] == \"LW_IN_T1_47_1\" or r[\"_field\"] == \"PA_T1_47_1\" or r[\"_field\"] == \"PPFD_IN_T1_47_1\")\n",
      "    pivotstring: |> pivot(rowKey:[\"_time\"], columnKey: [\"_field\"], valueColumn: \"_value\")\n",
      "Download finished.\n",
      "Downloaded data for 6 variables:\n",
      "<-- LW_IN_T1_47_1  (1441 records)  first date: 2012-08-01 00:30:00  last date: 2012-09-01 00:00:00\n",
      "<-- PA_T1_47_1  (1447 records)  first date: 2012-08-01 00:30:00  last date: 2012-09-01 00:00:00\n",
      "<-- PPFD_IN_T1_47_1  (1454 records)  first date: 2012-08-01 00:30:00  last date: 2012-09-01 00:00:00\n",
      "<-- RH_T1_47_1  (1454 records)  first date: 2012-08-01 00:30:00  last date: 2012-09-01 00:00:00\n",
      "<-- SW_IN_T1_47_1  (1453 records)  first date: 2012-08-01 00:30:00  last date: 2012-09-01 00:00:00\n",
      "<-- TA_T1_47_1  (1454 records)  first date: 2012-08-01 00:30:00  last date: 2012-09-01 00:00:00\n",
      "========================================\n",
      "Fields in measurement TA of bucket ch-lae_processed:\n",
      "#1  ch-lae_processed  TA  TA_EP\n",
      "#2  ch-lae_processed  TA  TA_ERA\n",
      "#3  ch-lae_processed  TA  TA_F\n",
      "#4  ch-lae_processed  TA  TA_FF1_2_1\n",
      "#5  ch-lae_processed  TA  TA_F_MDS\n",
      "#6  ch-lae_processed  TA  TA_F_MDS_QC\n",
      "#7  ch-lae_processed  TA  TA_F_QC\n",
      "#8  ch-lae_processed  TA  TA_H1_0_1\n",
      "#9  ch-lae_processed  TA  TA_IRGA70_PRF_M1_0.1_1\n",
      "#10  ch-lae_processed  TA  TA_IRGA70_PRF_M1_1_1\n",
      "#11  ch-lae_processed  TA  TA_IRGA70_PRF_M2_0.1_1\n",
      "#12  ch-lae_processed  TA  TA_IRGA70_PRF_M2_1_1\n",
      "#13  ch-lae_processed  TA  TA_IRGA70_PRF_T1_0.1_1\n",
      "#14  ch-lae_processed  TA  TA_IRGA70_PRF_T1_1_1\n",
      "#15  ch-lae_processed  TA  TA_IRGA70_PRF_T1_27_1\n",
      "#16  ch-lae_processed  TA  TA_IRGA70_PRF_T1_3_1\n",
      "#17  ch-lae_processed  TA  TA_IRGA70_PRF_T1_44_1\n",
      "#18  ch-lae_processed  TA  TA_IRGA70_PRF_T1_54_1\n",
      "#19  ch-lae_processed  TA  TA_IRGA70_PRF_T1_5_1\n",
      "#20  ch-lae_processed  TA  TA_IRGA70_PRF_T1_9_1\n",
      "#21  ch-lae_processed  TA  TA_NABEL_T1_49_1\n",
      "#22  ch-lae_processed  TA  TA_PRF_T1_0.1_1\n",
      "#23  ch-lae_processed  TA  TA_PRF_T1_0.4_1\n",
      "#24  ch-lae_processed  TA  TA_PRF_T1_10_1\n",
      "#25  ch-lae_processed  TA  TA_PRF_T1_27_1\n",
      "#26  ch-lae_processed  TA  TA_PRF_T1_44_1\n",
      "#27  ch-lae_processed  TA  TA_PRF_T1_54_1\n",
      "#28  ch-lae_processed  TA  TA_T1_47_1\n",
      "#29  ch-lae_processed  TA  T_SONIC\n",
      "Found 29 fields in measurement TA of bucket ch-lae_processed.\n",
      "========================================\n",
      "========================================\n",
      "Fields in measurement RH of bucket ch-lae_processed:\n",
      "#1  ch-lae_processed  RH  RH\n",
      "#2  ch-lae_processed  RH  RH_1_1_1\n",
      "#3  ch-lae_processed  RH  RH_EP\n",
      "#4  ch-lae_processed  RH  RH_FF1_2_1\n",
      "#5  ch-lae_processed  RH  RH_NABEL_T1_49_1\n",
      "#6  ch-lae_processed  RH  RH_PRF_T1_0.1_1\n",
      "#7  ch-lae_processed  RH  RH_PRF_T1_0.4_1\n",
      "#8  ch-lae_processed  RH  RH_PRF_T1_10_1\n",
      "#9  ch-lae_processed  RH  RH_PRF_T1_27_1\n",
      "#10  ch-lae_processed  RH  RH_PRF_T1_44_1\n",
      "#11  ch-lae_processed  RH  RH_PRF_T1_54_1\n",
      "#12  ch-lae_processed  RH  RH_T1_47_1\n",
      "Found 12 fields in measurement RH of bucket ch-lae_processed.\n",
      "========================================\n",
      "========================================\n",
      "Fields in measurement LW of bucket ch-lae_processed:\n",
      "#1  ch-lae_processed  LW  LW_IN_COR_T1_47_1\n",
      "#2  ch-lae_processed  LW  LW_IN_ERA\n",
      "#3  ch-lae_processed  LW  LW_IN_F\n",
      "#4  ch-lae_processed  LW  LW_IN_F_MDS\n",
      "#5  ch-lae_processed  LW  LW_IN_F_MDS_QC\n",
      "#6  ch-lae_processed  LW  LW_IN_F_QC\n",
      "#7  ch-lae_processed  LW  LW_IN_JSB\n",
      "#8  ch-lae_processed  LW  LW_IN_JSB_ERA\n",
      "#9  ch-lae_processed  LW  LW_IN_JSB_F\n",
      "#10  ch-lae_processed  LW  LW_IN_JSB_F_QC\n",
      "#11  ch-lae_processed  LW  LW_IN_JSB_QC\n",
      "#12  ch-lae_processed  LW  LW_IN_T1_47_1\n",
      "#13  ch-lae_processed  LW  LW_OUT_COR_T1_47_1\n",
      "#14  ch-lae_processed  LW  LW_OUT_T1_47_1\n",
      "Found 14 fields in measurement LW of bucket ch-lae_processed.\n",
      "========================================\n",
      "========================================\n",
      "Fields in measurement PPFD of bucket ch-lae_processed:\n",
      "#1  ch-lae_processed  PPFD  PPFD_DIF_T1_47_1\n",
      "#2  ch-lae_processed  PPFD  PPFD_IN\n",
      "#3  ch-lae_processed  PPFD  PPFD_IN_CORRECTED_T1_47_1\n",
      "#4  ch-lae_processed  PPFD  PPFD_IN_CORRECTED_T1_47_2\n",
      "#5  ch-lae_processed  PPFD  PPFD_IN_FF1_2_1\n",
      "#6  ch-lae_processed  PPFD  PPFD_IN_T1_47_1\n",
      "#7  ch-lae_processed  PPFD  PPFD_IN_T1_47_2\n",
      "#8  ch-lae_processed  PPFD  PPFD_OUT_CORRECTED_T1_47_1\n",
      "#9  ch-lae_processed  PPFD  PPFD_OUT_CORRECTED_T1_47_2\n",
      "#10  ch-lae_processed  PPFD  PPFD_OUT_T1_47_1\n",
      "#11  ch-lae_processed  PPFD  PPFD_OUT_T1_47_2\n",
      "Found 11 fields in measurement PPFD of bucket ch-lae_processed.\n",
      "========================================\n",
      "========================================\n",
      "Fields in measurement SW of bucket ch-lae_processed:\n",
      "#1  ch-lae_processed  SW  NIGHT\n",
      "#2  ch-lae_processed  SW  SW_IN_CORRECTED_T1_47_1\n",
      "#3  ch-lae_processed  SW  SW_IN_ERA\n",
      "#4  ch-lae_processed  SW  SW_IN_F\n",
      "#5  ch-lae_processed  SW  SW_IN_F_MDS\n",
      "#6  ch-lae_processed  SW  SW_IN_F_MDS_QC\n",
      "#7  ch-lae_processed  SW  SW_IN_F_QC\n",
      "#8  ch-lae_processed  SW  SW_IN_NABEL_T1_49_1\n",
      "#9  ch-lae_processed  SW  SW_IN_POT\n",
      "#10  ch-lae_processed  SW  SW_IN_T1_47_1\n",
      "#11  ch-lae_processed  SW  SW_OUT_CORRECTED_T1_47_1\n",
      "#12  ch-lae_processed  SW  SW_OUT_T1_47_1\n",
      "Found 12 fields in measurement SW of bucket ch-lae_processed.\n",
      "========================================\n",
      "========================================\n",
      "Fields in measurement PA of bucket ch-lae_processed:\n",
      "#1  ch-lae_processed  PA  CUSTOM_AIR_P_MEAN\n",
      "#2  ch-lae_processed  PA  PA\n",
      "#3  ch-lae_processed  PA  PA_EP\n",
      "#4  ch-lae_processed  PA  PA_ERA\n",
      "#5  ch-lae_processed  PA  PA_F\n",
      "#6  ch-lae_processed  PA  PA_F_QC\n",
      "#7  ch-lae_processed  PA  PA_H1_0_1\n",
      "#8  ch-lae_processed  PA  PA_IRGA70_PRF_M1_0.1_1\n",
      "#9  ch-lae_processed  PA  PA_IRGA70_PRF_M1_1_1\n",
      "#10  ch-lae_processed  PA  PA_IRGA70_PRF_M2_0.1_1\n",
      "#11  ch-lae_processed  PA  PA_IRGA70_PRF_M2_1_1\n",
      "#12  ch-lae_processed  PA  PA_IRGA70_PRF_T1_0.1_1\n",
      "#13  ch-lae_processed  PA  PA_IRGA70_PRF_T1_1_1\n",
      "#14  ch-lae_processed  PA  PA_IRGA70_PRF_T1_27_1\n",
      "#15  ch-lae_processed  PA  PA_IRGA70_PRF_T1_3_1\n",
      "#16  ch-lae_processed  PA  PA_IRGA70_PRF_T1_44_1\n",
      "#17  ch-lae_processed  PA  PA_IRGA70_PRF_T1_54_1\n",
      "#18  ch-lae_processed  PA  PA_IRGA70_PRF_T1_5_1\n",
      "#19  ch-lae_processed  PA  PA_IRGA70_PRF_T1_9_1\n",
      "#20  ch-lae_processed  PA  PA_NABEL_H1_2_1\n",
      "#21  ch-lae_processed  PA  PA_T1_47_1\n",
      "Found 21 fields in measurement PA of bucket ch-lae_processed.\n",
      "========================================\n",
      "CPU times: total: 250 ms\n",
      "Wall time: 665 ms\n"
     ]
    }
   ],
   "source": [
    "%%time\n",
    "\n",
    "BUCKET = f'ch-lae_processed'\n",
    "FIELDS = ['TA_T1_47_1', 'RH_T1_47_1', 'SW_IN_T1_47_1', 'LW_IN_T1_47_1', 'PA_T1_47_1', 'PPFD_IN_T1_47_1']\n",
    "MEASUREMENTS = ['TA', 'RH', 'LW', 'PPFD', 'SW', 'PA']\n",
    "START = '2012-08-01 00:00:01'\n",
    "STOP = '2012-09-01 00:00:01'\n",
    "DATA_VERSION = 'meteoscreening_mst'\n",
    "\n",
    "data_simple_mst, data_detailed_mst, assigned_measurements_mst = dbc.download(\n",
    "    bucket=BUCKET,\n",
    "    measurements=MEASUREMENTS,\n",
    "    fields=FIELDS,\n",
    "    start=START,  # Download data starting with this date (the start date itself IS included),\n",
    "    stop=STOP,  # Download data before this date (the stop date itself IS NOT included),\n",
    "    timezone_offset_to_utc_hours=TIMEZONE_OFFSET_TO_UTC_HOURS,\n",
    "    data_version=DATA_VERSION\n",
    ")"
   ]
  },
  {
   "cell_type": "code",
   "execution_count": 13,
   "id": "f569fe0f-0c42-4723-94d4-8c19074430b5",
   "metadata": {},
   "outputs": [
    {
     "data": {
      "text/html": [
       "<div>\n",
       "<style scoped>\n",
       "    .dataframe tbody tr th:only-of-type {\n",
       "        vertical-align: middle;\n",
       "    }\n",
       "\n",
       "    .dataframe tbody tr th {\n",
       "        vertical-align: top;\n",
       "    }\n",
       "\n",
       "    .dataframe thead th {\n",
       "        text-align: right;\n",
       "    }\n",
       "</style>\n",
       "<table border=\"1\" class=\"dataframe\">\n",
       "  <thead>\n",
       "    <tr style=\"text-align: right;\">\n",
       "      <th></th>\n",
       "      <th>LW_IN_T1_47_1</th>\n",
       "      <th>PA_T1_47_1</th>\n",
       "      <th>PPFD_IN_T1_47_1</th>\n",
       "      <th>RH_T1_47_1</th>\n",
       "      <th>SW_IN_T1_47_1</th>\n",
       "      <th>TA_T1_47_1</th>\n",
       "    </tr>\n",
       "    <tr>\n",
       "      <th>TIMESTAMP_END</th>\n",
       "      <th></th>\n",
       "      <th></th>\n",
       "      <th></th>\n",
       "      <th></th>\n",
       "      <th></th>\n",
       "      <th></th>\n",
       "    </tr>\n",
       "  </thead>\n",
       "  <tbody>\n",
       "    <tr>\n",
       "      <th>2012-08-01 00:30:00</th>\n",
       "      <td>292.592987</td>\n",
       "      <td>93.325005</td>\n",
       "      <td>4.203</td>\n",
       "      <td>67.760002</td>\n",
       "      <td>-3.132028</td>\n",
       "      <td>16.459999</td>\n",
       "    </tr>\n",
       "    <tr>\n",
       "      <th>2012-08-01 01:00:00</th>\n",
       "      <td>290.269775</td>\n",
       "      <td>93.330002</td>\n",
       "      <td>4.239</td>\n",
       "      <td>71.300003</td>\n",
       "      <td>-3.108510</td>\n",
       "      <td>15.800000</td>\n",
       "    </tr>\n",
       "    <tr>\n",
       "      <th>2012-08-01 01:30:00</th>\n",
       "      <td>288.755890</td>\n",
       "      <td>93.329002</td>\n",
       "      <td>4.206</td>\n",
       "      <td>75.900002</td>\n",
       "      <td>-3.135882</td>\n",
       "      <td>15.100000</td>\n",
       "    </tr>\n",
       "    <tr>\n",
       "      <th>2012-08-01 02:00:00</th>\n",
       "      <td>288.963165</td>\n",
       "      <td>93.331001</td>\n",
       "      <td>4.053</td>\n",
       "      <td>75.300003</td>\n",
       "      <td>-2.698712</td>\n",
       "      <td>15.070000</td>\n",
       "    </tr>\n",
       "    <tr>\n",
       "      <th>2012-08-01 02:30:00</th>\n",
       "      <td>289.736176</td>\n",
       "      <td>93.321999</td>\n",
       "      <td>4.223</td>\n",
       "      <td>73.199997</td>\n",
       "      <td>-2.838045</td>\n",
       "      <td>15.270000</td>\n",
       "    </tr>\n",
       "    <tr>\n",
       "      <th>...</th>\n",
       "      <td>...</td>\n",
       "      <td>...</td>\n",
       "      <td>...</td>\n",
       "      <td>...</td>\n",
       "      <td>...</td>\n",
       "      <td>...</td>\n",
       "    </tr>\n",
       "    <tr>\n",
       "      <th>2012-08-31 22:00:00</th>\n",
       "      <td>359.827820</td>\n",
       "      <td>93.649002</td>\n",
       "      <td>4.164</td>\n",
       "      <td>99.599998</td>\n",
       "      <td>1.146780</td>\n",
       "      <td>7.870000</td>\n",
       "    </tr>\n",
       "    <tr>\n",
       "      <th>2012-08-31 22:30:00</th>\n",
       "      <td>359.167633</td>\n",
       "      <td>93.641998</td>\n",
       "      <td>4.124</td>\n",
       "      <td>99.599998</td>\n",
       "      <td>1.196880</td>\n",
       "      <td>7.690000</td>\n",
       "    </tr>\n",
       "    <tr>\n",
       "      <th>2012-08-31 23:00:00</th>\n",
       "      <td>359.084534</td>\n",
       "      <td>93.640007</td>\n",
       "      <td>4.102</td>\n",
       "      <td>99.599998</td>\n",
       "      <td>1.056559</td>\n",
       "      <td>7.640000</td>\n",
       "    </tr>\n",
       "    <tr>\n",
       "      <th>2012-08-31 23:30:00</th>\n",
       "      <td>358.340546</td>\n",
       "      <td>93.640999</td>\n",
       "      <td>4.126</td>\n",
       "      <td>99.699997</td>\n",
       "      <td>1.126720</td>\n",
       "      <td>7.620000</td>\n",
       "    </tr>\n",
       "    <tr>\n",
       "      <th>2012-09-01 00:00:00</th>\n",
       "      <td>358.743256</td>\n",
       "      <td>93.636002</td>\n",
       "      <td>4.076</td>\n",
       "      <td>99.699997</td>\n",
       "      <td>1.278998</td>\n",
       "      <td>7.610000</td>\n",
       "    </tr>\n",
       "  </tbody>\n",
       "</table>\n",
       "<p>1454 rows × 6 columns</p>\n",
       "</div>"
      ],
      "text/plain": [
       "                     LW_IN_T1_47_1  PA_T1_47_1  PPFD_IN_T1_47_1  RH_T1_47_1  SW_IN_T1_47_1  TA_T1_47_1\n",
       "TIMESTAMP_END                                                                                         \n",
       "2012-08-01 00:30:00     292.592987   93.325005            4.203   67.760002      -3.132028   16.459999\n",
       "2012-08-01 01:00:00     290.269775   93.330002            4.239   71.300003      -3.108510   15.800000\n",
       "2012-08-01 01:30:00     288.755890   93.329002            4.206   75.900002      -3.135882   15.100000\n",
       "2012-08-01 02:00:00     288.963165   93.331001            4.053   75.300003      -2.698712   15.070000\n",
       "2012-08-01 02:30:00     289.736176   93.321999            4.223   73.199997      -2.838045   15.270000\n",
       "...                            ...         ...              ...         ...            ...         ...\n",
       "2012-08-31 22:00:00     359.827820   93.649002            4.164   99.599998       1.146780    7.870000\n",
       "2012-08-31 22:30:00     359.167633   93.641998            4.124   99.599998       1.196880    7.690000\n",
       "2012-08-31 23:00:00     359.084534   93.640007            4.102   99.599998       1.056559    7.640000\n",
       "2012-08-31 23:30:00     358.340546   93.640999            4.126   99.699997       1.126720    7.620000\n",
       "2012-09-01 00:00:00     358.743256   93.636002            4.076   99.699997       1.278998    7.610000\n",
       "\n",
       "[1454 rows x 6 columns]"
      ]
     },
     "execution_count": 13,
     "metadata": {},
     "output_type": "execute_result"
    }
   ],
   "source": [
    "data_simple_mst"
   ]
  },
  {
   "cell_type": "markdown",
   "id": "add13a06-235e-41e3-92ab-fbbd433e90cb",
   "metadata": {},
   "source": [
    "## Correction: timestamp shift in August 2012\n",
    "**Info from fieldbook entry 17 Aug 2012:**\n",
    ">   adjusted the logger date and time. On Servertime (Computer System Time) 17.08.2012 12:31.42 the loggertime was 16.08.2012 08:06:00. Synchronized time at 17.08.2012 11:40:00 servertime. The logger data aquisition on the moxa embedded was restarted"
   ]
  },
  {
   "cell_type": "code",
   "execution_count": 42,
   "id": "e2df3b3e-7da3-4d25-ad7b-d8d94f4a1f29",
   "metadata": {},
   "outputs": [
    {
     "data": {
      "image/png": "[encoded data removed]",
      "text/plain": [
       "<Figure size 648x648 with 4 Axes>"
      ]
     },
     "metadata": {},
     "output_type": "display_data"
    }
   ],
   "source": [
    "\n",
    "_series = data_simple_mst['TA_T1_47_1'].copy()\n",
    "_series_corrected = _series.copy()\n",
    "\n",
    "_show_locs = (_series.index >= '2012-08-01 00:00') & (_series.index <= '2012-09-01 00:00')\n",
    "\n",
    "# Get shifted time period\n",
    "# Identify shifted time period\n",
    "# Shift SW_IN by 8.5 hours during shifted time period, create corrected time series\n",
    "ISSUE_START = '2012-08-09 00:00'\n",
    "ISSUE_END = '2012-08-17 00:00'\n",
    "_shifted_locs = (_series.index >= ISSUE_START) & (_series.index <= ISSUE_END)\n",
    "_series_shifted = _series[_shifted_locs].copy()\n",
    "_series_shifted = _series_shifted.dropna()\n",
    "_series_shifted.index = _series_shifted.index + pd.Timedelta(hours=0)\n",
    "_overwrite_locs = (_series_corrected.index >= _series_shifted.index[0]) & (_series_corrected.index <= _series_shifted.index[-1])\n",
    "_series_corrected[_overwrite_locs] = np.nan\n",
    "\n",
    "# _series_corrected = _series.copy()\n",
    "# _overwrite_locs = _series_shifted.index\n",
    "# _series_corrected[_shifted_locs] = np.nan  # Delete data during shifted time period\n",
    "# _series_corrected[_overwrite_locs] = _series_shifted  # Fill-in corrected data\n",
    "\n",
    "fig = plt.figure(figsize=(9, 9), dpi=72)\n",
    "gs = gridspec.GridSpec(1, 2)  # rows, cols\n",
    "gs.update(wspace=0.5, hspace=1, left=.1, right=.9, top=.85, bottom=.1)\n",
    "ax_before = fig.add_subplot(gs[0, 0])\n",
    "ax_after = fig.add_subplot(gs[0, 1])\n",
    "dv.heatmapdatetime(series=_series[_show_locs], ax=ax_before, title=\"Before correction\").plot()\n",
    "dv.heatmapdatetime(series=_series_corrected[_show_locs], ax=ax_after, title=\"After correction\").plot()"
   ]
  },
  {
   "cell_type": "code",
   "execution_count": null,
   "id": "03ae8495-8593-490f-a2ad-d459a94dbd8d",
   "metadata": {},
   "outputs": [],
   "source": [
    "# _swin = data_simple_merged['TA_T1_47_1'].copy()\n",
    "\n",
    "# # Identify shifted time period\n",
    "# _shifted_locs = (_swin.index >= '2012-08-09 00:00') & (_swin.index <= '2012-08-17 00:00')\n",
    "\n",
    "# # Shift SW_IN by 8.5 hours during shifted time period, create corrected time series\n",
    "# _swin_shifted = _swin[_shifted_locs].copy()\n",
    "# _swin_shifted = _swin_shifted.dropna()\n",
    "# _swin_shifted.index = _swin_shifted.index + pd.Timedelta(hours=0)\n",
    "# display(_swin_shifted)\n",
    "\n",
    "# _swin_corrected = _swin.copy()\n",
    "# _overwrite_locs = _swin_shifted.index\n",
    "# _swin_corrected[_shifted_locs] = np.nan  # Delete data during shifted time period\n",
    "# _swin_corrected[_overwrite_locs] = _swin_shifted  # Fill-in corrected data\n",
    "\n",
    "# Plot with data around shifted dates\n",
    "# _show_locs = (_swin.index >= '2012-08-01 00:00') & (_swin.index <= '2012-09-01 00:00')\n",
    "# hm = dv.heatmapdatetime(series=_swin_corrected[_show_locs], title=\"After correction\")\n",
    "# hm.show()\n"
   ]
  },
  {
   "cell_type": "markdown",
   "id": "9e950bac-4e44-41db-88b5-2c23c1d17528",
   "metadata": {},
   "source": [
    "## Rename variables for merging"
   ]
  },
  {
   "cell_type": "code",
   "execution_count": null,
   "id": "0de7ef79-649d-4489-a3aa-ecbd85ef93cf",
   "metadata": {},
   "outputs": [],
   "source": [
    "renaming_dict = {\n",
    "    'LW_IN_T1_47_1': 'LW_IN_T1_47_1',\n",
    "    'PPFD_IN_T1_47_1': 'PPFD_IN_T1_47_1',\n",
    "    'RH_T1_47_1': 'RH_T1_47_1',\n",
    "    'SW_IN_T1_47_1': 'SW_IN_T1_47_1',\n",
    "    'TA_T1_47_1': 'TA_T1_47_1',\n",
    "    'PA_T1_47_1': 'PA_T1_47_1'\n",
    "}\n",
    "data_simple_mst = data_simple_mst.rename(columns=renaming_dict)\n",
    "data_simple_mst"
   ]
  },
  {
   "cell_type": "markdown",
   "id": "a8c1432d-9cae-48eb-91b8-26a81e5c58af",
   "metadata": {},
   "source": [
    "</br>"
   ]
  },
  {
   "cell_type": "markdown",
   "id": "a3df3231-195c-4819-b617-114bf707d2ef",
   "metadata": {},
   "source": [
    "# Merge data"
   ]
  },
  {
   "cell_type": "code",
   "execution_count": null,
   "id": "38b62472-e63c-4591-bd39-f6e58fb9c842",
   "metadata": {},
   "outputs": [],
   "source": [
    "# Merge data on index\n",
    "data_simple_merged = pd.concat([data_simple_diive, data_simple_mst], axis=0)\n",
    "data_simple_merged = data_simple_merged.sort_index()\n",
    "data_simple_merged"
   ]
  },
  {
   "cell_type": "markdown",
   "id": "6d6dc544-49fe-480e-a711-810ec07fb5ed",
   "metadata": {},
   "source": [
    "</br>"
   ]
  },
  {
   "cell_type": "markdown",
   "id": "cfa275c2-7698-4cce-b7e0-ed922a4feded",
   "metadata": {},
   "source": [
    "# Sanitize timestamp"
   ]
  },
  {
   "cell_type": "code",
   "execution_count": null,
   "id": "4cad2c85-1baf-475d-92bc-fa57020ef40c",
   "metadata": {},
   "outputs": [],
   "source": [
    "data_simple_merged = TimestampSanitizer(data=data_simple_merged, output_middle_timestamp=False).get()\n",
    "data_simple_merged"
   ]
  },
  {
   "cell_type": "markdown",
   "id": "bc2a220b-a306-4ca8-a53e-685e9d8dfc20",
   "metadata": {},
   "source": [
    "</br>"
   ]
  },
  {
   "cell_type": "markdown",
   "id": "0e56e71e-de09-43cb-8675-2eae37833b17",
   "metadata": {},
   "source": [
    "# Additional corrections"
   ]
  },
  {
   "cell_type": "markdown",
   "id": "3cd5bb49-cb33-440e-b868-d27b4c8336bd",
   "metadata": {},
   "source": [
    "</br>"
   ]
  },
  {
   "cell_type": "markdown",
   "id": "fdeef0d8-282c-48da-aa3b-d88ab023789b",
   "metadata": {},
   "source": [
    "## Remove offset < 0 from `SW_IN`"
   ]
  },
  {
   "cell_type": "code",
   "execution_count": null,
   "id": "004904ae-ca3c-4c77-89af-dd3eb6856fd0",
   "metadata": {},
   "outputs": [],
   "source": [
    "_swin = data_simple_merged['SW_IN_T1_47_1'].copy()\n",
    "_swin_corrected = remove_radiation_zero_offset(series=_swin, lat=SITE_LAT, lon=SITE_LON, utc_offset=1, showplot=True)\n",
    "data_simple_merged['SW_IN_T1_47_1'] = np.nan\n",
    "data_simple_merged['SW_IN_T1_47_1'] = _swin_corrected"
   ]
  },
  {
   "cell_type": "markdown",
   "id": "a7647c08-8bc2-480b-ac89-3574c24cd9ba",
   "metadata": {},
   "source": [
    "</br>"
   ]
  },
  {
   "cell_type": "markdown",
   "id": "2c812b5f-af97-4ecb-a60d-14e7fbfda30f",
   "metadata": {},
   "source": [
    "## Remove offset >100% from `RH`"
   ]
  },
  {
   "cell_type": "code",
   "execution_count": null,
   "id": "f0579f74-dde8-4eb5-9aad-0de9996a4e82",
   "metadata": {},
   "outputs": [],
   "source": [
    "_rh = data_simple_merged['RH_T1_47_1'].copy()\n",
    "_rh_corrected = remove_relativehumidity_offset(series=_rh, showplot=True)\n",
    "data_simple_merged['RH_T1_47_1'] = np.nan\n",
    "data_simple_merged['RH_T1_47_1'] = _rh_corrected"
   ]
  },
  {
   "cell_type": "markdown",
   "id": "ccbf1824-914f-4e61-83b8-1df4570d72e8",
   "metadata": {},
   "source": [
    "</br>"
   ]
  },
  {
   "cell_type": "markdown",
   "id": "4cf6ccfd-1880-44f1-a6bf-d1ab32fe70f1",
   "metadata": {},
   "source": [
    "# Plot"
   ]
  },
  {
   "cell_type": "code",
   "execution_count": null,
   "id": "35d8717a-9275-4f30-838f-d9bfab2768a8",
   "metadata": {},
   "outputs": [],
   "source": [
    "_plot_df = data_simple_merged[FIELDS].copy()\n",
    "_plot_df = _plot_df.replace(-9999, np.nan)"
   ]
  },
  {
   "cell_type": "markdown",
   "id": "6e3f677e-d077-40f9-9607-fe3ea05ab302",
   "metadata": {},
   "source": [
    "## Time series plot"
   ]
  },
  {
   "cell_type": "code",
   "execution_count": null,
   "id": "92ed3d3e-10a5-484a-b432-97d4045665f9",
   "metadata": {},
   "outputs": [],
   "source": [
    "_plot_df.plot(subplots=True, figsize=(20, 9), title=\"Downloaded data\", alpha=.9, x_compat=True);"
   ]
  },
  {
   "cell_type": "markdown",
   "id": "120ca190-69a2-4322-a8b7-4dfbdef3ec4d",
   "metadata": {},
   "source": [
    "## Heatmaps"
   ]
  },
  {
   "cell_type": "code",
   "execution_count": null,
   "id": "27502ed8-7631-46cf-a24e-0674411739b3",
   "metadata": {},
   "outputs": [],
   "source": [
    "for col in _plot_df.columns:    \n",
    "    series = _plot_df[col]\n",
    "    series.name = col\n",
    "    HeatmapDateTime(series, figsize=(6,9)).show()    "
   ]
  },
  {
   "cell_type": "markdown",
   "id": "03a51d15-d1cc-453f-8031-86abefffb7f8",
   "metadata": {},
   "source": [
    "</br>"
   ]
  },
  {
   "cell_type": "markdown",
   "id": "12ec9658-7195-45ed-aff2-7ed0b9b659bc",
   "metadata": {},
   "source": [
    "# Save to file"
   ]
  },
  {
   "cell_type": "code",
   "execution_count": null,
   "id": "640b6999-44cb-4fca-9680-667ffaca105b",
   "metadata": {},
   "outputs": [],
   "source": [
    "OUTNAME = \"12.1_METEO_NOT-GAPFILLED_2004-2024\"\n",
    "OUTPATH = r\"\"\n",
    "filepath = save_parquet(filename=OUTNAME, data=data_simple_merged, outpath=OUTPATH)\n",
    "data_simple_merged.to_csv(Path(OUTPATH) / f\"{OUTNAME}.csv\")"
   ]
  },
  {
   "cell_type": "markdown",
   "id": "75598218-2da4-4b79-84e6-548bb6489c3f",
   "metadata": {},
   "source": [
    "</br>"
   ]
  },
  {
   "cell_type": "markdown",
   "id": "83c1da49-4f88-4de0-a22a-e19036edb58a",
   "metadata": {},
   "source": [
    "# End of notebook."
   ]
  },
  {
   "cell_type": "code",
   "execution_count": null,
   "id": "d46a6d27-00e9-474b-8c9e-17b81162722f",
   "metadata": {},
   "outputs": [],
   "source": [
    "dt_string = datetime.now().strftime(\"%Y-%m-%d %H:%M:%S\")\n",
    "print(f\"Finished. {dt_string}\")"
   ]
  },
  {
   "cell_type": "markdown",
   "id": "e94a3a97-bd85-4f01-b374-5f8d854c43ce",
   "metadata": {},
   "source": [
    "</br>"
   ]
  },
  {
   "cell_type": "markdown",
   "id": "27c7fd3e-83d0-4440-9e19-4aa8786a9821",
   "metadata": {},
   "source": [
    "</br>"
   ]
  },
  {
   "cell_type": "markdown",
   "id": "e33e3d82-ed10-4047-b34c-35d8530bbdea",
   "metadata": {},
   "source": [
    "</br>"
   ]
  },
  {
   "cell_type": "markdown",
   "id": "9568c391-7bb1-4786-9e00-5243a5ac9b72",
   "metadata": {},
   "source": [
    "</br>"
   ]
  },
  {
   "cell_type": "markdown",
   "id": "83c15222-e5d9-4edb-8ac3-cb3b4be93e60",
   "metadata": {},
   "source": [
    "# Rename variables for merging and for use in EddyPro"
   ]
  },
  {
   "cell_type": "code",
   "execution_count": null,
   "id": "6dcfdce3-ece4-450f-a5a1-378948a4e9fc",
   "metadata": {},
   "outputs": [],
   "source": [
    "# renaming_dict = {\n",
    "#     'LW_IN_F': 'Lwin_1_1_1',\n",
    "#     'PPFD_IN': 'PPFD_1_1_1',\n",
    "#     'RH': 'RH_1_1_1',\n",
    "#     'SW_IN_F': 'Rg_1_1_1',\n",
    "#     'TA_F': 'Ta_1_1_1',\n",
    "#     'PA_F': 'Pa_1_1_1'\n",
    "# }\n",
    "# data_simple_fluxnet = data_simple_fluxnet.rename(columns=renaming_dict)\n",
    "# data_simple_fluxnet"
   ]
  },
  {
   "cell_type": "code",
   "execution_count": null,
   "id": "c19ccba4-0a80-40b0-9c97-673d516d17b6",
   "metadata": {},
   "outputs": [],
   "source": [
    "# renaming_dict = {\n",
    "#     'LW_IN_T1_2_1': 'Lwin_1_1_1',\n",
    "#     'PPFD_IN_T1_2_2': 'PPFD_1_1_1',\n",
    "#     'RH_T1_2_1': 'RH_1_1_1',\n",
    "#     'SW_IN_T1_2_1': 'Rg_1_1_1',\n",
    "#     'TA_T1_2_1': 'Ta_1_1_1',\n",
    "#     'PA_GF1_0.9_1': 'Pa_1_1_1'\n",
    "# }\n",
    "# data_simple = data_simple.rename(columns=renaming_dict)\n",
    "# data_simple"
   ]
  },
  {
   "cell_type": "markdown",
   "id": "3fb49a71-a8d8-4239-941a-f041be10f538",
   "metadata": {},
   "source": [
    "</br>"
   ]
  },
  {
   "cell_type": "markdown",
   "id": "3c050cbf-f015-4711-a6e5-8652a809264b",
   "metadata": {},
   "source": [
    "# **Gap-filling**"
   ]
  },
  {
   "cell_type": "markdown",
   "id": "039dc984-c002-4144-ab69-e95a24e08451",
   "metadata": {},
   "source": [
    "## Rg"
   ]
  },
  {
   "cell_type": "code",
   "execution_count": null,
   "id": "45da113f-95fe-44c7-9768-754192398889",
   "metadata": {},
   "outputs": [],
   "source": [
    "_df = pd.DataFrame()\n",
    "_df['Rg_1_1_1'] = data_simple_merged[['Rg_1_1_1']].copy()\n",
    "_df['SW_IN_POT'] = potrad(timestamp_index=_df.index,\n",
    "                          lat=47.210227,  # CH-CHA\n",
    "                          lon=8.410645,  # CH-CHA\n",
    "                          utc_offset=1)\n",
    "_df"
   ]
  },
  {
   "cell_type": "code",
   "execution_count": null,
   "id": "8dd9dba7-dd30-4756-bf9d-58eb83a0bdd6",
   "metadata": {},
   "outputs": [],
   "source": [
    "xgb = XGBoostTS(\n",
    "    input_df=_df,\n",
    "    target_col='Rg_1_1_1',\n",
    "    perm_n_repeats=10,\n",
    "    include_timestamp_as_features=True,\n",
    "    add_continuous_record_number=True,\n",
    "    n_estimators=1000,\n",
    "    random_state=42,\n",
    "    early_stopping_rounds=50,\n",
    "    n_jobs=-1\n",
    ")"
   ]
  },
  {
   "cell_type": "code",
   "execution_count": null,
   "id": "b22c750a-a054-45c9-8063-7d4382f88b6c",
   "metadata": {
    "scrolled": true
   },
   "outputs": [],
   "source": [
    "xgb.trainmodel(showplot_scores=False, showplot_importance=False)\n",
    "xgb.report_traintest()"
   ]
  },
  {
   "cell_type": "code",
   "execution_count": null,
   "id": "2afa448b-6bfc-44a2-a677-23408ef415cb",
   "metadata": {},
   "outputs": [],
   "source": [
    "xgb.fillgaps(showplot_scores=False, showplot_importance=False)\n",
    "xgb.report_gapfilling()"
   ]
  },
  {
   "cell_type": "code",
   "execution_count": null,
   "id": "2e159f4b-deef-44dc-9a7b-d2630c73c3be",
   "metadata": {},
   "outputs": [],
   "source": [
    "observed = _df['Rg_1_1_1']\n",
    "gapfilled = xgb.get_gapfilled_target()\n",
    "data_simple_merged[gapfilled.name] = gapfilled"
   ]
  },
  {
   "cell_type": "code",
   "execution_count": null,
   "id": "e670f102-0a4e-49d8-872c-68246c7c1929",
   "metadata": {},
   "outputs": [],
   "source": [
    "title=\"Short-wave incoming radiation\"\n",
    "fig, ax = plt.subplots()\n",
    "TimeSeries(series=gapfilled, ax=ax).plot(color='blue')\n",
    "TimeSeries(series=observed, ax=ax).plot(color='orange')\n",
    "fig.suptitle(f'{title}', fontsize=16)\n",
    "# ax.set_ylim(-2000, 200)\n",
    "fig.show()"
   ]
  },
  {
   "cell_type": "markdown",
   "id": "40a0987e-0cc1-4b24-8130-1f9b4c5e80ad",
   "metadata": {},
   "source": [
    "## TA"
   ]
  },
  {
   "cell_type": "code",
   "execution_count": null,
   "id": "f558e732-11cf-4690-aaf7-9a7445eb48bd",
   "metadata": {},
   "outputs": [],
   "source": [
    "_df = pd.DataFrame()\n",
    "_df['Rg_1_1_1_gfXG'] = data_simple_merged['Rg_1_1_1_gfXG'].copy()\n",
    "_df['Ta_1_1_1'] = data_simple_merged['Ta_1_1_1'].copy()\n",
    "_df['SW_IN_POT'] = potrad(timestamp_index=_df.index,\n",
    "                          lat=47.210227,  # CH-CHA\n",
    "                          lon=8.410645,  # CH-CHA\n",
    "                          utc_offset=1)\n",
    "_df"
   ]
  },
  {
   "cell_type": "code",
   "execution_count": null,
   "id": "89ea2c2d-b03b-4fd2-9820-3c979d9ba25e",
   "metadata": {},
   "outputs": [],
   "source": [
    "xgb = XGBoostTS(\n",
    "    input_df=_df,\n",
    "    target_col='Ta_1_1_1',\n",
    "    perm_n_repeats=10,\n",
    "    include_timestamp_as_features=True,\n",
    "    add_continuous_record_number=True,\n",
    "    n_estimators=200,\n",
    "    random_state=42,\n",
    "    early_stopping_rounds=50,\n",
    "    n_jobs=-1\n",
    ")"
   ]
  },
  {
   "cell_type": "code",
   "execution_count": null,
   "id": "50c49a37-a594-4ccf-a264-777d4a345804",
   "metadata": {},
   "outputs": [],
   "source": [
    "xgb.trainmodel(showplot_scores=False, showplot_importance=False)\n",
    "xgb.report_traintest()"
   ]
  },
  {
   "cell_type": "code",
   "execution_count": null,
   "id": "225b7ef4-c8ea-4e1b-8468-9df9dffba063",
   "metadata": {},
   "outputs": [],
   "source": [
    "xgb.fillgaps(showplot_scores=False, showplot_importance=False)\n",
    "xgb.report_gapfilling()"
   ]
  },
  {
   "cell_type": "code",
   "execution_count": null,
   "id": "727e4715-6794-45c8-a762-d027ca55ef87",
   "metadata": {},
   "outputs": [],
   "source": [
    "observed = _df['Ta_1_1_1']\n",
    "gapfilled = xgb.get_gapfilled_target()\n",
    "data_simple_merged[gapfilled.name] = gapfilled"
   ]
  },
  {
   "cell_type": "code",
   "execution_count": null,
   "id": "c44c2e9b-02a6-42e8-959f-d59beded8e03",
   "metadata": {},
   "outputs": [],
   "source": [
    "title=\"Air temperature\"\n",
    "fig, ax = plt.subplots()\n",
    "TimeSeries(series=gapfilled, ax=ax).plot(color='blue')\n",
    "TimeSeries(series=observed, ax=ax).plot(color='orange')\n",
    "fig.suptitle(f'{title}', fontsize=16)\n",
    "# ax.set_ylim(-2000, 200)\n",
    "fig.show()"
   ]
  },
  {
   "cell_type": "markdown",
   "id": "645a47d7-de60-4014-8f3e-35a3b8ee7560",
   "metadata": {},
   "source": [
    "## PPFD"
   ]
  },
  {
   "cell_type": "code",
   "execution_count": null,
   "id": "e32c1a0c-5f7e-413d-b22e-2bd054fcc62d",
   "metadata": {},
   "outputs": [],
   "source": [
    "_df = pd.DataFrame()\n",
    "_df['PPFD_1_1_1'] = data_simple_merged[['PPFD_1_1_1']].copy()\n",
    "_df['Rg_1_1_1_gfXG'] = data_simple_merged[['Rg_1_1_1_gfXG']].copy()\n",
    "_df['SW_IN_POT'] = potrad(timestamp_index=_df.index,\n",
    "                          lat=47.210227,  # CH-CHA\n",
    "                          lon=8.410645,  # CH-CHA\n",
    "                          utc_offset=1)\n",
    "_df"
   ]
  },
  {
   "cell_type": "code",
   "execution_count": null,
   "id": "1ab98e52-aafb-4b9d-8d60-c85f9741447e",
   "metadata": {},
   "outputs": [],
   "source": [
    "xgb = XGBoostTS(\n",
    "    input_df=_df,\n",
    "    target_col='PPFD_1_1_1',\n",
    "    perm_n_repeats=10,\n",
    "    include_timestamp_as_features=True,\n",
    "    add_continuous_record_number=True,\n",
    "    n_estimators=200,\n",
    "    random_state=42,\n",
    "    early_stopping_rounds=50,\n",
    "    n_jobs=-1\n",
    ")"
   ]
  },
  {
   "cell_type": "code",
   "execution_count": null,
   "id": "53d74146-306d-442b-ae1a-f20b270b9198",
   "metadata": {},
   "outputs": [],
   "source": [
    "xgb.trainmodel(showplot_scores=False, showplot_importance=False)\n",
    "xgb.report_traintest()"
   ]
  },
  {
   "cell_type": "code",
   "execution_count": null,
   "id": "eaf63125-9d98-4744-8b53-8dd931b1bbee",
   "metadata": {},
   "outputs": [],
   "source": [
    "xgb.fillgaps(showplot_scores=False, showplot_importance=False)\n",
    "xgb.report_gapfilling()"
   ]
  },
  {
   "cell_type": "code",
   "execution_count": null,
   "id": "fdb02837-56a0-4cee-bb48-d8f9a17ed7ee",
   "metadata": {},
   "outputs": [],
   "source": [
    "observed = _df['PPFD_1_1_1']\n",
    "gapfilled = xgb.get_gapfilled_target()\n",
    "data_simple_merged[gapfilled.name] = gapfilled"
   ]
  },
  {
   "cell_type": "code",
   "execution_count": null,
   "id": "d0b7ab9f-19c9-4e94-9d71-7bccfd913254",
   "metadata": {},
   "outputs": [],
   "source": [
    "title=\"PPFD\"\n",
    "fig, ax = plt.subplots()\n",
    "TimeSeries(series=gapfilled, ax=ax).plot(color='blue')\n",
    "TimeSeries(series=observed, ax=ax).plot(color='orange')\n",
    "fig.suptitle(f'{title}', fontsize=16)\n",
    "# ax.set_ylim(-2000, 200)\n",
    "fig.show()"
   ]
  },
  {
   "cell_type": "markdown",
   "id": "50ed77b8-a4d9-4ab3-ad94-4d9e0f6ca98e",
   "metadata": {},
   "source": [
    "</br>"
   ]
  },
  {
   "cell_type": "markdown",
   "id": "85baa12e-3be8-4406-91bc-2d0d36bc5778",
   "metadata": {},
   "source": [
    "# **Plots**"
   ]
  },
  {
   "cell_type": "code",
   "execution_count": null,
   "id": "4098278c-b554-452a-bb37-37ddac365b02",
   "metadata": {},
   "outputs": [],
   "source": [
    "_plot_df = data_simple_merged[['Lwin_1_1_1', 'PPFD_1_1_1', 'PPFD_1_1_1_gfXG', 'RH_1_1_1', 'Rg_1_1_1', 'Rg_1_1_1_gfXG', 'Ta_1_1_1', 'Ta_1_1_1_gfXG', 'Pa_1_1_1']].copy()\n",
    "_plot_df = _plot_df.replace(-9999, np.nan)"
   ]
  },
  {
   "cell_type": "markdown",
   "id": "5cef7fb4-94ff-45b8-a615-1b4f7d9f0c0b",
   "metadata": {},
   "source": [
    "## Time series plot"
   ]
  },
  {
   "cell_type": "code",
   "execution_count": null,
   "id": "fc3e3fc1-7ef0-4435-9630-18dbd789b338",
   "metadata": {},
   "outputs": [],
   "source": [
    "_plot_df.plot(subplots=True, figsize=(20, 9), title=\"Downloaded data\", alpha=.9, x_compat=True);"
   ]
  },
  {
   "cell_type": "markdown",
   "id": "36330e39-6fe2-4aa2-b953-36c43c1c29cc",
   "metadata": {},
   "source": [
    "## Heatmaps"
   ]
  },
  {
   "cell_type": "code",
   "execution_count": null,
   "id": "7d2f9201-8ff0-4d0e-b811-604c0000a6bc",
   "metadata": {},
   "outputs": [],
   "source": [
    "for col in _plot_df.columns:    \n",
    "    series = _plot_df[col]\n",
    "    series.name = col\n",
    "    HeatmapDateTime(series, figsize=(6,9)).show()    "
   ]
  },
  {
   "cell_type": "markdown",
   "id": "58b37809-cb87-49cd-a250-8df96c96d1ab",
   "metadata": {},
   "source": [
    "</br>"
   ]
  },
  {
   "cell_type": "markdown",
   "id": "286acff9-690e-4ffc-bf1f-9366c513185e",
   "metadata": {},
   "source": [
    "# **Stats**"
   ]
  },
  {
   "cell_type": "code",
   "execution_count": null,
   "id": "d67dff50-05ed-4c45-90ef-f90e3c3588cd",
   "metadata": {},
   "outputs": [],
   "source": [
    "data_simple_merged.describe()"
   ]
  },
  {
   "cell_type": "markdown",
   "id": "a32164aa-70c5-4585-be2a-0ad4c3201bbd",
   "metadata": {},
   "source": [
    "</br>"
   ]
  },
  {
   "cell_type": "markdown",
   "id": "0638070c-bd79-44a5-ba58-df852dea92ca",
   "metadata": {},
   "source": [
    "# **Keep relevant columns**"
   ]
  },
  {
   "cell_type": "code",
   "execution_count": null,
   "id": "3d0c140c-4db5-4caf-b46d-f0427c38da3c",
   "metadata": {},
   "outputs": [],
   "source": [
    "data_simple_merged.columns"
   ]
  },
  {
   "cell_type": "code",
   "execution_count": null,
   "id": "9af0d3c7-243b-4bae-af15-1423bb6ac156",
   "metadata": {},
   "outputs": [],
   "source": [
    "keepcols = ['Lwin_1_1_1', 'RH_1_1_1', 'Pa_1_1_1', 'Rg_1_1_1_gfXG', 'Ta_1_1_1_gfXG', 'PPFD_1_1_1_gfXG']\n",
    "data_simple_merged = data_simple_merged[keepcols].copy()\n",
    "data_simple_merged"
   ]
  },
  {
   "cell_type": "markdown",
   "id": "a05be529-6201-4125-99fd-c744462f2258",
   "metadata": {},
   "source": [
    "</br>"
   ]
  },
  {
   "cell_type": "markdown",
   "id": "31d4f5b0-8a5d-492f-8b39-3244758b558f",
   "metadata": {},
   "source": [
    "# **Add timestamp columns for EddyPro**"
   ]
  },
  {
   "cell_type": "code",
   "execution_count": null,
   "id": "3227ec73-7dc6-4f6e-bef4-48277ab7dab5",
   "metadata": {},
   "outputs": [],
   "source": [
    "# EddyPro needs two columns: date and time\n",
    "data_simple_merged['date'] = data_simple_merged.index.date\n",
    "data_simple_merged['date'] = data_simple_merged['date'].apply(lambda x: x.strftime('%Y-%m-%d'))\n",
    "\n",
    "data_simple_merged['time'] = data_simple_merged.index.time\n",
    "data_simple_merged['time'] = data_simple_merged['time'].apply(lambda x: x.strftime('%H:%M'))\n",
    "\n",
    "# Move date and time columns to start of dataframe\n",
    "col = data_simple_merged.pop('date')\n",
    "data_simple_merged.insert(0, col.name, col)\n",
    "col = data_simple_merged.pop('time')\n",
    "data_simple_merged.insert(1, col.name, col)\n",
    "\n",
    "data_simple_merged"
   ]
  },
  {
   "cell_type": "markdown",
   "id": "3d7d678b-915d-4fb7-a677-965a45ca71c7",
   "metadata": {},
   "source": [
    "</br>"
   ]
  },
  {
   "cell_type": "markdown",
   "id": "03517124-a9de-48a0-9747-54b0f94c087d",
   "metadata": {},
   "source": [
    "# **Add units for EddyPro input file**"
   ]
  },
  {
   "cell_type": "code",
   "execution_count": null,
   "id": "511a78e8-f418-468c-b48d-4040cc8844d2",
   "metadata": {},
   "outputs": [],
   "source": [
    "renaming_dict = {\n",
    "    'date': ('date', 'yyyy-mm-dd'),\n",
    "    'time': ('time', 'HH:MM'),\n",
    "    'Lwin_1_1_1': ('Lwin_1_1_1', 'W+1m-2'),\n",
    "    'PPFD_1_1_1_gfXG': ('PPFD_1_1_1', 'umol+1m-2s-1'),\n",
    "    'RH_1_1_1': ('RH_1_1_1', '%'),\n",
    "    'Rg_1_1_1_gfXG': ('Rg_1_1_1', 'W+1m-2'),\n",
    "    'Ta_1_1_1_gfXG': ('Ta_1_1_1', 'C'),\n",
    "    'Pa_1_1_1': ('Pa_1_1_1', 'kPa')\n",
    "}\n",
    "data_simple_merged = data_simple_merged.rename(columns=renaming_dict)\n",
    "data_simple_merged.columns = pd.MultiIndex.from_tuples(data_simple_merged.columns)\n",
    "data_simple_merged"
   ]
  },
  {
   "cell_type": "markdown",
   "id": "63fa3ae8-87ec-4326-98cd-e965008ced87",
   "metadata": {},
   "source": [
    "</br>"
   ]
  },
  {
   "cell_type": "markdown",
   "id": "8e74f928-4e73-4175-8291-aacef31f1b95",
   "metadata": {},
   "source": [
    "# **Set missing values code** to -9999"
   ]
  },
  {
   "cell_type": "code",
   "execution_count": null,
   "id": "9c355a6c-5092-45e2-9b72-f1fb3b1fec69",
   "metadata": {},
   "outputs": [],
   "source": [
    "# EddyPro needs missing values as -9999\n",
    "data_simple_merged = data_simple_merged.fillna(-9999)\n",
    "data_simple_merged"
   ]
  },
  {
   "cell_type": "markdown",
   "id": "894d8710-edf5-4777-955c-14ff80a5918b",
   "metadata": {},
   "source": [
    "</br>"
   ]
  },
  {
   "cell_type": "markdown",
   "id": "3a4cb00c-df9a-419c-84f8-c194260d0961",
   "metadata": {},
   "source": [
    "# **Save to file**"
   ]
  },
  {
   "cell_type": "code",
   "execution_count": null,
   "id": "adf43267-cf17-4f32-aad3-89730ba1a951",
   "metadata": {},
   "outputs": [],
   "source": [
    "data_simple_merged.to_csv(OUTFILE, index=False)"
   ]
  },
  {
   "cell_type": "markdown",
   "id": "a52b4dd8-c873-45d5-a84b-ce2bab09b39b",
   "metadata": {},
   "source": [
    "</br>"
   ]
  },
  {
   "cell_type": "markdown",
   "id": "0bd0d964-0541-461b-a650-3395171553d4",
   "metadata": {},
   "source": [
    "# **End of notebook**."
   ]
  },
  {
   "cell_type": "code",
   "execution_count": null,
   "id": "e2d9655c-e15f-406c-858a-2788ef401aac",
   "metadata": {},
   "outputs": [],
   "source": [
    "dt_string = datetime.now().strftime(\"%Y-%m-%d %H:%M:%S\")\n",
    "print(f\"Finished. {dt_string}\")"
   ]
  },
  {
   "cell_type": "markdown",
   "id": "70953fc5-e29c-46d7-bd81-3b94b62ab9b0",
   "metadata": {},
   "source": [
    "</br>"
   ]
  },
  {
   "cell_type": "markdown",
   "id": "efaae53c-46b7-475d-bf42-927cc9de53d0",
   "metadata": {},
   "source": [
    "# (Bonus)"
   ]
  },
  {
   "cell_type": "code",
   "execution_count": null,
   "id": "21f4daf2-00df-4026-9d88-3d971b85203d",
   "metadata": {},
   "outputs": [],
   "source": [
    "# ta = data_simple_merged[('Ta_1_1_1', 'C')].copy()\n",
    "# ta = TimestampSanitizer(data=ta).get()\n",
    "# ta = ta.loc[ta.index.year > 2005].copy()\n",
    "# means = ta.groupby(ta.index.year).mean()\n",
    "# means"
   ]
  },
  {
   "cell_type": "code",
   "execution_count": null,
   "id": "6622e242-df5d-41a4-b33f-fb9850d5e512",
   "metadata": {},
   "outputs": [],
   "source": [
    "# means.sort_values(ascending=False).head(5)"
   ]
  },
  {
   "cell_type": "code",
   "execution_count": null,
   "id": "f6c9312b-c520-48e1-adc8-0fc92730ba2a",
   "metadata": {},
   "outputs": [],
   "source": [
    "# means.loc[means.index > 2014].mean()"
   ]
  }
 ],
 "metadata": {
  "kernelspec": {
   "display_name": "Python 3 (ipykernel)",
   "language": "python",
   "name": "python3"
  },
  "language_info": {
   "codemirror_mode": {
    "name": "ipython",
    "version": 3
   },
   "file_extension": ".py",
   "mimetype": "text/x-python",
   "name": "python",
   "nbconvert_exporter": "python",
   "pygments_lexer": "ipython3",
   "version": "3.11.13"
  },
  "toc-autonumbering": false,
  "toc-showcode": false,
  "toc-showmarkdowntxt": false
 },
 "nbformat": 4,
 "nbformat_minor": 5
}
