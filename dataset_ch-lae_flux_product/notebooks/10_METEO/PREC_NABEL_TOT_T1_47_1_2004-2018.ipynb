{
 "cells": [
  {
   "cell_type": "markdown",
   "id": "9a8de845-ab6b-442a-b70a-6d2ebee549e4",
   "metadata": {},
   "source": [
    "![lop](../../images/logo_diive1_128px.png)"
   ]
  },
  {
   "cell_type": "markdown",
   "id": "a12573e8-3455-4d42-aa3e-0fb6e05752df",
   "metadata": {},
   "source": [
    "<span style='font-size:40px; display:block;'>\n",
    "<b>\n",
    "    MeteoScreening from database (influxdb)\n",
    "</b>\n",
    "</span>"
   ]
  },
  {
   "cell_type": "markdown",
   "id": "da92a450-6d6a-43b7-9104-6ded5ec6afde",
   "metadata": {},
   "source": [
    "---\n",
    "**Notebook version**: `7.2` (8 Sep 2024)  \n",
    "**Author**: Lukas Hörtnagl (holukas@ethz.ch)"
   ]
  },
  {
   "cell_type": "markdown",
   "id": "28a4631a-a44c-45b2-93c6-b915dd872584",
   "metadata": {},
   "source": [
    "</br>"
   ]
  },
  {
   "cell_type": "markdown",
   "id": "c5cf5648-c62e-41e1-b4db-ecaeee73fbe3",
   "metadata": {},
   "source": [
    "# **ABOUT THIS NOTEBOOK**"
   ]
  },
  {
   "cell_type": "markdown",
   "id": "2de7b49a-bd26-4a75-aa69-6f659578bb94",
   "metadata": {},
   "source": [
    "In this notebook, the raw data are downloaded from the database, quality-screened, resampled and then uploaded to the database using the [StepwiseMeteoScreeningDb](https://gitlab.ethz.ch/diive/diive/-/blob/main/diive/pkgs/qaqc/meteoscreening.py) class in [diive](https://gitlab.ethz.ch/diive/diive).  \n",
    "\n",
    "**Here is an overview of what is done in this notebook**:\n",
    "- (1) **USER SETTINGS**: First, we specify some general settings for the site and variable\n",
    "- (2) **AUTO-SETTINGS**: With this info, some settings are set automatically\n",
    "- (3) **DOWNLOAD DATA FROM DATABASE WITH `dbc-influxdb`**: Then original raw data are downloaded from the database. This step uses the Python module  \n",
    "`dbc-influxdb` to download the data.\n",
    "- (4) **METEOSCREENING WITH `diive`**: The downloaded data is then quality-screened using the Python library `diive`. The screening is done on the *high-resolution* data,  \n",
    "i.e., in the original time resolution of the raw data. After the screening, data are resampled to 30MIN time resolution, the same resolution that we typically use for the fluxes.\n",
    "- (5) **UPLOAD DATA TO THE DATABASE WITH `dbc-influxdb`**: The screened and resampled data are then uploaded to the database."
   ]
  },
  {
   "cell_type": "markdown",
   "id": "3ef3c1a2-3986-42b6-a313-e1dc9be38e65",
   "metadata": {},
   "source": [
    "</br>"
   ]
  },
  {
   "cell_type": "markdown",
   "id": "82b8ce64-dcc6-43d9-99dd-3271e28723ee",
   "metadata": {},
   "source": [
    "</br>"
   ]
  },
  {
   "cell_type": "markdown",
   "id": "deee7d18-812a-4dc4-b257-f47ac61080d6",
   "metadata": {
    "tags": []
   },
   "source": [
    "# **USER SETTINGS** (please adjust)"
   ]
  },
  {
   "cell_type": "markdown",
   "id": "667c2414-4f9a-480c-a8e4-cc86ff2275bc",
   "metadata": {},
   "source": [
    "## Site"
   ]
  },
  {
   "cell_type": "code",
   "execution_count": 1,
   "id": "f866d0e6-3420-449e-a476-f7b02872e7b2",
   "metadata": {
    "ExecuteTime": {
     "end_time": "2024-10-04T12:28:14.416306Z",
     "start_time": "2024-10-04T12:28:14.405306Z"
    },
    "tags": []
   },
   "outputs": [],
   "source": [
    "SITE = 'ch-lae'\n",
    "SITE_LAT = 47.478333   # CH-LAE\n",
    "SITE_LON = 8.364389  # CH-LAE"
   ]
  },
  {
   "cell_type": "markdown",
   "id": "f033c81f-7240-46a2-91d9-184cc567f3af",
   "metadata": {},
   "source": [
    "## Variables to screen\n",
    "- Specify variables as shown in the database\n",
    "- `FIELDS`: Variables are called FIELDS in the database. InfluxDB stores variable names as '_field'. You can specify multiple fields, given as a list e.g. `['TA_NABEL_T1_35_1', 'TA_T1_20_1]`\n",
    "- `MEASUREMENTS`: Only **one** measurement allowed. Measurement name that is used to group similar variables together, e.g., `TA` contains all air temperature variables, `SW` are all short-wave radiation measurements and `SWC` all soil water measurements. "
   ]
  },
  {
   "cell_type": "code",
   "execution_count": 2,
   "id": "88e73917-7b84-4544-a299-dfec4218832c",
   "metadata": {
    "ExecuteTime": {
     "end_time": "2024-10-04T12:28:14.431306Z",
     "start_time": "2024-10-04T12:28:14.419307Z"
    },
    "tags": []
   },
   "outputs": [],
   "source": [
    "FIELDS = [\n",
    "    'PREC_NABEL_TOT_T1_47_1',\n",
    "]\n",
    "MEASUREMENT = 'PREC'"
   ]
  },
  {
   "cell_type": "markdown",
   "id": "94537296-309f-4a64-89a4-296c0e913463",
   "metadata": {},
   "source": [
    "## Time range to screen\n",
    "- `START`: Screen data starting with this date (the start date itself **IS** included)\n",
    "- `STOP`: Screen data before this date (the stop date itself **IS NOT** included)"
   ]
  },
  {
   "cell_type": "code",
   "execution_count": 3,
   "id": "bbdd2cb0-1d33-473f-b319-c31bd0c7de74",
   "metadata": {
    "ExecuteTime": {
     "end_time": "2024-10-04T12:28:15.460542Z",
     "start_time": "2024-10-04T12:28:15.455543Z"
    },
    "tags": []
   },
   "outputs": [],
   "source": [
    "START = '2004-01-01 00:00:01'\n",
    "STOP = '2019-01-01 00:00:01'"
   ]
  },
  {
   "cell_type": "markdown",
   "id": "b889c13a-40b1-4614-b547-d37592fd3284",
   "metadata": {},
   "source": [
    "## Resampling aggregation\n",
    "- The resampling of the high-res data to 30MIN time resolution will be done using this aggregation method; two options: `mean` or `sum`"
   ]
  },
  {
   "cell_type": "markdown",
   "id": "ca9e3947-fe83-45a9-b6fb-db5cba4dec70",
   "metadata": {},
   "source": [
    "<div class=\"alert alert-block alert-info\">\n",
    "    For <b>precipitation</b> make sure to use `sum` because we need the 30MIN sums.\n",
    "    \n",
    "</div>"
   ]
  },
  {
   "cell_type": "code",
   "execution_count": 4,
   "id": "425d3b22-4470-4c99-b454-af4e1f95f280",
   "metadata": {
    "ExecuteTime": {
     "end_time": "2024-10-04T12:28:17.122652Z",
     "start_time": "2024-10-04T12:28:17.112646Z"
    }
   },
   "outputs": [],
   "source": [
    "# RESAMPLING_AGG = 'mean'\n",
    "RESAMPLING_AGG = 'sum'"
   ]
  },
  {
   "cell_type": "markdown",
   "id": "a25530a5-00b2-47cf-a58c-b501ffbd2fa1",
   "metadata": {},
   "source": [
    "</br>"
   ]
  },
  {
   "cell_type": "markdown",
   "id": "0b23a1c7-02f0-4e08-9e3d-09bb4a5ff024",
   "metadata": {},
   "source": [
    "# **AUTO-SETTINGS**"
   ]
  },
  {
   "cell_type": "markdown",
   "id": "98d97df0-f098-46e5-a605-05f53dad0fbc",
   "metadata": {},
   "source": [
    "## Data settings"
   ]
  },
  {
   "cell_type": "markdown",
   "id": "66e0bd3f-e9b0-4b3f-b8e0-08f6334da771",
   "metadata": {},
   "source": [
    "<div class=\"alert alert-block alert-success\">\n",
    "    <b>New in v7</b> <i>timezone_offset_to_utc_hours</i> is now given as integer, <i>delete_from_db_before_upload</i> deleted time range for variable from database before the new data are uploaded. \n",
    "</div>"
   ]
  },
  {
   "cell_type": "code",
   "execution_count": 5,
   "id": "588064e1-423a-4374-b805-e18dea47ccf6",
   "metadata": {
    "ExecuteTime": {
     "end_time": "2024-10-04T12:28:18.834094Z",
     "start_time": "2024-10-04T12:28:18.818095Z"
    },
    "tags": []
   },
   "outputs": [],
   "source": [
    "DATA_VERSION = 'raw'\n",
    "TIMEZONE_OFFSET_TO_UTC_HOURS = 1  # Timezone, e.g. \"1\" is translated to timezone \"UTC+01:00\" (CET, winter time)\n",
    "RESAMPLING_FREQ = '30min'  # During MeteoScreening the screened high-res data will be resampled to this frequency; '30min' = 30-minute time resolution\n",
    "# DIRCONF = r'P:\\Flux\\RDS_calculations\\_scripts\\_configs\\configs'  # Location of configuration files, needed e.g. for connection to database\n",
    "DIRCONF = r'F:\\Sync\\luhk_work\\20 - CODING\\22 - POET\\configs'"
   ]
  },
  {
   "cell_type": "markdown",
   "id": "1438a32d-27ab-4704-a9c5-9f61dc383dbb",
   "metadata": {
    "tags": []
   },
   "source": [
    "## Imports"
   ]
  },
  {
   "cell_type": "code",
   "execution_count": 6,
   "id": "29ddf759-d10e-4055-8421-592c0642b93c",
   "metadata": {
    "ExecuteTime": {
     "end_time": "2024-10-04T12:28:23.223283Z",
     "start_time": "2024-10-04T12:28:19.407890Z"
    },
    "editable": true,
    "slideshow": {
     "slide_type": ""
    },
    "tags": []
   },
   "outputs": [
    {
     "name": "stdout",
     "output_type": "stream",
     "text": [
      "This page was last modified on: 2025-05-19 15:48:49\n",
      "dbc-influxdb version: v0.13.1\n",
      "diive version: v0.87.0\n"
     ]
    }
   ],
   "source": [
    "import importlib.metadata\n",
    "import warnings\n",
    "from datetime import datetime\n",
    "\n",
    "# %matplotlib inline\n",
    "import pandas as pd\n",
    "# from bokeh.plotting import output_notebook, show\n",
    "# output_notebook()\n",
    "from dbc_influxdb import dbcInflux  # Needed for communicating with the database\n",
    "\n",
    "from diive.core.plotting.timeseries import TimeSeries\n",
    "from diive.core.times.times import DetectFrequency\n",
    "from diive.pkgs.qaqc.meteoscreening import StepwiseMeteoScreeningDb\n",
    "\n",
    "warnings.filterwarnings(action='ignore', category=FutureWarning)\n",
    "warnings.filterwarnings(action='ignore', category=UserWarning)\n",
    "pd.set_option('display.max_rows', 30)\n",
    "pd.set_option('display.max_columns', 30)\n",
    "pd.set_option('display.width', 1000)\n",
    "dt_string = datetime.now().strftime(\"%Y-%m-%d %H:%M:%S\")\n",
    "print(f\"This page was last modified on: {dt_string}\")\n",
    "version_dbc = importlib.metadata.version(\"dbc_influxdb\")\n",
    "print(f\"dbc-influxdb version: v{version_dbc}\")\n",
    "version_diive = importlib.metadata.version(\"diive\")\n",
    "print(f\"diive version: v{version_diive}\")"
   ]
  },
  {
   "cell_type": "markdown",
   "id": "a69ea01d-371a-4a0c-80d1-482396c692a4",
   "metadata": {},
   "source": [
    "## Automatic settings (do not adjust):"
   ]
  },
  {
   "cell_type": "markdown",
   "id": "a82b366b-1fba-4c04-a7a0-e5212b15455d",
   "metadata": {},
   "source": [
    "<div class=\"alert alert-block alert-success\">\n",
    "    <b>New in v7</b> <i>BUCKET_PROCESSED</i> has a new name, buckets for processed data now use the suffix `_processed`.\n",
    "</div>"
   ]
  },
  {
   "cell_type": "code",
   "execution_count": 7,
   "id": "5e1a8ef8-e463-420f-ae90-7bb2349c384f",
   "metadata": {
    "ExecuteTime": {
     "end_time": "2024-10-04T12:28:23.350787Z",
     "start_time": "2024-10-04T12:28:23.342789Z"
    },
    "tags": []
   },
   "outputs": [
    {
     "name": "stdout",
     "output_type": "stream",
     "text": [
      "Bucket containing raw data (source bucket): ch-lae_raw\n",
      "Bucket containing processed data (destination bucket): ch-lae_processed\n"
     ]
    }
   ],
   "source": [
    "BUCKET_RAW = f'{SITE}_raw'  # The 'bucket' where data are stored in the database, e.g., 'ch-lae_raw' contains all raw data for CH-LAE\n",
    "BUCKET_PROCESSED = f'{SITE}_processed'  # The 'bucket' where data are stored in the database, e.g., 'ch-lae_processed' contains all processed data for CH-LAE\n",
    "# BUCKET_PROCESSED= f'a'  # Bucket for testing\n",
    "print(f\"Bucket containing raw data (source bucket): {BUCKET_RAW}\")\n",
    "print(f\"Bucket containing processed data (destination bucket): {BUCKET_PROCESSED}\")"
   ]
  },
  {
   "cell_type": "markdown",
   "id": "571d36f2-4506-4bf2-9c4c-3ee95fc84137",
   "metadata": {},
   "source": [
    "## Connect to database"
   ]
  },
  {
   "cell_type": "code",
   "execution_count": 8,
   "id": "aa3c222a-fc9a-4e88-be9a-13cf4dbcab01",
   "metadata": {
    "ExecuteTime": {
     "end_time": "2024-10-04T12:28:27.475061Z",
     "start_time": "2024-10-04T12:28:23.817215Z"
    },
    "tags": []
   },
   "outputs": [
    {
     "name": "stdout",
     "output_type": "stream",
     "text": [
      "Reading configuration files was successful.\n",
      "Connection to database works.\n"
     ]
    }
   ],
   "source": [
    "dbc = dbcInflux(dirconf=DIRCONF)"
   ]
  },
  {
   "cell_type": "markdown",
   "id": "86eb4803-3883-4f56-ab15-343519791d4f",
   "metadata": {},
   "source": [
    "## Check available variables\n",
    "- Since we are now connected to the database, we can make a quick check if the variable(s) we want to screen are really in the database.  \n",
    "Below you can show show all available fields in the selected measurement.\n",
    "- However, if the desired variable(s) are indeed listed here, it does not necessarily mean that they are also available during the  \n",
    "selected **time period**. This can be the case if the variable(s) for that time period were not uploaded to the database."
   ]
  },
  {
   "cell_type": "code",
   "execution_count": 9,
   "id": "7c79b249-5de1-4740-8cff-51c0a898c567",
   "metadata": {
    "ExecuteTime": {
     "end_time": "2024-10-04T12:28:27.507062Z",
     "start_time": "2024-10-04T12:28:27.494061Z"
    },
    "tags": []
   },
   "outputs": [],
   "source": [
    "# display(dbc.show_fields_in_measurement(bucket=BUCKET_RAW, measurement=MEASUREMENT))"
   ]
  },
  {
   "cell_type": "markdown",
   "id": "49726abb-04da-47d7-9b97-79571f8f3ea9",
   "metadata": {},
   "source": [
    "</br>"
   ]
  },
  {
   "cell_type": "markdown",
   "id": "08de587b-458c-4216-bd0c-df292be357bb",
   "metadata": {},
   "source": [
    "</br>"
   ]
  },
  {
   "cell_type": "markdown",
   "id": "20d8e9f8-7733-4945-a3f6-d61081d48130",
   "metadata": {},
   "source": [
    "# **DOWNLOAD DATA FROM DATABASE WITH `dbc-influxdb`**\n",
    "- Here the Python library `dbc-influxdb` is used to download data from the database.\n",
    "- The name of the library means **d**ata**b**ase **c**ommunication using **influxdb**.\n",
    "- You can find the source code of `dbc-influxdb` [here](https://gitlab.ethz.ch/poet/dbc-influxdb).\n",
    "- There is no need to adjust the settings here, the variables given earlier (above) are directly used.\n",
    "- At this point we have already established the connection to the database and stored the connection details in the variable `dbc`.\n",
    "- Now we can use the method `dbc.download()` to start the data download."
   ]
  },
  {
   "cell_type": "markdown",
   "id": "697aed80-52de-4a9a-8974-65f9e75aee33",
   "metadata": {},
   "source": [
    "## Download data"
   ]
  },
  {
   "cell_type": "code",
   "execution_count": 10,
   "id": "510da65e-6357-46f1-8a10-25babb8ebc5e",
   "metadata": {
    "ExecuteTime": {
     "end_time": "2024-10-04T12:28:45.352922Z",
     "start_time": "2024-10-04T12:28:27.560065Z"
    },
    "tags": []
   },
   "outputs": [
    {
     "name": "stdout",
     "output_type": "stream",
     "text": [
      "\n",
      "DOWNLOADING\n",
      "    from bucket ch-lae_raw\n",
      "    variables ['PREC_NABEL_TOT_T1_47_1']\n",
      "    from measurements ['PREC']\n",
      "    from data version ['raw']\n",
      "    between 2004-01-01 00:00:01 and 2019-01-01 00:00:01\n",
      "    with timezone offset to UTC of 1\n",
      "Using querystring:\n",
      "from(bucket: \"ch-lae_raw\") |> range(start: 2004-01-01T00:00:01+01:00, stop: 2019-01-01T00:00:01+01:00) |> filter(fn: (r) => r[\"_measurement\"] == \"PREC\") |> filter(fn: (r) => r[\"data_version\"] == \"raw\") |> filter(fn: (r) => r[\"_field\"] == \"PREC_NABEL_TOT_T1_47_1\") |> pivot(rowKey:[\"_time\"], columnKey: [\"_field\"], valueColumn: \"_value\")\n",
      "Used querystring: from(bucket: \"ch-lae_raw\") |> range(start: 2004-01-01T00:00:01+01:00, stop: 2019-01-01T00:00:01+01:00) |> filter(fn: (r) => r[\"_measurement\"] == \"PREC\") |> filter(fn: (r) => r[\"data_version\"] == \"raw\") |> filter(fn: (r) => r[\"_field\"] == \"PREC_NABEL_TOT_T1_47_1\") |> pivot(rowKey:[\"_time\"], columnKey: [\"_field\"], valueColumn: \"_value\")\n",
      "querystring was constructed from:\n",
      "    bucketstring: from(bucket: \"ch-lae_raw\")\n",
      "    rangestring: |> range(start: 2004-01-01T00:00:01+01:00, stop: 2019-01-01T00:00:01+01:00)\n",
      "    measurementstring: |> filter(fn: (r) => r[\"_measurement\"] == \"PREC\")\n",
      "    dataversionstring: |> filter(fn: (r) => r[\"data_version\"] == \"raw\")\n",
      "    fieldstring: |> filter(fn: (r) => r[\"_field\"] == \"PREC_NABEL_TOT_T1_47_1\")\n",
      "    pivotstring: |> pivot(rowKey:[\"_time\"], columnKey: [\"_field\"], valueColumn: \"_value\")\n",
      "Download finished.\n",
      "Downloaded data for 1 variables:\n",
      "<-- PREC_NABEL_TOT_T1_47_1  (782220 records)  first date: 2004-01-01 00:10:00  last date: 2019-01-01 00:00:00\n",
      "========================================\n",
      "Fields in measurement PREC of bucket ch-lae_raw:\n",
      "#1  ch-lae_raw  PREC  PREC_NABEL_TOT_T1_27_1\n",
      "#2  ch-lae_raw  PREC  PREC_NABEL_TOT_T1_47_1\n",
      "#3  ch-lae_raw  PREC  PREC_TOT_T1_47_1\n",
      "Found 3 fields in measurement PREC of bucket ch-lae_raw.\n",
      "========================================\n",
      "CPU times: total: 16.7 s\n",
      "Wall time: 21.7 s\n"
     ]
    }
   ],
   "source": [
    "%%time\n",
    "data_simple, data_detailed, assigned_measurements = dbc.download(\n",
    "    bucket=BUCKET_RAW,\n",
    "    measurements=[MEASUREMENT],\n",
    "    fields=FIELDS,\n",
    "    start=START,\n",
    "    stop=STOP,\n",
    "    timezone_offset_to_utc_hours=TIMEZONE_OFFSET_TO_UTC_HOURS,\n",
    "    data_version=DATA_VERSION\n",
    ")"
   ]
  },
  {
   "cell_type": "markdown",
   "id": "644a59f6-23ec-4e15-8aab-8233fa44840d",
   "metadata": {},
   "source": [
    "## Check downloaded data\n",
    "### `dbc` downloads three variables:\n",
    "- `data_simple`: This is the simplest data download. It contains only the high-resolution variable(s) from the specified measurement. Each variable is in a separate column. Since different variables, can have different time resolutions, the highest time resolution across the variables is used as the index. This means that lower resolution variables will show gaps in the higher resolution timestamp.\n",
    "- `data_detailed`: This is the most important variable for the MeteoScreening from the database, because it contains not only the high-resolution time series of the variable(s), but also their tags. The tags are important when uploading data to the database. This is a very special format, because data for each variable are stored in a dictionary. A dictionary is a data structure that stores key-value pairs. The key is the variable name (e.g., `TA_NABEL_T1_35_1`) and the value is a complete dataframe that contains the time series of the respective variable and all tags.\n",
    "- `assigned_measurements`: An auxiliary variable that is useful to check whether the measurement of the variable(s) is correct. In case we are screening air temperatures, the measurement must be `TA`."
   ]
  },
  {
   "cell_type": "markdown",
   "id": "314d2abe-e971-478e-9f0a-ffa1a8fdf163",
   "metadata": {},
   "source": [
    "#### `data_simple`\n",
    "- Simply contains the time series of the measured variable(s) in a nice-to-look-at dataframe."
   ]
  },
  {
   "cell_type": "code",
   "execution_count": 11,
   "id": "23f95438-c32f-4272-aba3-986ec14756d7",
   "metadata": {
    "ExecuteTime": {
     "end_time": "2024-10-04T12:28:45.431434Z",
     "start_time": "2024-10-04T12:28:45.418437Z"
    },
    "tags": []
   },
   "outputs": [
    {
     "data": {
      "text/html": [
       "<div>\n",
       "<style scoped>\n",
       "    .dataframe tbody tr th:only-of-type {\n",
       "        vertical-align: middle;\n",
       "    }\n",
       "\n",
       "    .dataframe tbody tr th {\n",
       "        vertical-align: top;\n",
       "    }\n",
       "\n",
       "    .dataframe thead th {\n",
       "        text-align: right;\n",
       "    }\n",
       "</style>\n",
       "<table border=\"1\" class=\"dataframe\">\n",
       "  <thead>\n",
       "    <tr style=\"text-align: right;\">\n",
       "      <th></th>\n",
       "      <th>PREC_NABEL_TOT_T1_47_1</th>\n",
       "    </tr>\n",
       "    <tr>\n",
       "      <th>TIMESTAMP_END</th>\n",
       "      <th></th>\n",
       "    </tr>\n",
       "  </thead>\n",
       "  <tbody>\n",
       "    <tr>\n",
       "      <th>2004-01-01 00:10:00</th>\n",
       "      <td>0.0</td>\n",
       "    </tr>\n",
       "    <tr>\n",
       "      <th>2004-01-01 00:20:00</th>\n",
       "      <td>0.0</td>\n",
       "    </tr>\n",
       "    <tr>\n",
       "      <th>2004-01-01 00:30:00</th>\n",
       "      <td>0.0</td>\n",
       "    </tr>\n",
       "    <tr>\n",
       "      <th>2004-01-01 00:40:00</th>\n",
       "      <td>0.0</td>\n",
       "    </tr>\n",
       "    <tr>\n",
       "      <th>2004-01-01 00:50:00</th>\n",
       "      <td>0.0</td>\n",
       "    </tr>\n",
       "    <tr>\n",
       "      <th>...</th>\n",
       "      <td>...</td>\n",
       "    </tr>\n",
       "    <tr>\n",
       "      <th>2018-12-31 23:20:00</th>\n",
       "      <td>0.0</td>\n",
       "    </tr>\n",
       "    <tr>\n",
       "      <th>2018-12-31 23:30:00</th>\n",
       "      <td>0.0</td>\n",
       "    </tr>\n",
       "    <tr>\n",
       "      <th>2018-12-31 23:40:00</th>\n",
       "      <td>0.0</td>\n",
       "    </tr>\n",
       "    <tr>\n",
       "      <th>2018-12-31 23:50:00</th>\n",
       "      <td>0.0</td>\n",
       "    </tr>\n",
       "    <tr>\n",
       "      <th>2019-01-01 00:00:00</th>\n",
       "      <td>0.0</td>\n",
       "    </tr>\n",
       "  </tbody>\n",
       "</table>\n",
       "<p>782220 rows × 1 columns</p>\n",
       "</div>"
      ],
      "text/plain": [
       "                     PREC_NABEL_TOT_T1_47_1\n",
       "TIMESTAMP_END                              \n",
       "2004-01-01 00:10:00                     0.0\n",
       "2004-01-01 00:20:00                     0.0\n",
       "2004-01-01 00:30:00                     0.0\n",
       "2004-01-01 00:40:00                     0.0\n",
       "2004-01-01 00:50:00                     0.0\n",
       "...                                     ...\n",
       "2018-12-31 23:20:00                     0.0\n",
       "2018-12-31 23:30:00                     0.0\n",
       "2018-12-31 23:40:00                     0.0\n",
       "2018-12-31 23:50:00                     0.0\n",
       "2019-01-01 00:00:00                     0.0\n",
       "\n",
       "[782220 rows x 1 columns]"
      ]
     },
     "execution_count": 11,
     "metadata": {},
     "output_type": "execute_result"
    }
   ],
   "source": [
    "data_simple"
   ]
  },
  {
   "cell_type": "markdown",
   "id": "8dc9c47e-8c60-47a2-8d81-b8011e4e5c56",
   "metadata": {},
   "source": [
    "#### `data_detailed`\n",
    "- Dictionary of key-value pairs: the variable name is the key, the respective data (measured time series and tags) are the values"
   ]
  },
  {
   "cell_type": "code",
   "execution_count": 12,
   "id": "7f429025-a160-42db-91ac-5f0cc8e1a78d",
   "metadata": {
    "ExecuteTime": {
     "end_time": "2024-10-04T12:28:45.603450Z",
     "start_time": "2024-10-04T12:28:45.578450Z"
    },
    "tags": []
   },
   "outputs": [
    {
     "data": {
      "text/plain": [
       "{'PREC_NABEL_TOT_T1_47_1':                                                 config_filetype data_raw_freq data_version       filegroup   freq gain hpos offset    raw_units raw_varname repl    site units                 varname vpos  PREC_NABEL_TOT_T1_47_1\n",
       " TIMESTAMP_END                                                                                                                                                                                                                      \n",
       " 2004-01-01 00:10:00  LAE13-RAW-NABEL-200401010000-SSV-TXT-10MIN         10min          raw  13_meteo_nabel  10min  1.0   T1    0.0  -not-given-       REGEN    1  CH-LAE    mm  PREC_NABEL_TOT_T1_47_1   47                     0.0\n",
       " 2004-01-01 00:20:00  LAE13-RAW-NABEL-200401010000-SSV-TXT-10MIN         10min          raw  13_meteo_nabel  10min  1.0   T1    0.0  -not-given-       REGEN    1  CH-LAE    mm  PREC_NABEL_TOT_T1_47_1   47                     0.0\n",
       " 2004-01-01 00:30:00  LAE13-RAW-NABEL-200401010000-SSV-TXT-10MIN         10min          raw  13_meteo_nabel  10min  1.0   T1    0.0  -not-given-       REGEN    1  CH-LAE    mm  PREC_NABEL_TOT_T1_47_1   47                     0.0\n",
       " 2004-01-01 00:40:00  LAE13-RAW-NABEL-200401010000-SSV-TXT-10MIN         10min          raw  13_meteo_nabel  10min  1.0   T1    0.0  -not-given-       REGEN    1  CH-LAE    mm  PREC_NABEL_TOT_T1_47_1   47                     0.0\n",
       " 2004-01-01 00:50:00  LAE13-RAW-NABEL-200401010000-SSV-TXT-10MIN         10min          raw  13_meteo_nabel  10min  1.0   T1    0.0  -not-given-       REGEN    1  CH-LAE    mm  PREC_NABEL_TOT_T1_47_1   47                     0.0\n",
       " ...                                                         ...           ...          ...             ...    ...  ...  ...    ...          ...         ...  ...     ...   ...                     ...  ...                     ...\n",
       " 2018-12-31 23:20:00  LAE13-RAW-NABEL-201801010000-SSV-TXT-10MIN         10min          raw  13_meteo_nabel  10min  1.0   T1    0.0  -not-given-       REGEN    1  CH-LAE    mm  PREC_NABEL_TOT_T1_47_1   47                     0.0\n",
       " 2018-12-31 23:30:00  LAE13-RAW-NABEL-201801010000-SSV-TXT-10MIN         10min          raw  13_meteo_nabel  10min  1.0   T1    0.0  -not-given-       REGEN    1  CH-LAE    mm  PREC_NABEL_TOT_T1_47_1   47                     0.0\n",
       " 2018-12-31 23:40:00  LAE13-RAW-NABEL-201801010000-SSV-TXT-10MIN         10min          raw  13_meteo_nabel  10min  1.0   T1    0.0  -not-given-       REGEN    1  CH-LAE    mm  PREC_NABEL_TOT_T1_47_1   47                     0.0\n",
       " 2018-12-31 23:50:00  LAE13-RAW-NABEL-201801010000-SSV-TXT-10MIN         10min          raw  13_meteo_nabel  10min  1.0   T1    0.0  -not-given-       REGEN    1  CH-LAE    mm  PREC_NABEL_TOT_T1_47_1   47                     0.0\n",
       " 2019-01-01 00:00:00  LAE13-RAW-NABEL-201801010000-SSV-TXT-10MIN         10min          raw  13_meteo_nabel  10min  1.0   T1    0.0  -not-given-       REGEN    1  CH-LAE    mm  PREC_NABEL_TOT_T1_47_1   47                     0.0\n",
       " \n",
       " [782220 rows x 16 columns]}"
      ]
     },
     "execution_count": 12,
     "metadata": {},
     "output_type": "execute_result"
    }
   ],
   "source": [
    "data_detailed"
   ]
  },
  {
   "cell_type": "markdown",
   "id": "c75e099c-48ce-4210-9948-11f4185d81d3",
   "metadata": {},
   "source": [
    "<br>\n",
    "Since the output above is not so nice to look at, we loop through the dictionary and display the first and last records for each variable:"
   ]
  },
  {
   "cell_type": "code",
   "execution_count": 13,
   "id": "d9159ccc-b0e5-4b70-bb10-a8c6312bf6ed",
   "metadata": {
    "ExecuteTime": {
     "end_time": "2024-10-04T12:28:45.806082Z",
     "start_time": "2024-10-04T12:28:45.775125Z"
    },
    "tags": []
   },
   "outputs": [
    {
     "name": "stdout",
     "output_type": "stream",
     "text": [
      "----------------------------------------\n",
      "Data for PREC_NABEL_TOT_T1_47_1:\n"
     ]
    },
    {
     "data": {
      "text/html": [
       "<div>\n",
       "<style scoped>\n",
       "    .dataframe tbody tr th:only-of-type {\n",
       "        vertical-align: middle;\n",
       "    }\n",
       "\n",
       "    .dataframe tbody tr th {\n",
       "        vertical-align: top;\n",
       "    }\n",
       "\n",
       "    .dataframe thead th {\n",
       "        text-align: right;\n",
       "    }\n",
       "</style>\n",
       "<table border=\"1\" class=\"dataframe\">\n",
       "  <thead>\n",
       "    <tr style=\"text-align: right;\">\n",
       "      <th></th>\n",
       "      <th>config_filetype</th>\n",
       "      <th>data_raw_freq</th>\n",
       "      <th>data_version</th>\n",
       "      <th>filegroup</th>\n",
       "      <th>freq</th>\n",
       "      <th>gain</th>\n",
       "      <th>hpos</th>\n",
       "      <th>offset</th>\n",
       "      <th>raw_units</th>\n",
       "      <th>raw_varname</th>\n",
       "      <th>repl</th>\n",
       "      <th>site</th>\n",
       "      <th>units</th>\n",
       "      <th>varname</th>\n",
       "      <th>vpos</th>\n",
       "      <th>PREC_NABEL_TOT_T1_47_1</th>\n",
       "    </tr>\n",
       "    <tr>\n",
       "      <th>TIMESTAMP_END</th>\n",
       "      <th></th>\n",
       "      <th></th>\n",
       "      <th></th>\n",
       "      <th></th>\n",
       "      <th></th>\n",
       "      <th></th>\n",
       "      <th></th>\n",
       "      <th></th>\n",
       "      <th></th>\n",
       "      <th></th>\n",
       "      <th></th>\n",
       "      <th></th>\n",
       "      <th></th>\n",
       "      <th></th>\n",
       "      <th></th>\n",
       "      <th></th>\n",
       "    </tr>\n",
       "  </thead>\n",
       "  <tbody>\n",
       "    <tr>\n",
       "      <th>2004-01-01 00:10:00</th>\n",
       "      <td>LAE13-RAW-NABEL-200401010000-SSV-TXT-10MIN</td>\n",
       "      <td>10min</td>\n",
       "      <td>raw</td>\n",
       "      <td>13_meteo_nabel</td>\n",
       "      <td>10min</td>\n",
       "      <td>1.0</td>\n",
       "      <td>T1</td>\n",
       "      <td>0.0</td>\n",
       "      <td>-not-given-</td>\n",
       "      <td>REGEN</td>\n",
       "      <td>1</td>\n",
       "      <td>CH-LAE</td>\n",
       "      <td>mm</td>\n",
       "      <td>PREC_NABEL_TOT_T1_47_1</td>\n",
       "      <td>47</td>\n",
       "      <td>0.0</td>\n",
       "    </tr>\n",
       "    <tr>\n",
       "      <th>2004-01-01 00:20:00</th>\n",
       "      <td>LAE13-RAW-NABEL-200401010000-SSV-TXT-10MIN</td>\n",
       "      <td>10min</td>\n",
       "      <td>raw</td>\n",
       "      <td>13_meteo_nabel</td>\n",
       "      <td>10min</td>\n",
       "      <td>1.0</td>\n",
       "      <td>T1</td>\n",
       "      <td>0.0</td>\n",
       "      <td>-not-given-</td>\n",
       "      <td>REGEN</td>\n",
       "      <td>1</td>\n",
       "      <td>CH-LAE</td>\n",
       "      <td>mm</td>\n",
       "      <td>PREC_NABEL_TOT_T1_47_1</td>\n",
       "      <td>47</td>\n",
       "      <td>0.0</td>\n",
       "    </tr>\n",
       "    <tr>\n",
       "      <th>2004-01-01 00:30:00</th>\n",
       "      <td>LAE13-RAW-NABEL-200401010000-SSV-TXT-10MIN</td>\n",
       "      <td>10min</td>\n",
       "      <td>raw</td>\n",
       "      <td>13_meteo_nabel</td>\n",
       "      <td>10min</td>\n",
       "      <td>1.0</td>\n",
       "      <td>T1</td>\n",
       "      <td>0.0</td>\n",
       "      <td>-not-given-</td>\n",
       "      <td>REGEN</td>\n",
       "      <td>1</td>\n",
       "      <td>CH-LAE</td>\n",
       "      <td>mm</td>\n",
       "      <td>PREC_NABEL_TOT_T1_47_1</td>\n",
       "      <td>47</td>\n",
       "      <td>0.0</td>\n",
       "    </tr>\n",
       "    <tr>\n",
       "      <th>2004-01-01 00:40:00</th>\n",
       "      <td>LAE13-RAW-NABEL-200401010000-SSV-TXT-10MIN</td>\n",
       "      <td>10min</td>\n",
       "      <td>raw</td>\n",
       "      <td>13_meteo_nabel</td>\n",
       "      <td>10min</td>\n",
       "      <td>1.0</td>\n",
       "      <td>T1</td>\n",
       "      <td>0.0</td>\n",
       "      <td>-not-given-</td>\n",
       "      <td>REGEN</td>\n",
       "      <td>1</td>\n",
       "      <td>CH-LAE</td>\n",
       "      <td>mm</td>\n",
       "      <td>PREC_NABEL_TOT_T1_47_1</td>\n",
       "      <td>47</td>\n",
       "      <td>0.0</td>\n",
       "    </tr>\n",
       "    <tr>\n",
       "      <th>2004-01-01 00:50:00</th>\n",
       "      <td>LAE13-RAW-NABEL-200401010000-SSV-TXT-10MIN</td>\n",
       "      <td>10min</td>\n",
       "      <td>raw</td>\n",
       "      <td>13_meteo_nabel</td>\n",
       "      <td>10min</td>\n",
       "      <td>1.0</td>\n",
       "      <td>T1</td>\n",
       "      <td>0.0</td>\n",
       "      <td>-not-given-</td>\n",
       "      <td>REGEN</td>\n",
       "      <td>1</td>\n",
       "      <td>CH-LAE</td>\n",
       "      <td>mm</td>\n",
       "      <td>PREC_NABEL_TOT_T1_47_1</td>\n",
       "      <td>47</td>\n",
       "      <td>0.0</td>\n",
       "    </tr>\n",
       "    <tr>\n",
       "      <th>...</th>\n",
       "      <td>...</td>\n",
       "      <td>...</td>\n",
       "      <td>...</td>\n",
       "      <td>...</td>\n",
       "      <td>...</td>\n",
       "      <td>...</td>\n",
       "      <td>...</td>\n",
       "      <td>...</td>\n",
       "      <td>...</td>\n",
       "      <td>...</td>\n",
       "      <td>...</td>\n",
       "      <td>...</td>\n",
       "      <td>...</td>\n",
       "      <td>...</td>\n",
       "      <td>...</td>\n",
       "      <td>...</td>\n",
       "    </tr>\n",
       "    <tr>\n",
       "      <th>2018-12-31 23:20:00</th>\n",
       "      <td>LAE13-RAW-NABEL-201801010000-SSV-TXT-10MIN</td>\n",
       "      <td>10min</td>\n",
       "      <td>raw</td>\n",
       "      <td>13_meteo_nabel</td>\n",
       "      <td>10min</td>\n",
       "      <td>1.0</td>\n",
       "      <td>T1</td>\n",
       "      <td>0.0</td>\n",
       "      <td>-not-given-</td>\n",
       "      <td>REGEN</td>\n",
       "      <td>1</td>\n",
       "      <td>CH-LAE</td>\n",
       "      <td>mm</td>\n",
       "      <td>PREC_NABEL_TOT_T1_47_1</td>\n",
       "      <td>47</td>\n",
       "      <td>0.0</td>\n",
       "    </tr>\n",
       "    <tr>\n",
       "      <th>2018-12-31 23:30:00</th>\n",
       "      <td>LAE13-RAW-NABEL-201801010000-SSV-TXT-10MIN</td>\n",
       "      <td>10min</td>\n",
       "      <td>raw</td>\n",
       "      <td>13_meteo_nabel</td>\n",
       "      <td>10min</td>\n",
       "      <td>1.0</td>\n",
       "      <td>T1</td>\n",
       "      <td>0.0</td>\n",
       "      <td>-not-given-</td>\n",
       "      <td>REGEN</td>\n",
       "      <td>1</td>\n",
       "      <td>CH-LAE</td>\n",
       "      <td>mm</td>\n",
       "      <td>PREC_NABEL_TOT_T1_47_1</td>\n",
       "      <td>47</td>\n",
       "      <td>0.0</td>\n",
       "    </tr>\n",
       "    <tr>\n",
       "      <th>2018-12-31 23:40:00</th>\n",
       "      <td>LAE13-RAW-NABEL-201801010000-SSV-TXT-10MIN</td>\n",
       "      <td>10min</td>\n",
       "      <td>raw</td>\n",
       "      <td>13_meteo_nabel</td>\n",
       "      <td>10min</td>\n",
       "      <td>1.0</td>\n",
       "      <td>T1</td>\n",
       "      <td>0.0</td>\n",
       "      <td>-not-given-</td>\n",
       "      <td>REGEN</td>\n",
       "      <td>1</td>\n",
       "      <td>CH-LAE</td>\n",
       "      <td>mm</td>\n",
       "      <td>PREC_NABEL_TOT_T1_47_1</td>\n",
       "      <td>47</td>\n",
       "      <td>0.0</td>\n",
       "    </tr>\n",
       "    <tr>\n",
       "      <th>2018-12-31 23:50:00</th>\n",
       "      <td>LAE13-RAW-NABEL-201801010000-SSV-TXT-10MIN</td>\n",
       "      <td>10min</td>\n",
       "      <td>raw</td>\n",
       "      <td>13_meteo_nabel</td>\n",
       "      <td>10min</td>\n",
       "      <td>1.0</td>\n",
       "      <td>T1</td>\n",
       "      <td>0.0</td>\n",
       "      <td>-not-given-</td>\n",
       "      <td>REGEN</td>\n",
       "      <td>1</td>\n",
       "      <td>CH-LAE</td>\n",
       "      <td>mm</td>\n",
       "      <td>PREC_NABEL_TOT_T1_47_1</td>\n",
       "      <td>47</td>\n",
       "      <td>0.0</td>\n",
       "    </tr>\n",
       "    <tr>\n",
       "      <th>2019-01-01 00:00:00</th>\n",
       "      <td>LAE13-RAW-NABEL-201801010000-SSV-TXT-10MIN</td>\n",
       "      <td>10min</td>\n",
       "      <td>raw</td>\n",
       "      <td>13_meteo_nabel</td>\n",
       "      <td>10min</td>\n",
       "      <td>1.0</td>\n",
       "      <td>T1</td>\n",
       "      <td>0.0</td>\n",
       "      <td>-not-given-</td>\n",
       "      <td>REGEN</td>\n",
       "      <td>1</td>\n",
       "      <td>CH-LAE</td>\n",
       "      <td>mm</td>\n",
       "      <td>PREC_NABEL_TOT_T1_47_1</td>\n",
       "      <td>47</td>\n",
       "      <td>0.0</td>\n",
       "    </tr>\n",
       "  </tbody>\n",
       "</table>\n",
       "<p>782220 rows × 16 columns</p>\n",
       "</div>"
      ],
      "text/plain": [
       "                                                config_filetype data_raw_freq data_version       filegroup   freq gain hpos offset    raw_units raw_varname repl    site units                 varname vpos  PREC_NABEL_TOT_T1_47_1\n",
       "TIMESTAMP_END                                                                                                                                                                                                                      \n",
       "2004-01-01 00:10:00  LAE13-RAW-NABEL-200401010000-SSV-TXT-10MIN         10min          raw  13_meteo_nabel  10min  1.0   T1    0.0  -not-given-       REGEN    1  CH-LAE    mm  PREC_NABEL_TOT_T1_47_1   47                     0.0\n",
       "2004-01-01 00:20:00  LAE13-RAW-NABEL-200401010000-SSV-TXT-10MIN         10min          raw  13_meteo_nabel  10min  1.0   T1    0.0  -not-given-       REGEN    1  CH-LAE    mm  PREC_NABEL_TOT_T1_47_1   47                     0.0\n",
       "2004-01-01 00:30:00  LAE13-RAW-NABEL-200401010000-SSV-TXT-10MIN         10min          raw  13_meteo_nabel  10min  1.0   T1    0.0  -not-given-       REGEN    1  CH-LAE    mm  PREC_NABEL_TOT_T1_47_1   47                     0.0\n",
       "2004-01-01 00:40:00  LAE13-RAW-NABEL-200401010000-SSV-TXT-10MIN         10min          raw  13_meteo_nabel  10min  1.0   T1    0.0  -not-given-       REGEN    1  CH-LAE    mm  PREC_NABEL_TOT_T1_47_1   47                     0.0\n",
       "2004-01-01 00:50:00  LAE13-RAW-NABEL-200401010000-SSV-TXT-10MIN         10min          raw  13_meteo_nabel  10min  1.0   T1    0.0  -not-given-       REGEN    1  CH-LAE    mm  PREC_NABEL_TOT_T1_47_1   47                     0.0\n",
       "...                                                         ...           ...          ...             ...    ...  ...  ...    ...          ...         ...  ...     ...   ...                     ...  ...                     ...\n",
       "2018-12-31 23:20:00  LAE13-RAW-NABEL-201801010000-SSV-TXT-10MIN         10min          raw  13_meteo_nabel  10min  1.0   T1    0.0  -not-given-       REGEN    1  CH-LAE    mm  PREC_NABEL_TOT_T1_47_1   47                     0.0\n",
       "2018-12-31 23:30:00  LAE13-RAW-NABEL-201801010000-SSV-TXT-10MIN         10min          raw  13_meteo_nabel  10min  1.0   T1    0.0  -not-given-       REGEN    1  CH-LAE    mm  PREC_NABEL_TOT_T1_47_1   47                     0.0\n",
       "2018-12-31 23:40:00  LAE13-RAW-NABEL-201801010000-SSV-TXT-10MIN         10min          raw  13_meteo_nabel  10min  1.0   T1    0.0  -not-given-       REGEN    1  CH-LAE    mm  PREC_NABEL_TOT_T1_47_1   47                     0.0\n",
       "2018-12-31 23:50:00  LAE13-RAW-NABEL-201801010000-SSV-TXT-10MIN         10min          raw  13_meteo_nabel  10min  1.0   T1    0.0  -not-given-       REGEN    1  CH-LAE    mm  PREC_NABEL_TOT_T1_47_1   47                     0.0\n",
       "2019-01-01 00:00:00  LAE13-RAW-NABEL-201801010000-SSV-TXT-10MIN         10min          raw  13_meteo_nabel  10min  1.0   T1    0.0  -not-given-       REGEN    1  CH-LAE    mm  PREC_NABEL_TOT_T1_47_1   47                     0.0\n",
       "\n",
       "[782220 rows x 16 columns]"
      ]
     },
     "metadata": {},
     "output_type": "display_data"
    }
   ],
   "source": [
    "for varname, frame in data_detailed.items():\n",
    "    print(f\"{'-' * 40}\\nData for {varname}:\")\n",
    "    display(frame)"
   ]
  },
  {
   "cell_type": "markdown",
   "id": "e7de1ab7-1925-4f7b-8b67-b53b6d20f5c8",
   "metadata": {},
   "source": [
    "#### `assigned_measurements`\n",
    "- Contains the *automatically* detected measurement for the selected variables, useful as check to make sure the variable was properly identified."
   ]
  },
  {
   "cell_type": "code",
   "execution_count": 14,
   "id": "a00f0476-ebfb-4f7e-9bbf-bd64cc6fbce1",
   "metadata": {
    "ExecuteTime": {
     "end_time": "2024-10-04T12:28:46.085572Z",
     "start_time": "2024-10-04T12:28:46.072102Z"
    },
    "tags": []
   },
   "outputs": [
    {
     "data": {
      "text/plain": [
       "{'PREC_NABEL_TOT_T1_47_1': 'PREC'}"
      ]
     },
     "execution_count": 14,
     "metadata": {},
     "output_type": "execute_result"
    }
   ],
   "source": [
    "assigned_measurements"
   ]
  },
  {
   "cell_type": "markdown",
   "id": "67b182d4-aba5-48dd-9382-7876d5bc7dbc",
   "metadata": {},
   "source": [
    "<br>\n",
    "It is possible that a variable that we want to screen is not available in the database (oh no). To find out which variable that might be we have this piece of code:"
   ]
  },
  {
   "cell_type": "code",
   "execution_count": 15,
   "id": "7fa66248-549e-4190-82ab-dcde924e2795",
   "metadata": {
    "ExecuteTime": {
     "end_time": "2024-10-04T12:28:46.260083Z",
     "start_time": "2024-10-04T12:28:46.251083Z"
    },
    "tags": []
   },
   "outputs": [
    {
     "name": "stdout",
     "output_type": "stream",
     "text": [
      "Data available for: dict_keys(['PREC_NABEL_TOT_T1_47_1'])\n",
      "\n",
      "No data available for the following variables: []\n"
     ]
    }
   ],
   "source": [
    "print(f\"Data available for: {data_detailed.keys()}\\n\")\n",
    "vars_not_available = [v for v in FIELDS if v not in data_detailed.keys()]\n",
    "print(f\"No data available for the following variables: {vars_not_available}\")"
   ]
  },
  {
   "cell_type": "code",
   "execution_count": 16,
   "id": "bee880cf-dffb-41f2-838c-db220ccafa8a",
   "metadata": {
    "ExecuteTime": {
     "end_time": "2024-10-04T12:28:46.482207Z",
     "start_time": "2024-10-04T12:28:46.467185Z"
    }
   },
   "outputs": [],
   "source": [
    "# Remove variables that are not available during this time period from FIELDS. \n",
    "for rem in vars_not_available:\n",
    "    print(rem)\n",
    "    FIELDS.remove(rem)\n",
    "    print(f\"Removed variables {rem} from FIELDS because it is not available during this time period.\")"
   ]
  },
  {
   "cell_type": "markdown",
   "id": "f70c74a1-c729-4f5a-9607-26e3b5095a14",
   "metadata": {},
   "source": [
    "## Save downloaded high-res raw data to file (optional)\n",
    "- If you really want, you can download the full resolution data to a file. This can be useful if you want to do the screening elsewhere."
   ]
  },
  {
   "cell_type": "code",
   "execution_count": 17,
   "id": "4ac50d35-a0ff-4701-b4ac-51222387ad4d",
   "metadata": {
    "ExecuteTime": {
     "end_time": "2024-10-04T12:28:46.546210Z",
     "start_time": "2024-10-04T12:28:46.542209Z"
    },
    "tags": []
   },
   "outputs": [],
   "source": [
    "# data_detailed['TA_NABEL_T1_35_1'].to_csv(\"mylovelyhorse.csv\")"
   ]
  },
  {
   "cell_type": "markdown",
   "id": "25d1edc3-9bf7-4757-af4a-94346896cbaa",
   "metadata": {},
   "source": [
    "## Plot downloaded high-res data\n",
    "- Yes, this is indeed a plot of the downloaded full-resolution data.\n",
    "- Because we have plenty of time and space, each variable gets it's own plot.\n",
    "- If there is only one variable, then there is only one plot."
   ]
  },
  {
   "cell_type": "code",
   "execution_count": 18,
   "id": "15e30967-ee4f-4717-8941-22aef52b2bc5",
   "metadata": {
    "ExecuteTime": {
     "end_time": "2024-10-04T12:28:46.880255Z",
     "start_time": "2024-10-04T12:28:46.592719Z"
    },
    "editable": true,
    "slideshow": {
     "slide_type": ""
    },
    "tags": []
   },
   "outputs": [
    {
     "data": {
      "image/png": "[encoded data removed]",
      "text/plain": [
       "<Figure size 1400x800 with 1 Axes>"
      ]
     },
     "metadata": {},
     "output_type": "display_data"
    }
   ],
   "source": [
    "for varname, frame in data_detailed.items():\n",
    "    # TimeSeries(series=frame[varname]).plot_interactive()\n",
    "    TimeSeries(series=frame[varname]).plot()"
   ]
  },
  {
   "cell_type": "markdown",
   "id": "439f50ce-3b07-48c6-acb2-773a239a00d1",
   "metadata": {},
   "source": [
    "</br>"
   ]
  },
  {
   "cell_type": "markdown",
   "id": "e912ebfa-9d5b-48b3-b1f5-8305333ad76c",
   "metadata": {},
   "source": [
    "# **Start MeteoScreening with `diive`**"
   ]
  },
  {
   "cell_type": "code",
   "execution_count": 19,
   "id": "0b0af0e2-f833-4a5f-9e93-02c7e8dfb0bd",
   "metadata": {
    "ExecuteTime": {
     "end_time": "2024-10-04T12:29:05.214492Z",
     "start_time": "2024-10-04T12:29:04.665710Z"
    },
    "tags": []
   },
   "outputs": [
    {
     "name": "stdout",
     "output_type": "stream",
     "text": [
      "Validating data for variable PREC_NABEL_TOT_T1_47_1 ... \n",
      "Found 2 unique frequencies across 782029 records.\n",
      "Found frequencies:\n",
      "    Found time resolution 600.0 (seconds) with 782026 records (100.00% of total records). \n",
      "    Found time resolution 1200.0 (seconds) with 3 records (0.00% of total records).   -->  Frequency will be ignored, too few records.\n",
      "The following frequencies will be used: [600.0] (seconds)\n"
     ]
    }
   ],
   "source": [
    "mscr = StepwiseMeteoScreeningDb(site=SITE,\n",
    "                                data_detailed=data_detailed,\n",
    "                                # measurement=MEASUREMENT,\n",
    "                                fields=FIELDS,\n",
    "                                site_lat=SITE_LAT,\n",
    "                                site_lon=SITE_LON,\n",
    "                                utc_offset=TIMEZONE_OFFSET_TO_UTC_HOURS)"
   ]
  },
  {
   "cell_type": "markdown",
   "id": "b3940fa8-552b-4b55-a5c1-add000e87076",
   "metadata": {},
   "source": [
    "<br>\n",
    "Now let's take a look at the data that will be screened:"
   ]
  },
  {
   "cell_type": "code",
   "execution_count": 20,
   "id": "ccc38e25-ff50-416d-bd32-26db43bfe197",
   "metadata": {
    "ExecuteTime": {
     "end_time": "2024-10-04T12:29:07.969397Z",
     "start_time": "2024-10-04T12:29:07.704273Z"
    },
    "tags": []
   },
   "outputs": [
    {
     "data": {
      "image/png": "[encoded data removed]",
      "text/plain": [
       "<Figure size 1400x800 with 1 Axes>"
      ]
     },
     "metadata": {},
     "output_type": "display_data"
    }
   ],
   "source": [
    "# mscr.showplot_orig(interactive=True)\n",
    "mscr.showplot_orig()"
   ]
  },
  {
   "cell_type": "markdown",
   "id": "72e93c70-3e6f-4689-8ac0-9e0327016f0e",
   "metadata": {},
   "source": [
    "</br>"
   ]
  },
  {
   "cell_type": "markdown",
   "id": "63313976-2e2d-40c2-9434-d8518ea92a31",
   "metadata": {},
   "source": [
    "</br>"
   ]
  },
  {
   "cell_type": "markdown",
   "id": "e054aeae-37b6-49b6-9b20-51fe82d791c3",
   "metadata": {},
   "source": [
    "# **OUTLIER DETECTION**: generate quality flags on high-resolution data (if needed)\n",
    "- After running a specific test, one or more preview plots are generated\n",
    "- The respective quality flag is not added immediately to the data, but only after `mscr.addflag()` is executed\n",
    "- This allows to generate multiple previews to see how the filter works\n",
    "- When `mscr.addflag()` is executed, the quality flag of the most recent quality test is added to the data\n",
    "- At the end of the outlier detection, an overall flag `QCF` is generated"
   ]
  },
  {
   "cell_type": "markdown",
   "id": "d80120a4-0b3c-4072-8d59-e2ff78189556",
   "metadata": {},
   "source": [
    "<div class=\"alert alert-block alert-info\">\n",
    "    <b>Tip:</b> If the plots look good and you think the data do not require any screening, you can skip this section and jump directly to Corrections or Resampling. \n",
    "</div>"
   ]
  },
  {
   "cell_type": "markdown",
   "id": "1d1b6d20-e94e-4f30-94a4-edc486333a22",
   "metadata": {},
   "source": [
    "</br>"
   ]
  },
  {
   "cell_type": "markdown",
   "id": "d3f2ccdf-6861-41e8-93c7-c548ad17fb07",
   "metadata": {},
   "source": [
    "## Start outlier detection"
   ]
  },
  {
   "cell_type": "code",
   "execution_count": null,
   "id": "fee04777-03fc-4493-bbef-7f3d0d16bd07",
   "metadata": {},
   "outputs": [],
   "source": [
    "mscr.start_outlier_detection()"
   ]
  },
  {
   "cell_type": "markdown",
   "id": "8b56d694-6d3b-4d1a-9004-a36a3405ef07",
   "metadata": {},
   "source": [
    "</br>"
   ]
  },
  {
   "cell_type": "markdown",
   "id": "707410b5-a44f-4108-b84f-9f24ff58e4f2",
   "metadata": {},
   "source": [
    "## Plot current outlier-cleaned data\n",
    "- During <i>outlier detection</i>, you can jump back here to plot the current version of <b>cleaned</b> data."
   ]
  },
  {
   "cell_type": "code",
   "execution_count": null,
   "id": "3abb45db-5dbc-411f-a8ac-99873d041eb4",
   "metadata": {
    "tags": []
   },
   "outputs": [],
   "source": [
    "for key, val in mscr.outlier_detection.items():\n",
    "    # val.showplot_cleaned(interactive=True)\n",
    "    val.showplot_cleaned(interactive=False)\n",
    "    # mscr.outlier_detection['TA_T1_2_1'].showplot_cleaned()\n",
    "# mscr.showplot_cleaned(interactive=True)\n",
    "# mscr.showplot_cleaned(interactive=False)"
   ]
  },
  {
   "cell_type": "markdown",
   "id": "10bae0b8-3301-4421-a4f7-66b93ab5e41e",
   "metadata": {},
   "source": [
    "</br>"
   ]
  },
  {
   "cell_type": "markdown",
   "id": "bdcdea38-f209-44c8-bfa7-b8b3f0b980e4",
   "metadata": {},
   "source": [
    "</br>"
   ]
  },
  {
   "cell_type": "markdown",
   "id": "b2c77ff1-c698-4929-9568-6d59e06af3cc",
   "metadata": {},
   "source": [
    "## Flag, outlier detection: **Manual removal**\n",
    "*Generate flag for data points that should be removed*"
   ]
  },
  {
   "cell_type": "markdown",
   "id": "6278e110-a54f-49b0-a55c-b60ac91b4db2",
   "metadata": {},
   "source": [
    "To find erroneous time periods, use this interactive plot to identify the exact timestamps or time ranges:"
   ]
  },
  {
   "cell_type": "code",
   "execution_count": null,
   "id": "fa96cd03-ab5a-4729-9862-39a7a73ce714",
   "metadata": {},
   "outputs": [],
   "source": [
    "# Example removal of dates\n",
    "REMOVE_DATES = [\n",
    "    ['2024-07-14 07:15:00', '2024-07-19 00:00:15'],  # Remove time range\n",
    "    # '2022-08-23 11:45:00',  # Remove data point\n",
    "    # '2022-01-12 13:15:00',  # Remove data point\n",
    "    # ['2022-08-15', '2022-08-16']  # Remove time range\n",
    "]\n",
    "mscr.flag_manualremoval_test(remove_dates=REMOVE_DATES, showplot=True, verbose=True)"
   ]
  },
  {
   "cell_type": "code",
   "execution_count": null,
   "id": "b5c14ea2-b509-46c8-a335-dbb86c19ad76",
   "metadata": {},
   "outputs": [],
   "source": [
    "mscr.addflag()"
   ]
  },
  {
   "cell_type": "markdown",
   "id": "a8a590c6-0423-4aba-9282-e6bcc6a0e88e",
   "metadata": {},
   "source": [
    "</br>"
   ]
  },
  {
   "cell_type": "markdown",
   "id": "52d8c5d7-f41f-4dc7-b73c-1fb69e919339",
   "metadata": {},
   "source": [
    "</br>"
   ]
  },
  {
   "cell_type": "markdown",
   "id": "abc9b8d3-2722-4b66-ad7e-4b848783b2df",
   "metadata": {},
   "source": [
    "## Flag, outlier detection: **Hampel filter** across all data\n",
    "*Identify outliers in a sliding window based on the Hampel filter*"
   ]
  },
  {
   "cell_type": "markdown",
   "id": "53489452-8c1b-467f-b93e-100013913f3e",
   "metadata": {},
   "source": [
    "<div class=\"alert alert-block alert-success\">\n",
    "    <b>New in v7</b>\n",
    "</div>"
   ]
  },
  {
   "cell_type": "code",
   "execution_count": null,
   "id": "7a60dd4b-02ab-4de5-9a93-d8f3a560a8ad",
   "metadata": {},
   "outputs": [],
   "source": [
    "WINDOW_LENGTH = 1000\n",
    "N_SIGMA = 4.5\n",
    "mscr.flag_outliers_hampel_test(window_length=WINDOW_LENGTH, n_sigma=N_SIGMA, showplot=True, verbose=True, repeat=False)"
   ]
  },
  {
   "cell_type": "code",
   "execution_count": null,
   "id": "364d5772-1850-4784-b995-b5c922b6e722",
   "metadata": {},
   "outputs": [],
   "source": [
    "mscr.addflag()"
   ]
  },
  {
   "cell_type": "markdown",
   "id": "cd3fe868-4c3a-4c62-b024-73c9a4387f74",
   "metadata": {},
   "source": [
    "</br>"
   ]
  },
  {
   "cell_type": "markdown",
   "id": "4e1c56e7-5187-4d67-87f1-7335d6633799",
   "metadata": {},
   "source": [
    "</br>"
   ]
  },
  {
   "cell_type": "markdown",
   "id": "defa5911-bcf9-4bd7-a44e-5563130e32d0",
   "metadata": {},
   "source": [
    "## Flag, outlier detection: **Hampel filter** separate for daytime and nighttime\n",
    "*Identify outliers in a sliding window based on the Hampel filter, separately for daytime and nighttime data.*"
   ]
  },
  {
   "cell_type": "markdown",
   "id": "a03b4dd3-de8c-4d2a-a060-1d34ce697ebe",
   "metadata": {},
   "source": [
    "<div class=\"alert alert-block alert-success\">\n",
    "    <b>New in v7</b>\n",
    "</div>"
   ]
  },
  {
   "cell_type": "code",
   "execution_count": null,
   "id": "89e34733-c93e-4d48-84e6-9bf24c5adafd",
   "metadata": {},
   "outputs": [],
   "source": [
    "WINDOW_LENGTH = 1000\n",
    "N_SIGMA_DT = 4.5\n",
    "N_SIGMA_NT = 4.5\n",
    "mscr.flag_outliers_hampel_dtnt_test(window_length=WINDOW_LENGTH, n_sigma_dt=N_SIGMA_DT, n_sigma_nt=N_SIGMA_NT, showplot=True, verbose=True, repeat=False)"
   ]
  },
  {
   "cell_type": "code",
   "execution_count": null,
   "id": "bc65e6fd-d6cc-4235-afa9-8441dede11e9",
   "metadata": {},
   "outputs": [],
   "source": [
    "mscr.addflag()"
   ]
  },
  {
   "cell_type": "markdown",
   "id": "f7b781ce-43f7-49aa-98a5-230757ac22b9",
   "metadata": {},
   "source": [
    "</br>"
   ]
  },
  {
   "cell_type": "markdown",
   "id": "2e3929f7-6448-4017-ac13-3f74aad4bf36",
   "metadata": {},
   "source": [
    "</br>"
   ]
  },
  {
   "cell_type": "markdown",
   "id": "eefb654c-d09d-4b15-be92-c5601544d89e",
   "metadata": {},
   "source": [
    "## Flag, outlier detection: **z-score over all data** separate for daytime and nighttime\n",
    "*Identify outliers based on the z-score, separately for daytime and nighttime*"
   ]
  },
  {
   "cell_type": "markdown",
   "id": "c148e259-96c7-44f4-b4c8-f2003566b64c",
   "metadata": {},
   "source": [
    "<div class=\"alert alert-block alert-warning\">\n",
    "    <b>Warning for radiation:</b> This test easily removes nighttime values that are below zero. However, below-zero radiation data are corrected in a later step (Corrections). Make sure that no radiation data below zero are removed when using this test.\n",
    "</div>"
   ]
  },
  {
   "cell_type": "markdown",
   "id": "65f042be-8adc-4cb3-82bc-eaeea0e22f8d",
   "metadata": {},
   "source": [
    "<div class=\"alert alert-block alert-warning\">\n",
    "    <b>Warning for relative humidity:</b> This test easily removes values that are above 100% relative humidity. However, values > 100% are corrected in a later step (Corrections). Make sure that no RH data above 100% are removed when using this test.\n",
    "</div>"
   ]
  },
  {
   "cell_type": "code",
   "execution_count": null,
   "id": "10d3d1a8-663b-474d-81cc-ac67820c8e71",
   "metadata": {
    "tags": []
   },
   "outputs": [],
   "source": [
    "THRESHOLD = 4.5\n",
    "mscr.flag_outliers_zscore_dtnt_test(thres_zscore=THRESHOLD, showplot=True, verbose=True, repeat=True)"
   ]
  },
  {
   "cell_type": "code",
   "execution_count": null,
   "id": "94fbf977-5fa8-4a5c-aa79-26bf5800cf23",
   "metadata": {},
   "outputs": [],
   "source": [
    "mscr.addflag()"
   ]
  },
  {
   "cell_type": "markdown",
   "id": "37ea0f81-7483-445b-9e2f-bb3de0489455",
   "metadata": {},
   "source": [
    "</br>"
   ]
  },
  {
   "cell_type": "markdown",
   "id": "db69e5d4-e342-4d23-abc3-5d0ae998475a",
   "metadata": {},
   "source": [
    "## Flag, outlier detection: **rolling z-score over all data**\n",
    "*Identify outliers based on the rolling z-score*"
   ]
  },
  {
   "cell_type": "markdown",
   "id": "cff310db-3c53-4971-a55e-40ef1e7144e5",
   "metadata": {},
   "source": [
    "<div class=\"alert alert-block alert-success\">\n",
    "    <b>New in v7</b>\n",
    "</div>"
   ]
  },
  {
   "cell_type": "code",
   "execution_count": null,
   "id": "36b79aef-a9fd-4d8f-94ef-76beedd9b6a4",
   "metadata": {
    "tags": []
   },
   "outputs": [],
   "source": [
    "THRESHOLD = 4.5\n",
    "WINSIZE = 1440 * 7\n",
    "mscr.flag_outliers_zscore_rolling_test(thres_zscore=THRESHOLD, winsize=WINSIZE, showplot=True, verbose=True, repeat=True)"
   ]
  },
  {
   "cell_type": "code",
   "execution_count": null,
   "id": "0423bc86-cdd1-4d85-ac67-a02e62ebee90",
   "metadata": {},
   "outputs": [],
   "source": [
    "mscr.addflag()"
   ]
  },
  {
   "cell_type": "markdown",
   "id": "c56a3a11-24c6-439f-ab97-cb33836160d7",
   "metadata": {},
   "source": [
    "</br>"
   ]
  },
  {
   "cell_type": "markdown",
   "id": "e988737c-1c9c-4a67-9b46-ef14b677ec03",
   "metadata": {},
   "source": [
    "## Flag, oulier detection: **Local standard deviation**\n",
    "*Identify outliers based on the local standard deviation, based on the rolling mean and standard deviation*  \n",
    "<br>\n",
    "Parameters:\n",
    "- `N_SD` ... Number of standard deviations for outliers\n",
    "- `WINSIZE` ... Number of records used for the rolling time window. If `None` the window size is calculated as 1/20 of data length."
   ]
  },
  {
   "cell_type": "code",
   "execution_count": null,
   "id": "df5222d8-3bd0-481a-85c7-47aa2f6a43a0",
   "metadata": {},
   "outputs": [],
   "source": [
    "N_SD = 5.5\n",
    "WINSIZE = 1440 * 7\n",
    "mscr.flag_outliers_localsd_test(n_sd=N_SD, winsize=WINSIZE, constant_sd=False, showplot=True, verbose=True, repeat=False)"
   ]
  },
  {
   "cell_type": "code",
   "execution_count": null,
   "id": "d910c363-88e9-4283-8d74-b4a329df9b5b",
   "metadata": {},
   "outputs": [],
   "source": [
    "mscr.addflag()"
   ]
  },
  {
   "cell_type": "markdown",
   "id": "a52849d8-f7bb-4f69-8b41-d9f334466558",
   "metadata": {},
   "source": [
    "</br>"
   ]
  },
  {
   "cell_type": "markdown",
   "id": "90765281c0c701d5",
   "metadata": {},
   "source": [
    "## Outlier flag: **Local standard deviation**, with rolling median and *constant* standard deviation\n",
    "- keep standard deviation constant by setting parameter `constant_sd=True`"
   ]
  },
  {
   "cell_type": "code",
   "execution_count": null,
   "id": "de26cb8c7217c1ca",
   "metadata": {},
   "outputs": [],
   "source": [
    "N_SD = 5.5\n",
    "WINSIZE = 1440 * 7\n",
    "mscr.flag_outliers_localsd_test(n_sd=N_SD, winsize=WINSIZE, constant_sd=True, showplot=True, verbose=True, repeat=False)"
   ]
  },
  {
   "cell_type": "code",
   "execution_count": null,
   "id": "596fc0ab593bbd16",
   "metadata": {},
   "outputs": [],
   "source": [
    "mscr.addflag()"
   ]
  },
  {
   "cell_type": "markdown",
   "id": "444cc201-ffd6-498e-9a1a-d947d793e6fa",
   "metadata": {},
   "source": [
    "</br>"
   ]
  },
  {
   "cell_type": "markdown",
   "id": "97554247-8652-4147-9ce9-3484020b1a92",
   "metadata": {},
   "source": [
    "## Flag, outlier detection: **Increments z-score**\n",
    "*Identify outliers based on the z-score of record increments*"
   ]
  },
  {
   "cell_type": "code",
   "execution_count": null,
   "id": "6fe152dc-8fe3-4693-9a92-32e2922b62d4",
   "metadata": {
    "tags": []
   },
   "outputs": [],
   "source": [
    "THRESHOLD = 40\n",
    "mscr.flag_outliers_increments_zcore_test(thres_zscore=THRESHOLD, showplot=True, verbose=True, repeat=True)"
   ]
  },
  {
   "cell_type": "code",
   "execution_count": null,
   "id": "003be73c-9aca-4116-b351-004382f7dba2",
   "metadata": {
    "tags": []
   },
   "outputs": [],
   "source": [
    "mscr.addflag()"
   ]
  },
  {
   "cell_type": "markdown",
   "id": "87fbd076-ca4c-41d3-8042-1b265fe78ccc",
   "metadata": {},
   "source": [
    "</br>"
   ]
  },
  {
   "cell_type": "markdown",
   "id": "743ac822-2c72-4e26-82b4-da4aa61dbc0a",
   "metadata": {},
   "source": [
    "</br>"
   ]
  },
  {
   "cell_type": "markdown",
   "id": "af742eea-cb53-42e6-908f-6d8da66884c4",
   "metadata": {},
   "source": [
    "</br>"
   ]
  },
  {
   "cell_type": "markdown",
   "id": "3218540d-bf0c-43c6-ac35-79933fdd0983",
   "metadata": {},
   "source": [
    "## Flag, outlier detection: **z-score over all data**\n",
    "*Identify outliers based on the z-score of records*  \n",
    "This is a general purpose test that can already solve many outlier issues."
   ]
  },
  {
   "cell_type": "code",
   "execution_count": null,
   "id": "c016efab-5d16-457d-b74e-f1fd278dfde4",
   "metadata": {
    "tags": []
   },
   "outputs": [],
   "source": [
    "THRESHOLD = 5.5\n",
    "mscr.flag_outliers_zscore_test(thres_zscore=THRESHOLD, showplot=True, verbose=True, repeat=True)"
   ]
  },
  {
   "cell_type": "code",
   "execution_count": null,
   "id": "b296da3c-7332-4069-845b-29ba67768020",
   "metadata": {
    "tags": []
   },
   "outputs": [],
   "source": [
    "mscr.addflag()"
   ]
  },
  {
   "cell_type": "markdown",
   "id": "93825823-17bb-4d8e-b0e7-35c33a282862",
   "metadata": {},
   "source": [
    "</br>"
   ]
  },
  {
   "cell_type": "markdown",
   "id": "c36286a5-09a9-40cd-a92f-6520ed02955a",
   "metadata": {},
   "source": [
    "</br>"
   ]
  },
  {
   "cell_type": "markdown",
   "id": "d3e69b29-f207-4df9-97c0-7cf14647666e",
   "metadata": {},
   "source": [
    "</br>"
   ]
  },
  {
   "cell_type": "markdown",
   "id": "67672985-6938-48ac-b1af-3dade7621904",
   "metadata": {},
   "source": [
    "## Flag, outlier detection: **Local outlier factor, daytime/nighttime**\n",
    "*Identify outliers based on the local outlier factor, done separately for daytime and nighttime data*  \n",
    "You can find [more info about the general approach here](https://scikit-learn.org/stable/modules/generated/sklearn.neighbors.LocalOutlierFactor.html)."
   ]
  },
  {
   "cell_type": "markdown",
   "id": "8c3c7846-cb3d-49a2-a53e-158d460c4cb2",
   "metadata": {},
   "source": [
    "<div class=\"alert alert-block alert-danger\">\n",
    "    <b>Do not use this test on high-resolution data (1S, 10S, 1MIN):</b> Computation takes a veeeeery loooong time and is slooooow. But otherwise it works nicely with half-hourly data.\n",
    "</div>"
   ]
  },
  {
   "cell_type": "code",
   "execution_count": null,
   "id": "a378ded1-0274-4ce5-92c9-5532421687a2",
   "metadata": {},
   "outputs": [],
   "source": [
    "# mscr.flag_outliers_lof_dtnt_test(n_neighbors=3, contamination=0.00001, showplot=True, verbose=True, repeat=False, n_jobs=-1)"
   ]
  },
  {
   "cell_type": "code",
   "execution_count": null,
   "id": "45652aaa-88a5-44a9-9a84-9843bc06af30",
   "metadata": {},
   "outputs": [],
   "source": [
    "# mscr.addflag()"
   ]
  },
  {
   "cell_type": "markdown",
   "id": "5bad1ed5-97a3-4f5b-8d6b-e0031ceb7de1",
   "metadata": {},
   "source": [
    "</br>"
   ]
  },
  {
   "cell_type": "markdown",
   "id": "3d7fdce6-e9e5-4c88-9de5-b502b5afd8f9",
   "metadata": {},
   "source": [
    "</br>"
   ]
  },
  {
   "cell_type": "markdown",
   "id": "5a94811d-4f4e-4d1a-b6f9-b6f438d2b4f4",
   "metadata": {},
   "source": [
    "## Flag, outlier detection: **Local outlier factor**\n",
    "*Identify outliers based on the local outlier factor*  \n",
    "You can find [more info about the general approach here](https://scikit-learn.org/stable/modules/generated/sklearn.neighbors.LocalOutlierFactor.html)."
   ]
  },
  {
   "cell_type": "markdown",
   "id": "e104eb6f-7c24-4d81-bec0-bb126e3effe9",
   "metadata": {},
   "source": [
    "<div class=\"alert alert-block alert-danger\">\n",
    "    <b>Do not use this test on high-resolution data (1S, 10S, 1MIN):</b> Computation takes a veeeeery loooong time and is slooooow. But otherwise it works nicely with half-hourly data.\n",
    "</div>"
   ]
  },
  {
   "cell_type": "code",
   "execution_count": null,
   "id": "9b946e89-b7c2-4146-b7e0-2b65523ae6f6",
   "metadata": {
    "tags": []
   },
   "outputs": [],
   "source": [
    "# mscr.flag_outliers_lof_test(n_neighbors=30, contamination=0.01, showplot=True, verbose=True, repeat=False, n_jobs=-1)"
   ]
  },
  {
   "cell_type": "code",
   "execution_count": null,
   "id": "0727409f-da45-4914-ac4d-2ff2d10d801b",
   "metadata": {
    "tags": []
   },
   "outputs": [],
   "source": [
    "# mscr.addflag()"
   ]
  },
  {
   "cell_type": "markdown",
   "id": "227b0351-5b44-41d2-8366-788daedbaa95",
   "metadata": {},
   "source": [
    "</br>"
   ]
  },
  {
   "cell_type": "markdown",
   "id": "464197a2-84ed-43c3-98d8-070506285437",
   "metadata": {},
   "source": [
    "</br>"
   ]
  },
  {
   "cell_type": "markdown",
   "id": "452201fd-d6b7-4b52-98dd-fdc1ddce2147",
   "metadata": {},
   "source": [
    "## Flag, outlier detection: **Absolute limits**\n",
    "*Generate flag that indicates if values in data are outside the specified range*"
   ]
  },
  {
   "cell_type": "code",
   "execution_count": null,
   "id": "ef574b61-aada-4cff-b2e0-a0ca16b72460",
   "metadata": {},
   "outputs": [],
   "source": [
    "MIN = -20\n",
    "MAX = 20\n",
    "mscr.flag_outliers_abslim_test(minval=MIN, maxval=MAX, showplot=True)"
   ]
  },
  {
   "cell_type": "code",
   "execution_count": null,
   "id": "b15190e5-f5f1-4439-bea3-500b775a236d",
   "metadata": {
    "tags": []
   },
   "outputs": [],
   "source": [
    "mscr.addflag()"
   ]
  },
  {
   "cell_type": "markdown",
   "id": "2421ded8-86cc-49e2-ba67-a3494297d566",
   "metadata": {},
   "source": [
    "</br>"
   ]
  },
  {
   "cell_type": "markdown",
   "id": "7c766b5c-1bba-4227-8791-4fecfb9945bd",
   "metadata": {},
   "source": [
    "</br>"
   ]
  },
  {
   "cell_type": "markdown",
   "id": "b6b332bc-e1a3-4b78-a311-6beeb031cf93",
   "metadata": {},
   "source": [
    "## Flag, outlier detection: **Absolute limits, separate for daytime and nighttime data**\n",
    "*Identify outliers based on absolute limits separately for daytime and nighttime*"
   ]
  },
  {
   "cell_type": "code",
   "execution_count": null,
   "id": "bb1d203b-317f-4460-8739-b8125ace8234",
   "metadata": {
    "tags": []
   },
   "outputs": [],
   "source": [
    "DT_MINMAX = [-20, 20]\n",
    "NT_MINMAX = [-5, 5]\n",
    "mscr.flag_outliers_abslim_dtnt_test(daytime_minmax=DT_MINMAX, nighttime_minmax=NT_MINMAX, showplot=True)"
   ]
  },
  {
   "cell_type": "code",
   "execution_count": null,
   "id": "f15a4f16-eb4d-4c36-b054-75a4ac2b0146",
   "metadata": {
    "tags": []
   },
   "outputs": [],
   "source": [
    "mscr.addflag()"
   ]
  },
  {
   "cell_type": "markdown",
   "id": "20bbe858-ecac-44e3-a681-dd215e55a5ad",
   "metadata": {},
   "source": [
    "</br>"
   ]
  },
  {
   "cell_type": "markdown",
   "id": "bb6b2ee3-cc3c-4054-a3ec-8f38c9ab6c97",
   "metadata": {},
   "source": [
    "</br>"
   ]
  },
  {
   "cell_type": "markdown",
   "id": "6b1dfddb-514d-44b6-832e-19dc0c533360",
   "metadata": {},
   "source": [
    "## Flag, outlier detection: **Trim low**\n",
    "*Flag values below a given absolute limit as outliers, then flag an equal number of datapoints at the high end as outliers.*"
   ]
  },
  {
   "cell_type": "markdown",
   "id": "58e2e387-ee48-4860-83d3-2a0adc7e967b",
   "metadata": {},
   "source": [
    "<div class=\"alert alert-block alert-success\">\n",
    "    <b>New in v7</b>\n",
    "</div>"
   ]
  },
  {
   "cell_type": "code",
   "execution_count": null,
   "id": "3bbaba5e-8dfd-4656-a377-cef2e2dfbb82",
   "metadata": {
    "tags": []
   },
   "outputs": [],
   "source": [
    "TRIM_DAYTIME = False\n",
    "TRIM_NIGHTTIME = True\n",
    "LOWER_LIMIT = 10\n",
    "mscr.flag_outliers_trim_low_test(trim_daytime=TRIM_DAYTIME, trim_nighttime=TRIM_NIGHTTIME, lower_limit=LOWER_LIMIT, showplot=True, verbose=True)"
   ]
  },
  {
   "cell_type": "code",
   "execution_count": null,
   "id": "1ac485c4-6493-418c-aab8-69ead616f1f5",
   "metadata": {
    "tags": []
   },
   "outputs": [],
   "source": [
    "mscr.addflag()"
   ]
  },
  {
   "cell_type": "markdown",
   "id": "d9a7a60a-b106-46cf-9019-dcadc66aff29",
   "metadata": {},
   "source": [
    "</br>"
   ]
  },
  {
   "cell_type": "markdown",
   "id": "1013caa3-326c-4f5e-9aff-b64413c8956e",
   "metadata": {},
   "source": [
    "</br>"
   ]
  },
  {
   "cell_type": "markdown",
   "id": "107ef6a2-a24c-4dee-a0a2-ef6faff2c563",
   "metadata": {},
   "source": [
    "## Flag, outlier detection: **Missing values test**\n",
    "*Generate flag that indicates missing records in data*\n",
    "- This test is not really part of the outlier detection tests, but a separate test.\n",
    "- In this notebook, we can simply add a missing values flag to the existing data."
   ]
  },
  {
   "cell_type": "code",
   "execution_count": null,
   "id": "413cca52-ab73-4cae-a86d-3207a080c50f",
   "metadata": {
    "tags": []
   },
   "outputs": [],
   "source": [
    "mscr.flag_missingvals_test(verbose=True)"
   ]
  },
  {
   "cell_type": "markdown",
   "id": "b2fdd7c3-bd36-4a47-8b4c-1cef85295d77",
   "metadata": {},
   "source": [
    "</br>"
   ]
  },
  {
   "cell_type": "markdown",
   "id": "4f870a80-13cb-486e-8cc9-1d064f02259c",
   "metadata": {},
   "source": [
    "</br>"
   ]
  },
  {
   "cell_type": "markdown",
   "id": "3b98e0fa-3d53-4b27-9d98-ede75c52729b",
   "metadata": {},
   "source": [
    "## **QCF**: calculate overall quality-control flag for high-resolution data  \n",
    "- The next step (Corrections) needs quality-controlled data, therefore an overall flag `QCF` is created here."
   ]
  },
  {
   "cell_type": "code",
   "execution_count": null,
   "id": "629a39b3-1f8d-41b4-afcb-1f7a5d37b1e3",
   "metadata": {
    "tags": []
   },
   "outputs": [],
   "source": [
    "mscr.finalize_outlier_detection()"
   ]
  },
  {
   "cell_type": "markdown",
   "id": "27a716d0-e6d5-43fd-934e-79b63b2a7cd9",
   "metadata": {},
   "source": [
    "### Reports"
   ]
  },
  {
   "cell_type": "code",
   "execution_count": null,
   "id": "343b3969-3d8a-407f-9438-a1dcab7158c3",
   "metadata": {
    "tags": []
   },
   "outputs": [],
   "source": [
    "mscr.report_outlier_detection_qcf_evolution()"
   ]
  },
  {
   "cell_type": "code",
   "execution_count": null,
   "id": "cae1bb06-77cd-476e-9f4e-30d8f2f2e0e2",
   "metadata": {
    "tags": []
   },
   "outputs": [],
   "source": [
    "mscr.report_outlier_detection_qcf_flags()"
   ]
  },
  {
   "cell_type": "code",
   "execution_count": null,
   "id": "7f57fe5c-eeea-4135-89e7-011e23c83efc",
   "metadata": {
    "tags": []
   },
   "outputs": [],
   "source": [
    "mscr.report_outlier_detection_qcf_series()"
   ]
  },
  {
   "cell_type": "markdown",
   "id": "a249f997-d108-4f24-a420-b7ff15cefe9d",
   "metadata": {},
   "source": [
    "### Plots"
   ]
  },
  {
   "cell_type": "code",
   "execution_count": null,
   "id": "51fbecb1-bde5-4335-b2d9-0b73303e3a6f",
   "metadata": {
    "tags": []
   },
   "outputs": [],
   "source": [
    "mscr.showplot_outlier_detection_qcf_heatmaps()"
   ]
  },
  {
   "cell_type": "code",
   "execution_count": null,
   "id": "28d7bc18-4310-4ec0-8fa8-e1c6f9be46be",
   "metadata": {
    "tags": []
   },
   "outputs": [],
   "source": [
    "# mscr.showplot_outlier_detection_qcf_timeseries()"
   ]
  },
  {
   "cell_type": "markdown",
   "id": "c6e1ef56-a207-45cc-a1c5-052cba9e58ba",
   "metadata": {},
   "source": [
    "</br>"
   ]
  },
  {
   "cell_type": "markdown",
   "id": "dd2636e8-0c9e-4466-9d6b-f8b6dc9b934b",
   "metadata": {},
   "source": [
    "</br>"
   ]
  },
  {
   "cell_type": "markdown",
   "id": "402628ea-0cf9-4421-bc21-952dbf1674f1",
   "metadata": {},
   "source": [
    "# **CORRECTIONS**: done on high-resolution data (if needed)"
   ]
  },
  {
   "cell_type": "markdown",
   "id": "13952031-8cb2-40a4-afde-521a505d848a",
   "metadata": {},
   "source": [
    "Currently only needed for SW, PPFD, RH."
   ]
  },
  {
   "cell_type": "markdown",
   "id": "67882275-81a7-44a4-9dcb-110375dfd6f4",
   "metadata": {},
   "source": [
    "</br>"
   ]
  },
  {
   "cell_type": "markdown",
   "id": "9eebd873-eaf6-4cba-ae49-844771803a59",
   "metadata": {},
   "source": [
    "</br>"
   ]
  },
  {
   "cell_type": "markdown",
   "id": "a4d52f77-a55f-4aa6-b40d-130d226c88f3",
   "metadata": {},
   "source": [
    "## Show cleaned data after QCF"
   ]
  },
  {
   "cell_type": "code",
   "execution_count": null,
   "id": "26c200d8-7d2b-42e9-89ce-6388b98c4001",
   "metadata": {},
   "outputs": [],
   "source": [
    "mscr.showplot_cleaned()"
   ]
  },
  {
   "cell_type": "markdown",
   "id": "fecd8a6a-2d03-4b3b-839c-1f68d3316d5c",
   "metadata": {},
   "source": [
    "</br>"
   ]
  },
  {
   "cell_type": "markdown",
   "id": "5715b191-784f-48b8-b72a-1cfb6ff8339c",
   "metadata": {},
   "source": [
    "</br>"
   ]
  },
  {
   "cell_type": "markdown",
   "id": "ff8bd4c4-a7c9-44fb-855d-e70ee3228d19",
   "metadata": {},
   "source": [
    "## Correction: **Remove radiation zero offset**\n",
    "*Remove nighttime offset from all radiation data and set nighttime to zero*"
   ]
  },
  {
   "cell_type": "markdown",
   "id": "dcb4fbb3-68f4-40ae-9b3f-cfbe5bff1be7",
   "metadata": {},
   "source": [
    "<div class=\"alert alert-block alert-info\">\n",
    "    Can be used for <b>SW_IN, SW_OUT, PPFD_IN, PPFD_OUT.</b>\n",
    "</div>"
   ]
  },
  {
   "cell_type": "code",
   "execution_count": null,
   "id": "24919cef-c53a-4763-8c5a-47196837fabc",
   "metadata": {},
   "outputs": [],
   "source": [
    "mscr.correction_remove_radiation_zero_offset()"
   ]
  },
  {
   "cell_type": "markdown",
   "id": "5cd9634f-8d92-4180-b0ab-e9c0ed58be73",
   "metadata": {},
   "source": [
    "</br>"
   ]
  },
  {
   "cell_type": "markdown",
   "id": "ade5dcbe-f676-45bc-9745-71ac8a4b1ecd",
   "metadata": {},
   "source": [
    "</br>"
   ]
  },
  {
   "cell_type": "markdown",
   "id": "dc66f432-76e2-4881-b41a-7e0a558b5ec2",
   "metadata": {},
   "source": [
    "## Correction: **Remove relative humidity offset**\n",
    "*Remove relative humidity offset, works for relative humidity data where maximum values should not exceed 100%*  "
   ]
  },
  {
   "cell_type": "markdown",
   "id": "3c353674-ecea-44d6-a2a6-b5db3d88b5e9",
   "metadata": {},
   "source": [
    "<div class=\"alert alert-block alert-info\">\n",
    "    Can be used for <b>RH.</b>\n",
    "</div>"
   ]
  },
  {
   "cell_type": "code",
   "execution_count": null,
   "id": "772c01c3-8483-44f2-8bc9-7a715bbe4c7f",
   "metadata": {},
   "outputs": [],
   "source": [
    "# mscr.correction_remove_relativehumidity_offset()"
   ]
  },
  {
   "cell_type": "markdown",
   "id": "e595c07e-fabf-4f73-ba02-0bcaca9c6d60",
   "metadata": {},
   "source": [
    "</br>"
   ]
  },
  {
   "cell_type": "markdown",
   "id": "a18581c5-bd89-44bd-8ef8-87fc03ea1d1c",
   "metadata": {},
   "source": [
    "</br>"
   ]
  },
  {
   "cell_type": "markdown",
   "id": "c92d465f-43bd-4859-8771-1a26be981e8b",
   "metadata": {},
   "source": [
    "## Correction: **Set to max threshold**\n",
    "*Set values above threshold to threshold*"
   ]
  },
  {
   "cell_type": "code",
   "execution_count": null,
   "id": "49a3a406-4f95-4f18-9ee8-2307fb705921",
   "metadata": {},
   "outputs": [],
   "source": [
    "mscr.correction_setto_max_threshold(threshold=30)"
   ]
  },
  {
   "cell_type": "markdown",
   "id": "d85149bf-394c-4897-bc3f-723f2b7079e8",
   "metadata": {},
   "source": [
    "</br>"
   ]
  },
  {
   "cell_type": "markdown",
   "id": "78e78ac3-68d1-4ab9-b0ae-423435a0a5e4",
   "metadata": {},
   "source": [
    "</br>"
   ]
  },
  {
   "cell_type": "markdown",
   "id": "7684ec9d-59bb-4e56-8d8f-8e1409b69b2e",
   "metadata": {},
   "source": [
    "## Correction: **Set to min threshold**\n",
    "*Set values below threshold to threshold*"
   ]
  },
  {
   "cell_type": "code",
   "execution_count": null,
   "id": "18bcd54c-fe58-4b0c-9046-799b24967b85",
   "metadata": {},
   "outputs": [],
   "source": [
    "mscr.correction_setto_min_threshold(threshold=-5)"
   ]
  },
  {
   "cell_type": "markdown",
   "id": "95f7d10d-73bf-467f-a04b-341c2e1b3127",
   "metadata": {},
   "source": [
    "</br>"
   ]
  },
  {
   "cell_type": "markdown",
   "id": "48bedf19-e667-4432-a5bf-1957da04ead5",
   "metadata": {},
   "source": [
    "</br>"
   ]
  },
  {
   "cell_type": "markdown",
   "id": "8dfa83b3-e872-4a14-a15d-6912913ee044",
   "metadata": {},
   "source": [
    "## Correction: **Set to value**\n",
    "*Set records in time range(s) to value*\n",
    "- This can be useful e.g. to set precipitation to zero during a time period where the sensor was tested during a field visit"
   ]
  },
  {
   "cell_type": "code",
   "execution_count": null,
   "id": "a4054d50-95f8-45ff-98e9-52f6eb75e169",
   "metadata": {
    "tags": []
   },
   "outputs": [],
   "source": [
    "# mscr.showplot_cleaned(interactive=True)"
   ]
  },
  {
   "cell_type": "code",
   "execution_count": null,
   "id": "764abc6b-8645-4dad-8d17-99d1e3b33733",
   "metadata": {},
   "outputs": [],
   "source": [
    "DATES = [\n",
    "    ['2022-04-01', '2022-04-05'],\n",
    "    ['2022-09-05', '2022-09-07']\n",
    "]"
   ]
  },
  {
   "cell_type": "code",
   "execution_count": null,
   "id": "d8a433d0-0bea-4b0f-acf9-dcae4e032b22",
   "metadata": {},
   "outputs": [],
   "source": [
    "mscr.correction_setto_value(dates=DATES, value=3.7, verbose=1)"
   ]
  },
  {
   "cell_type": "code",
   "execution_count": null,
   "id": "2ecc5aa0-0199-49bc-9bd2-b4d07c3fc2f7",
   "metadata": {
    "tags": []
   },
   "outputs": [],
   "source": [
    "mscr.showplot_cleaned(interactive=False)"
   ]
  },
  {
   "cell_type": "markdown",
   "id": "00cbd54a-be7d-446d-bb6b-b6b4e0c5cc9e",
   "metadata": {},
   "source": [
    "</br>"
   ]
  },
  {
   "cell_type": "markdown",
   "id": "b1c7e00f-fe60-4668-a92c-629163793d0d",
   "metadata": {},
   "source": [
    "</br>"
   ]
  },
  {
   "cell_type": "markdown",
   "id": "7bcd2b94-fb89-47e7-8f44-b6b1591bd735",
   "metadata": {},
   "source": [
    "# **ANALYSES** <a class=\"anchor\" id=\"resampling\"></a>"
   ]
  },
  {
   "cell_type": "markdown",
   "id": "f4781f9f-67c0-4f71-ba13-55ad5d02a3dc",
   "metadata": {},
   "source": [
    "## Check for potential timestamp shifts\n",
    "*Compare radiation time series to potential radiation*"
   ]
  },
  {
   "cell_type": "markdown",
   "id": "f6d1bfdc-8baf-4640-93a8-3ce189dc7065",
   "metadata": {},
   "source": [
    "<div class=\"alert alert-block alert-info\">\n",
    "    Can be used for <b>SW_IN, SW_OUT, PPFD_IN, PPFD_OUT.</b>\n",
    "</div>"
   ]
  },
  {
   "cell_type": "markdown",
   "id": "77595614-b930-4abc-bc1a-80881c36b9bc",
   "metadata": {},
   "source": [
    "This analysis generates a plot that shows the radiation time series in comparison to potential radiation.\n",
    "- The first (top) panel shows daily correlations\n",
    "- The second panel shows potential radiation and measured radiation on low correlation days all in one plot\n",
    "- The third panel (with 3 plots) shows potential radiation and measured radiation on the three days when their correlation was the **lowest**\n",
    "- The fourth (bottom) panel (with 3 plots) shows potential radiation and measured radiation on the three days when their correlation was the **highest**"
   ]
  },
  {
   "cell_type": "code",
   "execution_count": null,
   "id": "32680529-9d61-41ce-a42e-1edeab97d0cb",
   "metadata": {},
   "outputs": [],
   "source": [
    "_ = mscr.analysis_potential_radiation_correlation(utc_offset=1, mincorr=0.7, showplot=True)"
   ]
  },
  {
   "cell_type": "markdown",
   "id": "106b5d5a-988d-429f-a3dc-1846caf357d3",
   "metadata": {},
   "source": [
    "</br>"
   ]
  },
  {
   "cell_type": "markdown",
   "id": "a0c70358-e340-4840-8f1a-3c586322bbe5",
   "metadata": {},
   "source": [
    "</br>"
   ]
  },
  {
   "cell_type": "markdown",
   "id": "a0e6c417-09ac-48ac-98d3-cea5b112d3cd",
   "metadata": {},
   "source": [
    "# **RESAMPLING** <a class=\"anchor\" id=\"resampling\"></a>"
   ]
  },
  {
   "cell_type": "markdown",
   "id": "61eef98e-c4c5-4771-bf50-25e3440ba65c",
   "metadata": {},
   "source": [
    "## Resample"
   ]
  },
  {
   "cell_type": "code",
   "execution_count": 21,
   "id": "ca3ef47b-2b47-4256-8b40-784723115367",
   "metadata": {
    "ExecuteTime": {
     "end_time": "2024-10-04T12:29:29.171654Z",
     "start_time": "2024-10-04T12:29:29.165650Z"
    }
   },
   "outputs": [
    {
     "data": {
      "text/plain": [
       "'sum'"
      ]
     },
     "execution_count": 21,
     "metadata": {},
     "output_type": "execute_result"
    }
   ],
   "source": [
    "RESAMPLING_AGG"
   ]
  },
  {
   "cell_type": "code",
   "execution_count": 22,
   "id": "7767e872-1de7-40e7-96f4-b254f2772b1d",
   "metadata": {
    "ExecuteTime": {
     "end_time": "2024-10-04T12:29:29.454659Z",
     "start_time": "2024-10-04T12:29:29.423654Z"
    },
    "tags": []
   },
   "outputs": [
    {
     "name": "stdout",
     "output_type": "stream",
     "text": [
      "[resample_series_to_30MIN]  running resample_series_to_30MIN ...\n",
      "Resampling data from 10min to 30min frequency ...\n"
     ]
    }
   ],
   "source": [
    "mscr.resample(to_freqstr=RESAMPLING_FREQ, agg=RESAMPLING_AGG, mincounts_perc=.25)"
   ]
  },
  {
   "cell_type": "markdown",
   "id": "f8185376-0096-471a-bcca-01babaacb3c3",
   "metadata": {},
   "source": [
    "## Plot original and resampled data"
   ]
  },
  {
   "cell_type": "code",
   "execution_count": 23,
   "id": "b44cd5d8-7fc9-45a2-a89d-61373b885307",
   "metadata": {
    "ExecuteTime": {
     "end_time": "2024-10-04T12:29:31.993456Z",
     "start_time": "2024-10-04T12:29:31.039227Z"
    },
    "tags": []
   },
   "outputs": [
    {
     "data": {
      "image/png": "[encoded data removed]",
      "text/plain": [
       "<Figure size 1800x900 with 7 Axes>"
      ]
     },
     "metadata": {},
     "output_type": "display_data"
    }
   ],
   "source": [
    "mscr.showplot_resampled()"
   ]
  },
  {
   "cell_type": "markdown",
   "id": "0af7da70-8d03-4235-8301-cacc4aea68d8",
   "metadata": {
    "tags": []
   },
   "source": [
    "## Check time resolution of resampled data"
   ]
  },
  {
   "cell_type": "code",
   "execution_count": 24,
   "id": "e7a99f01-ba5b-4e21-a079-a71672a55293",
   "metadata": {
    "ExecuteTime": {
     "end_time": "2024-10-04T12:29:41.346504Z",
     "start_time": "2024-10-04T12:29:41.325462Z"
    },
    "tags": []
   },
   "outputs": [
    {
     "name": "stdout",
     "output_type": "stream",
     "text": [
      "--------------------\n",
      "PREC_NABEL_TOT_T1_47_1\n",
      "Detecting time resolution from timestamp TIMESTAMP_END ... OK\n",
      "   Detected 30min time resolution with MAXIMUM confidence.\n",
      "   All approaches yielded the same result:\n",
      "       from full data = 30min / full data (OK)\n",
      "       from timedelta = 30min / 100% occurrence (OK)\n",
      "       from progressive = 30min / data 1000+1000 (OK)\n",
      "\n",
      "TEST PASSED - The resampled variable PREC_NABEL_TOT_T1_47_1 has a time resolution of 30min.\n"
     ]
    }
   ],
   "source": [
    "for v in mscr.resampled_detailed.keys():\n",
    "    print(f\"{'-' * 20}\\n{v}\")\n",
    "    _checkfreq = DetectFrequency(index=mscr.resampled_detailed[v].index, verbose=True).get()\n",
    "    if _checkfreq == RESAMPLING_FREQ:\n",
    "        print(f\"TEST PASSED - The resampled variable {v} has a time resolution of {_checkfreq}.\")\n",
    "    else:\n",
    "        print(\n",
    "            f\"{'#' * 20}(!)TEST FAILED - The resampled variable {v} does not have the expected time resolution of {_checkfreq}.{'#' * 20}\")"
   ]
  },
  {
   "cell_type": "markdown",
   "id": "f7859b81-9135-4c4c-ac4f-5d5d57ea67ef",
   "metadata": {},
   "source": [
    "</br>"
   ]
  },
  {
   "cell_type": "markdown",
   "id": "f6b8d0de-3660-42d5-8663-8ba6a11f43a7",
   "metadata": {},
   "source": [
    "</br>"
   ]
  },
  {
   "cell_type": "markdown",
   "id": "3c739858-a057-430c-a5d0-618697ea4e4d",
   "metadata": {},
   "source": [
    "---"
   ]
  },
  {
   "cell_type": "markdown",
   "id": "22fb1124-2641-402c-880f-2669e84eb7da",
   "metadata": {},
   "source": [
    "# **UPLOAD DATA TO THE DATABASE WITH `dbc-influxdb`**"
   ]
  },
  {
   "cell_type": "code",
   "execution_count": 25,
   "id": "01aca467-b79d-4a8a-8f80-ddedc0dbf0b5",
   "metadata": {
    "ExecuteTime": {
     "end_time": "2024-10-04T12:29:45.099302Z",
     "start_time": "2024-10-04T12:29:45.090297Z"
    },
    "tags": []
   },
   "outputs": [
    {
     "name": "stdout",
     "output_type": "stream",
     "text": [
      "Data will be uploaded to bucket ch-lae_processed\n"
     ]
    }
   ],
   "source": [
    "print(f\"Data will be uploaded to bucket {BUCKET_PROCESSED}\")"
   ]
  },
  {
   "cell_type": "markdown",
   "id": "4ce6ff62-8474-4ce3-998d-f1d660dfde3e",
   "metadata": {},
   "source": [
    "<div class=\"alert alert-block alert-success\">\n",
    "    <b>New in v7</b> <i>timezone_offset_to_utc_hours</i> is now given as integer, <i>delete_from_db_before_upload</i> deleted time range for variable from database before the new data are uploaded. \n",
    "</div>"
   ]
  },
  {
   "cell_type": "code",
   "execution_count": 26,
   "id": "57276270-01bc-4d06-b208-25ac0ffbafb1",
   "metadata": {
    "ExecuteTime": {
     "end_time": "2024-10-04T12:29:47.633499Z",
     "start_time": "2024-10-04T12:29:45.828019Z"
    },
    "tags": []
   },
   "outputs": [
    {
     "name": "stdout",
     "output_type": "stream",
     "text": [
      "Deleted variables ['PREC_NABEL_TOT_T1_47_1'] between 2004-01-01T00:30:00+01:00 and 2019-01-01T00:00:00+01:00 from measurements ['PREC'] in bucket ch-lae_processed.\n",
      "Connecting to database ...\n",
      "--> UPLOAD TO DATABASE BUCKET ch-lae_processed:  ['PREC_NABEL_TOT_T1_47_1']  Upload finished.\n"
     ]
    }
   ],
   "source": [
    "for v in mscr.resampled_detailed.keys():\n",
    "    m = assigned_measurements[v]\n",
    "    dbc.upload_singlevar(to_bucket=BUCKET_PROCESSED,\n",
    "                         to_measurement=m,\n",
    "                         var_df=mscr.resampled_detailed[v],\n",
    "                         timezone_offset_to_utc_hours=TIMEZONE_OFFSET_TO_UTC_HOURS,\n",
    "                         delete_from_db_before_upload=True)\n",
    "    # dbc.upload_singlevar(to_bucket='test', to_measurement=m, var_df=vars_qc_resampled[v], timezone_of_timestamp='UTC+01:00')"
   ]
  },
  {
   "cell_type": "markdown",
   "id": "54f31da7-c417-491d-ab8a-f19e651fa088",
   "metadata": {},
   "source": [
    "</br>"
   ]
  },
  {
   "cell_type": "markdown",
   "id": "0e828c02-0995-4977-9433-d243fd6804ed",
   "metadata": {},
   "source": [
    "</br>"
   ]
  },
  {
   "cell_type": "markdown",
   "id": "de1a02a7-416c-4025-8204-82d45ed58fec",
   "metadata": {},
   "source": [
    "---"
   ]
  },
  {
   "cell_type": "markdown",
   "id": "f59d60f3-41f3-40d4-a565-06df87edeb4e",
   "metadata": {},
   "source": [
    "# **DATACHECK: DOWNLOAD FROM DATABASE**"
   ]
  },
  {
   "cell_type": "code",
   "execution_count": 27,
   "id": "f38a21dd-4e66-4830-82f4-e31439786fd2",
   "metadata": {
    "ExecuteTime": {
     "end_time": "2024-10-04T12:29:51.824097Z",
     "start_time": "2024-10-04T12:29:49.694475Z"
    },
    "tags": []
   },
   "outputs": [
    {
     "name": "stdout",
     "output_type": "stream",
     "text": [
      "Reading configuration files was successful.\n",
      "Connection to database works.\n"
     ]
    }
   ],
   "source": [
    "dbc = dbcInflux(dirconf=DIRCONF)\n",
    "# dbc.show_fields_in_measurement(bucket=BUCKET_PROCESSED, measurement='SW')"
   ]
  },
  {
   "cell_type": "code",
   "execution_count": 28,
   "id": "7ae84d33-62ec-4b4f-8898-008015370784",
   "metadata": {
    "ExecuteTime": {
     "end_time": "2024-10-04T12:29:58.963015Z",
     "start_time": "2024-10-04T12:29:58.273335Z"
    },
    "tags": []
   },
   "outputs": [
    {
     "name": "stdout",
     "output_type": "stream",
     "text": [
      "\n",
      "DOWNLOADING\n",
      "    from bucket ch-lae_processed\n",
      "    variables ['PREC_NABEL_TOT_T1_47_1']\n",
      "    from measurements ['PREC']\n",
      "    from data version ['meteoscreening_diive']\n",
      "    between 2004-01-01 00:00:01 and 2019-01-01 00:00:01\n",
      "    with timezone offset to UTC of 1\n",
      "Using querystring:\n",
      "from(bucket: \"ch-lae_processed\") |> range(start: 2004-01-01T00:00:01+01:00, stop: 2019-01-01T00:00:01+01:00) |> filter(fn: (r) => r[\"_measurement\"] == \"PREC\") |> filter(fn: (r) => r[\"data_version\"] == \"meteoscreening_diive\") |> filter(fn: (r) => r[\"_field\"] == \"PREC_NABEL_TOT_T1_47_1\") |> pivot(rowKey:[\"_time\"], columnKey: [\"_field\"], valueColumn: \"_value\")\n",
      "Used querystring: from(bucket: \"ch-lae_processed\") |> range(start: 2004-01-01T00:00:01+01:00, stop: 2019-01-01T00:00:01+01:00) |> filter(fn: (r) => r[\"_measurement\"] == \"PREC\") |> filter(fn: (r) => r[\"data_version\"] == \"meteoscreening_diive\") |> filter(fn: (r) => r[\"_field\"] == \"PREC_NABEL_TOT_T1_47_1\") |> pivot(rowKey:[\"_time\"], columnKey: [\"_field\"], valueColumn: \"_value\")\n",
      "querystring was constructed from:\n",
      "    bucketstring: from(bucket: \"ch-lae_processed\")\n",
      "    rangestring: |> range(start: 2004-01-01T00:00:01+01:00, stop: 2019-01-01T00:00:01+01:00)\n",
      "    measurementstring: |> filter(fn: (r) => r[\"_measurement\"] == \"PREC\")\n",
      "    dataversionstring: |> filter(fn: (r) => r[\"data_version\"] == \"meteoscreening_diive\")\n",
      "    fieldstring: |> filter(fn: (r) => r[\"_field\"] == \"PREC_NABEL_TOT_T1_47_1\")\n",
      "    pivotstring: |> pivot(rowKey:[\"_time\"], columnKey: [\"_field\"], valueColumn: \"_value\")\n",
      "Download finished.\n",
      "Downloaded data for 1 variables:\n",
      "<-- PREC_NABEL_TOT_T1_47_1  (260743 records)  first date: 2004-01-01 00:30:00  last date: 2019-01-01 00:00:00\n",
      "========================================\n",
      "Fields in measurement PREC of bucket ch-lae_processed:\n",
      "#1  ch-lae_processed  PREC  PREC\n",
      "#2  ch-lae_processed  PREC  PREC_ERA\n",
      "#3  ch-lae_processed  PREC  PREC_F\n",
      "#4  ch-lae_processed  PREC  PREC_F_QC\n",
      "#5  ch-lae_processed  PREC  PREC_NABEL_TOT_T1_27_1\n",
      "#6  ch-lae_processed  PREC  PREC_NABEL_TOT_T1_47_1\n",
      "#7  ch-lae_processed  PREC  PREC_TOT_T1_47_1\n",
      "Found 7 fields in measurement PREC of bucket ch-lae_processed.\n",
      "========================================\n"
     ]
    }
   ],
   "source": [
    "MEASUREMENT = ['PREC']\n",
    "data_simple, data_detailed, assigned_measurements = dbc.download(bucket=BUCKET_PROCESSED,\n",
    "                                                                 measurements=MEASUREMENT,\n",
    "                                                                 fields=FIELDS,\n",
    "                                                                 start=START,\n",
    "                                                                 stop=STOP,\n",
    "                                                                 timezone_offset_to_utc_hours=TIMEZONE_OFFSET_TO_UTC_HOURS,\n",
    "                                                                 data_version='meteoscreening_diive')"
   ]
  },
  {
   "cell_type": "code",
   "execution_count": 29,
   "id": "45e05d39-2c46-47fa-b597-1dd27e5f6cbf",
   "metadata": {
    "ExecuteTime": {
     "end_time": "2024-10-04T12:29:59.576894Z",
     "start_time": "2024-10-04T12:29:59.557895Z"
    },
    "tags": []
   },
   "outputs": [
    {
     "data": {
      "text/html": [
       "<div>\n",
       "<style scoped>\n",
       "    .dataframe tbody tr th:only-of-type {\n",
       "        vertical-align: middle;\n",
       "    }\n",
       "\n",
       "    .dataframe tbody tr th {\n",
       "        vertical-align: top;\n",
       "    }\n",
       "\n",
       "    .dataframe thead th {\n",
       "        text-align: right;\n",
       "    }\n",
       "</style>\n",
       "<table border=\"1\" class=\"dataframe\">\n",
       "  <thead>\n",
       "    <tr style=\"text-align: right;\">\n",
       "      <th></th>\n",
       "      <th>PREC_NABEL_TOT_T1_47_1</th>\n",
       "    </tr>\n",
       "    <tr>\n",
       "      <th>TIMESTAMP_END</th>\n",
       "      <th></th>\n",
       "    </tr>\n",
       "  </thead>\n",
       "  <tbody>\n",
       "    <tr>\n",
       "      <th>2004-01-01 00:30:00</th>\n",
       "      <td>0.0</td>\n",
       "    </tr>\n",
       "    <tr>\n",
       "      <th>2004-01-01 01:00:00</th>\n",
       "      <td>0.0</td>\n",
       "    </tr>\n",
       "    <tr>\n",
       "      <th>2004-01-01 01:30:00</th>\n",
       "      <td>0.0</td>\n",
       "    </tr>\n",
       "    <tr>\n",
       "      <th>2004-01-01 02:00:00</th>\n",
       "      <td>0.0</td>\n",
       "    </tr>\n",
       "    <tr>\n",
       "      <th>2004-01-01 02:30:00</th>\n",
       "      <td>0.0</td>\n",
       "    </tr>\n",
       "    <tr>\n",
       "      <th>...</th>\n",
       "      <td>...</td>\n",
       "    </tr>\n",
       "    <tr>\n",
       "      <th>2018-12-31 22:00:00</th>\n",
       "      <td>0.0</td>\n",
       "    </tr>\n",
       "    <tr>\n",
       "      <th>2018-12-31 22:30:00</th>\n",
       "      <td>0.0</td>\n",
       "    </tr>\n",
       "    <tr>\n",
       "      <th>2018-12-31 23:00:00</th>\n",
       "      <td>0.0</td>\n",
       "    </tr>\n",
       "    <tr>\n",
       "      <th>2018-12-31 23:30:00</th>\n",
       "      <td>0.0</td>\n",
       "    </tr>\n",
       "    <tr>\n",
       "      <th>2019-01-01 00:00:00</th>\n",
       "      <td>0.0</td>\n",
       "    </tr>\n",
       "  </tbody>\n",
       "</table>\n",
       "<p>260743 rows × 1 columns</p>\n",
       "</div>"
      ],
      "text/plain": [
       "                     PREC_NABEL_TOT_T1_47_1\n",
       "TIMESTAMP_END                              \n",
       "2004-01-01 00:30:00                     0.0\n",
       "2004-01-01 01:00:00                     0.0\n",
       "2004-01-01 01:30:00                     0.0\n",
       "2004-01-01 02:00:00                     0.0\n",
       "2004-01-01 02:30:00                     0.0\n",
       "...                                     ...\n",
       "2018-12-31 22:00:00                     0.0\n",
       "2018-12-31 22:30:00                     0.0\n",
       "2018-12-31 23:00:00                     0.0\n",
       "2018-12-31 23:30:00                     0.0\n",
       "2019-01-01 00:00:00                     0.0\n",
       "\n",
       "[260743 rows x 1 columns]"
      ]
     },
     "execution_count": 29,
     "metadata": {},
     "output_type": "execute_result"
    }
   ],
   "source": [
    "data_simple"
   ]
  },
  {
   "cell_type": "markdown",
   "id": "7e23d0eb-358f-495a-9c43-4a2750d51580",
   "metadata": {
    "tags": []
   },
   "source": [
    "## Check time resolution of downloaded data"
   ]
  },
  {
   "cell_type": "code",
   "execution_count": 30,
   "id": "cd6589ae-5bee-4f54-9c82-0e1f7e3f5d2a",
   "metadata": {
    "ExecuteTime": {
     "end_time": "2024-10-04T12:30:00.130837Z",
     "start_time": "2024-10-04T12:30:00.125837Z"
    },
    "tags": []
   },
   "outputs": [
    {
     "name": "stdout",
     "output_type": "stream",
     "text": [
      "--------------------\n",
      "PREC_NABEL_TOT_T1_47_1\n",
      "Detecting time resolution from timestamp TIMESTAMP_END ... OK\n",
      "   Detected 30min time resolution with HIGH confidence.\n",
      "   Resolution detected from most frequent timestep (timedelta):\n",
      "       from full data = None / -failed- (not used)\n",
      "       from timedelta = 30min / 100% occurrence (OK)\n",
      "       from progressive = 30min / data 1000+1000 (not used)\n",
      "\n",
      "TEST PASSED - The downloaded variable PREC_NABEL_TOT_T1_47_1 has a time resolution of 30min.\n"
     ]
    }
   ],
   "source": [
    "for v in data_detailed.keys():\n",
    "    print(f\"{'-' * 20}\\n{v}\")\n",
    "    _checkfreq = DetectFrequency(index=data_detailed[v].index, verbose=True).get()\n",
    "    if _checkfreq == RESAMPLING_FREQ:\n",
    "        print(f\"TEST PASSED - The downloaded variable {v} has a time resolution of {_checkfreq}.\")\n",
    "    else:\n",
    "        print(\n",
    "            f\"{'#' * 20}(!)TEST FAILED - The downloaded variable {v} does not have the expected time resolution of {_checkfreq}.{'#' * 20}\")"
   ]
  },
  {
   "cell_type": "markdown",
   "id": "da0c39c8-7c1c-43c9-8eff-815b7c7cc2fa",
   "metadata": {},
   "source": [
    "</br>"
   ]
  },
  {
   "cell_type": "markdown",
   "id": "21ede306-a63e-4462-9744-8e93d9ee1937",
   "metadata": {},
   "source": [
    "---"
   ]
  },
  {
   "cell_type": "markdown",
   "id": "42b8c883-3886-4d6f-bd43-036fa99706b5",
   "metadata": {},
   "source": [
    "# **End of notebook.**\n",
    "Congratulations, you reached the end of this notebook! Before you go let's store your finish time."
   ]
  },
  {
   "cell_type": "code",
   "execution_count": 31,
   "id": "e6ea09b1-a8b1-420f-9df0-44e50d69c37c",
   "metadata": {
    "ExecuteTime": {
     "end_time": "2024-10-04T12:30:02.259612Z",
     "start_time": "2024-10-04T12:30:02.245613Z"
    },
    "tags": []
   },
   "outputs": [
    {
     "name": "stdout",
     "output_type": "stream",
     "text": [
      "Finished. 2025-05-19 15:50:40\n"
     ]
    }
   ],
   "source": [
    "dt_string = datetime.now().strftime(\"%Y-%m-%d %H:%M:%S\")\n",
    "print(f\"Finished. {dt_string}\")"
   ]
  },
  {
   "cell_type": "code",
   "execution_count": null,
   "id": "37e9181f-57bc-4f4f-97dc-c60897a480fc",
   "metadata": {},
   "outputs": [],
   "source": []
  }
 ],
 "metadata": {
  "kernelspec": {
   "display_name": "Python 3 (ipykernel)",
   "language": "python",
   "name": "python3"
  },
  "language_info": {
   "codemirror_mode": {
    "name": "ipython",
    "version": 3
   },
   "file_extension": ".py",
   "mimetype": "text/x-python",
   "name": "python",
   "nbconvert_exporter": "python",
   "pygments_lexer": "ipython3",
   "version": "3.11.11"
  },
  "toc-autonumbering": false
 },
 "nbformat": 4,
 "nbformat_minor": 5
}
