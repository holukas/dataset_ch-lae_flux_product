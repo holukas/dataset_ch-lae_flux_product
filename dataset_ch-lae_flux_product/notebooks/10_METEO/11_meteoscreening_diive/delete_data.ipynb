{
 "cells": [
  {
   "cell_type": "markdown",
   "id": "d40d22f3968b2f8c",
   "metadata": {},
   "source": [
    "<span style='font-size:40px; display:block;'>\n",
    "<b>\n",
    "    Delete data from database (influxdb)\n",
    "</b>\n",
    "</span>"
   ]
  },
  {
   "cell_type": "markdown",
   "id": "8b42ea93-fd48-45ab-9ffa-a47dc35b0ef8",
   "metadata": {},
   "source": [
    "---\n",
    "**Author**: Lukas Hörtnagl  \n",
    "**Last update**: 11 Mar 2025"
   ]
  },
  {
   "cell_type": "markdown",
   "id": "6d461ec9a88bdb51",
   "metadata": {},
   "source": [
    "# **Imports**"
   ]
  },
  {
   "cell_type": "code",
   "execution_count": 7,
   "id": "f7928bb1a4a9bc08",
   "metadata": {
    "ExecuteTime": {
     "end_time": "2024-08-28T00:38:48.409866Z",
     "start_time": "2024-08-28T00:38:48.395862Z"
    }
   },
   "outputs": [],
   "source": [
    "import warnings\n",
    "from datetime import datetime\n",
    "\n",
    "import dbc_influxdb as dbc\n",
    "\n",
    "warnings.simplefilter(\"ignore\")"
   ]
  },
  {
   "cell_type": "markdown",
   "id": "bbc462ad4836d9a7",
   "metadata": {},
   "source": [
    "</br>"
   ]
  },
  {
   "cell_type": "markdown",
   "id": "8ef208f947470920",
   "metadata": {},
   "source": [
    "# **Connect to database**"
   ]
  },
  {
   "cell_type": "code",
   "execution_count": 8,
   "id": "51dfb389a5c1e9a",
   "metadata": {
    "ExecuteTime": {
     "end_time": "2024-08-28T00:38:50.504193Z",
     "start_time": "2024-08-28T00:38:48.458372Z"
    }
   },
   "outputs": [
    {
     "name": "stdout",
     "output_type": "stream",
     "text": [
      "Reading configuration files was successful.\n",
      "Connection to database works.\n"
     ]
    }
   ],
   "source": [
    "# Folder with configurations\n",
    "DIRCONF = r'F:\\Sync\\luhk_work\\20 - CODING\\22 - POET\\configs'  \n",
    "\n",
    "# Instantiate class\n",
    "dbc = dbc.dbcInflux(dirconf=DIRCONF)"
   ]
  },
  {
   "cell_type": "markdown",
   "id": "2925cce54011801",
   "metadata": {},
   "source": [
    "</br>"
   ]
  },
  {
   "cell_type": "markdown",
   "id": "14f5dac20c9cbe9",
   "metadata": {},
   "source": [
    "# **Docstring**"
   ]
  },
  {
   "cell_type": "code",
   "execution_count": 9,
   "id": "c11fcc9625708819",
   "metadata": {
    "ExecuteTime": {
     "end_time": "2024-08-28T00:38:50.583702Z",
     "start_time": "2024-08-28T00:38:50.573702Z"
    }
   },
   "outputs": [],
   "source": [
    "# help(dbc.delete)"
   ]
  },
  {
   "cell_type": "markdown",
   "id": "9b534ecc011dc364",
   "metadata": {},
   "source": [
    "</br>"
   ]
  },
  {
   "cell_type": "markdown",
   "id": "56e2d699-3225-4b9c-a329-b8ca3d26666d",
   "metadata": {},
   "source": [
    "# **Delete specific variables**"
   ]
  },
  {
   "cell_type": "code",
   "execution_count": 10,
   "id": "49db2ca8-b7e8-46a6-a670-7f7b3a416a42",
   "metadata": {},
   "outputs": [
    {
     "name": "stdout",
     "output_type": "stream",
     "text": [
      "Deleted variables ['PREC_NABEL_TOT_T1_27_1'] between 2000-01-01T00:00:01+01:00 and 2099-01-01T00:00:01+01:00 from measurements ['PREC'] in bucket ch-lae_processed.\n"
     ]
    }
   ],
   "source": [
    "BUCKET = f'ch-lae_processed'\n",
    "DATA_VERSION = 'meteoscreening_diive'\n",
    "MEASUREMENTS = ['PREC']  # Measurement name(s)\n",
    "FIELDS = ['PREC_NABEL_TOT_T1_27_1']  # Variable name(s); InfluxDB stores variable names as '_field'\n",
    "START = '2000-01-01 00:00:01'  # Delete data starting with this date\n",
    "STOP = '2099-01-01 00:00:01'  # Delete data before this date (the stop date itself is not included)\n",
    "TIMEZONE_OFFSET_TO_UTC_HOURS = 1  # Timezone, e.g. \"1\" is translated to timezone \"UTC+01:00\" (CET, winter time)\n",
    "\n",
    "# Delete\n",
    "dbc.delete(\n",
    "    bucket=BUCKET,\n",
    "    measurements=MEASUREMENTS,\n",
    "    fields=FIELDS,\n",
    "    start=START,\n",
    "    stop=STOP,\n",
    "    timezone_offset_to_utc_hours=TIMEZONE_OFFSET_TO_UTC_HOURS,\n",
    "    data_version=DATA_VERSION\n",
    ")"
   ]
  },
  {
   "cell_type": "markdown",
   "id": "8a063630fdd2144",
   "metadata": {},
   "source": [
    "# **Delete all data of a specific data version**"
   ]
  },
  {
   "cell_type": "code",
   "execution_count": 11,
   "id": "7e3e138e097b02c9",
   "metadata": {
    "ExecuteTime": {
     "end_time": "2024-08-28T00:38:50.952377Z",
     "start_time": "2024-08-28T00:38:50.672637Z"
    }
   },
   "outputs": [],
   "source": [
    "# # Settings\n",
    "# BUCKET = f'a'\n",
    "# DATA_VERSION = 'meteoscreening_mst'\n",
    "# DIRCONF = r'L:\\Sync\\luhk_work\\20 - CODING\\22 - POET\\configs'  # Folder with configurations\n",
    "# MEASUREMENTS = True\n",
    "# FIELDS = True\n",
    "# START = '2021-01-01 00:00:01'  # Delete data starting with this date\n",
    "# STOP = '2022-01-01 00:00:01'  # Delete data before this date (the stop date itself is not included)\n",
    "# TIMEZONE_OFFSET_TO_UTC_HOURS = 1  # Timezone, e.g. \"1\" is translated to timezone \"UTC+01:00\" (CET, winter time)\n",
    "\n",
    "# # Delete\n",
    "# dbc.delete(\n",
    "#     bucket=BUCKET,\n",
    "#     measurements=MEASUREMENTS,\n",
    "#     fields=FIELDS,\n",
    "#     start=START,\n",
    "#     stop=STOP,\n",
    "#     timezone_offset_to_utc_hours=TIMEZONE_OFFSET_TO_UTC_HOURS,\n",
    "#     data_version=DATA_VERSION\n",
    "# )"
   ]
  },
  {
   "cell_type": "markdown",
   "id": "8792fddd2e6ad71d",
   "metadata": {},
   "source": [
    "</br>"
   ]
  },
  {
   "cell_type": "markdown",
   "id": "e2d3e3ccdf374809",
   "metadata": {},
   "source": [
    "# **End of notebook.**\n",
    "Congratulations, you reached the end of this notebook! Before you go let's store your finish time."
   ]
  },
  {
   "cell_type": "code",
   "execution_count": 12,
   "id": "d999de81e5509f7",
   "metadata": {
    "ExecuteTime": {
     "end_time": "2024-08-28T00:38:51.037469Z",
     "start_time": "2024-08-28T00:38:51.022956Z"
    },
    "tags": []
   },
   "outputs": [
    {
     "name": "stdout",
     "output_type": "stream",
     "text": [
      "Finished. 2025-05-19 15:48:17\n"
     ]
    }
   ],
   "source": [
    "dt_string = datetime.now().strftime(\"%Y-%m-%d %H:%M:%S\")\n",
    "print(f\"Finished. {dt_string}\")"
   ]
  },
  {
   "cell_type": "code",
   "execution_count": null,
   "id": "b4c906858692e0a5",
   "metadata": {
    "ExecuteTime": {
     "end_time": "2024-08-28T00:38:51.069470Z",
     "start_time": "2024-08-28T00:38:51.054473Z"
    }
   },
   "outputs": [],
   "source": []
  }
 ],
 "metadata": {
  "kernelspec": {
   "display_name": "Python 3 (ipykernel)",
   "language": "python",
   "name": "python3"
  },
  "language_info": {
   "codemirror_mode": {
    "name": "ipython",
    "version": 3
   },
   "file_extension": ".py",
   "mimetype": "text/x-python",
   "name": "python",
   "nbconvert_exporter": "python",
   "pygments_lexer": "ipython3",
   "version": "3.11.11"
  }
 },
 "nbformat": 4,
 "nbformat_minor": 5
}
