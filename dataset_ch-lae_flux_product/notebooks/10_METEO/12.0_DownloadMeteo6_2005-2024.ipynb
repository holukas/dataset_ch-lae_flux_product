{
 "cells": [
  {
   "cell_type": "markdown",
   "id": "2cb69589-01ea-4fa7-b60d-00c7d87ecc42",
   "metadata": {},
   "source": [
    "# Download multiple meteoscreening variables"
   ]
  },
  {
   "cell_type": "markdown",
   "id": "7b302c76-a358-42e4-86f1-605239b7ba3a",
   "metadata": {},
   "source": [
    "**notebook version**: `3` (4 Jul 2024)  \n",
    "**new in this version**: added check if downloaded data is indeed in 30MIN time resolution\n",
    "\n",
    "- This notebook can be used to download data from the database `InfluxDB`\n",
    "- Data are stored to a `.csv` file in this folder"
   ]
  },
  {
   "cell_type": "markdown",
   "id": "d2a15198-883d-4cf7-9198-b97f5a1774e1",
   "metadata": {},
   "source": [
    "</br>"
   ]
  },
  {
   "cell_type": "markdown",
   "id": "653aab3f-6261-407d-a311-0b39502cb79d",
   "metadata": {},
   "source": [
    "# Info about data sources of variables"
   ]
  },
  {
   "cell_type": "markdown",
   "id": "b244065e-2dda-44b9-a639-3156afe78167",
   "metadata": {},
   "source": [
    "- `TA`: NABEL (2004-2018), mst (2019-2021), diive (2022-2024)\n",
    "- `SW_IN`: NABEL (2004-2018), mst (2019-2021), diive (2022-2024)\n",
    "- `RH`: NABEL (2004-2018), mst (2019-2021), diive (2022-2024)\n",
    "- `PPFD_IN`:\n",
    "- `LW_IN`:\n",
    "- `PA`:\n",
    "\n",
    "Legend:\n",
    "- NABEL ... Data from [NABEL](https://www.bafu.admin.ch/bafu/en/home/topics/air/luftbelastung/national-air-pollution-monitoring-network--nabel-.html), meteoscreening with [diive](https://github.com/holukas/diive)\n",
    "- mst ... Data from ETH, meteoscreening with the now deprecated MeteoscreeningTool\n",
    "- diive ... Data from ETH, meteoscreening with diive"
   ]
  },
  {
   "cell_type": "markdown",
   "id": "ed3203ee-de8c-4177-a88f-b4ad63485eb6",
   "metadata": {},
   "source": [
    "</br>"
   ]
  },
  {
   "cell_type": "markdown",
   "id": "01673648-2743-4026-9699-ef921ca8cac7",
   "metadata": {},
   "source": [
    "# Settings"
   ]
  },
  {
   "cell_type": "markdown",
   "id": "ad1202e4-be6b-49db-824e-4adb164ab637",
   "metadata": {},
   "source": [
    "## Data settings"
   ]
  },
  {
   "cell_type": "code",
   "execution_count": 1,
   "id": "d0aaaf11-fd0c-47fe-a869-79ca6e4507b1",
   "metadata": {},
   "outputs": [],
   "source": [
    "DIRCONF = r'F:\\Sync\\luhk_work\\20 - CODING\\22 - POET\\configs'\n",
    "# DIRCONF = r'P:\\Flux\\RDS_calculations\\_scripts\\_configs\\configs'  # Folder with configuration files: needed e.g. for connection to database\n",
    "TIMEZONE_OFFSET_TO_UTC_HOURS = 1  # Timezone, e.g. \"1\" is translated to timezone \"UTC+01:00\" (CET, winter time)\n",
    "REQUIRED_TIME_RESOLUTION = '30min'  # 30MIN time resolution\n",
    "SITE_LAT = 47.478333   # CH-LAE\n",
    "SITE_LON = 8.364389  # CH-LAE"
   ]
  },
  {
   "cell_type": "markdown",
   "id": "acd7176f-9419-40c0-8028-6b94929c1937",
   "metadata": {},
   "source": [
    "## Imports"
   ]
  },
  {
   "cell_type": "code",
   "execution_count": 2,
   "id": "335cc79e-7c01-4dfe-8f72-b2406b8ea136",
   "metadata": {},
   "outputs": [
    {
     "name": "stdout",
     "output_type": "stream",
     "text": [
      "diive version: v0.87.0\n",
      "dbc-influxdb version: v0.13.1\n",
      "Reading configuration files was successful.\n",
      "Connection to database works.\n"
     ]
    }
   ],
   "source": [
    "from datetime import datetime\n",
    "from pathlib import Path\n",
    "import importlib.metadata\n",
    "import matplotlib\n",
    "import matplotlib.pyplot as plt\n",
    "import matplotlib.gridspec as gridspec\n",
    "%matplotlib inline\n",
    "import numpy as np\n",
    "import pandas as pd\n",
    "import seaborn as sns\n",
    "sns.set_theme('notebook')\n",
    "from diive.core.plotting.timeseries import TimeSeries\n",
    "from dbc_influxdb import dbcInflux\n",
    "import diive as dv\n",
    "from diive.core.plotting.heatmap_datetime import HeatmapDateTime\n",
    "from diive.core.times.times import DetectFrequency\n",
    "from diive.core.times.times import TimestampSanitizer\n",
    "from diive.core.io.files import save_parquet\n",
    "from diive.pkgs.createvar.potentialradiation import potrad\n",
    "from diive.pkgs.gapfilling.xgboost_ts import XGBoostTS\n",
    "from diive.pkgs.corrections.offsetcorrection import remove_relativehumidity_offset, remove_radiation_zero_offset\n",
    "import warnings\n",
    "from influxdb_client.client.warnings import MissingPivotFunction\n",
    "warnings.filterwarnings(action='ignore', category=FutureWarning)\n",
    "warnings.filterwarnings(action='ignore', category=UserWarning)\n",
    "dt_string = datetime.now().strftime(\"%Y-%m-%d %H:%M:%S\")\n",
    "version_diive = importlib.metadata.version(\"diive\")\n",
    "print(f\"diive version: v{version_diive}\")\n",
    "version_dbc = importlib.metadata.version(\"dbc_influxdb\")\n",
    "print(f\"dbc-influxdb version: v{version_dbc}\")\n",
    "dbc = dbcInflux(dirconf=DIRCONF)  # Connect to database"
   ]
  },
  {
   "cell_type": "markdown",
   "id": "b8f0546b-b1f8-46d6-855b-39c940e046f3",
   "metadata": {},
   "source": [
    "</br>"
   ]
  },
  {
   "cell_type": "markdown",
   "id": "054b7513-8f0e-402d-a74d-768d43897874",
   "metadata": {},
   "source": [
    "</br>"
   ]
  },
  {
   "cell_type": "markdown",
   "id": "a76a145b-9c9f-4294-acd1-1db8507b367e",
   "metadata": {},
   "source": [
    "# TA, SW_IN and RH"
   ]
  },
  {
   "cell_type": "markdown",
   "id": "7c260537-0632-44e6-8b42-44e25b6ca39a",
   "metadata": {},
   "source": [
    "## `NABEL` data from `diive` meteoscreening (2004-2018)"
   ]
  },
  {
   "cell_type": "markdown",
   "id": "1d0b6ba7-8ac7-4e32-9249-04cd8fd8254c",
   "metadata": {},
   "source": [
    "### Download"
   ]
  },
  {
   "cell_type": "code",
   "execution_count": 7,
   "id": "6f270753-9850-4d05-aa55-c40d486d3a84",
   "metadata": {
    "scrolled": true
   },
   "outputs": [
    {
     "name": "stdout",
     "output_type": "stream",
     "text": [
      "\n",
      "DOWNLOADING\n",
      "    from bucket ch-lae_processed\n",
      "    variables ['TA_NABEL_T1_49_1', 'RH_NABEL_T1_49_1', 'SW_IN_NABEL_T1_49_1']\n",
      "    from measurements ['TA', 'RH', 'SW']\n",
      "    from data version ['meteoscreening_diive']\n",
      "    between 2004-01-01 00:00:01 and 2019-01-01 00:00:01\n",
      "    with timezone offset to UTC of 1\n",
      "Using querystring:\n",
      "from(bucket: \"ch-lae_processed\") |> range(start: 2004-01-01T00:00:01+01:00, stop: 2019-01-01T00:00:01+01:00) |> filter(fn: (r) => r[\"_measurement\"] == \"TA\" or r[\"_measurement\"] == \"RH\" or r[\"_measurement\"] == \"SW\") |> filter(fn: (r) => r[\"data_version\"] == \"meteoscreening_diive\") |> filter(fn: (r) => r[\"_field\"] == \"TA_NABEL_T1_49_1\" or r[\"_field\"] == \"RH_NABEL_T1_49_1\" or r[\"_field\"] == \"SW_IN_NABEL_T1_49_1\") |> pivot(rowKey:[\"_time\"], columnKey: [\"_field\"], valueColumn: \"_value\")\n",
      "Used querystring: from(bucket: \"ch-lae_processed\") |> range(start: 2004-01-01T00:00:01+01:00, stop: 2019-01-01T00:00:01+01:00) |> filter(fn: (r) => r[\"_measurement\"] == \"TA\" or r[\"_measurement\"] == \"RH\" or r[\"_measurement\"] == \"SW\") |> filter(fn: (r) => r[\"data_version\"] == \"meteoscreening_diive\") |> filter(fn: (r) => r[\"_field\"] == \"TA_NABEL_T1_49_1\" or r[\"_field\"] == \"RH_NABEL_T1_49_1\" or r[\"_field\"] == \"SW_IN_NABEL_T1_49_1\") |> pivot(rowKey:[\"_time\"], columnKey: [\"_field\"], valueColumn: \"_value\")\n",
      "querystring was constructed from:\n",
      "    bucketstring: from(bucket: \"ch-lae_processed\")\n",
      "    rangestring: |> range(start: 2004-01-01T00:00:01+01:00, stop: 2019-01-01T00:00:01+01:00)\n",
      "    measurementstring: |> filter(fn: (r) => r[\"_measurement\"] == \"TA\" or r[\"_measurement\"] == \"RH\" or r[\"_measurement\"] == \"SW\")\n",
      "    dataversionstring: |> filter(fn: (r) => r[\"data_version\"] == \"meteoscreening_diive\")\n",
      "    fieldstring: |> filter(fn: (r) => r[\"_field\"] == \"TA_NABEL_T1_49_1\" or r[\"_field\"] == \"RH_NABEL_T1_49_1\" or r[\"_field\"] == \"SW_IN_NABEL_T1_49_1\")\n",
      "    pivotstring: |> pivot(rowKey:[\"_time\"], columnKey: [\"_field\"], valueColumn: \"_value\")\n",
      "Download finished.\n",
      "Downloaded data for 3 variables:\n",
      "<-- RH_NABEL_T1_49_1  (262314 records)  first date: 2004-01-01 00:30:00  last date: 2019-01-01 00:00:00\n",
      "<-- SW_IN_NABEL_T1_49_1  (262774 records)  first date: 2004-01-01 00:30:00  last date: 2019-01-01 00:00:00\n",
      "<-- TA_NABEL_T1_49_1  (262403 records)  first date: 2004-01-01 00:30:00  last date: 2019-01-01 00:00:00\n",
      "========================================\n",
      "Fields in measurement TA of bucket ch-lae_processed:\n",
      "#1  ch-lae_processed  TA  TA_EP\n",
      "#2  ch-lae_processed  TA  TA_ERA\n",
      "#3  ch-lae_processed  TA  TA_F\n",
      "#4  ch-lae_processed  TA  TA_FF1_2_1\n",
      "#5  ch-lae_processed  TA  TA_F_MDS\n",
      "#6  ch-lae_processed  TA  TA_F_MDS_QC\n",
      "#7  ch-lae_processed  TA  TA_F_QC\n",
      "#8  ch-lae_processed  TA  TA_H1_0_1\n",
      "#9  ch-lae_processed  TA  TA_IRGA70_PRF_M1_0.1_1\n",
      "#10  ch-lae_processed  TA  TA_IRGA70_PRF_M1_1_1\n",
      "#11  ch-lae_processed  TA  TA_IRGA70_PRF_M2_0.1_1\n",
      "#12  ch-lae_processed  TA  TA_IRGA70_PRF_M2_1_1\n",
      "#13  ch-lae_processed  TA  TA_IRGA70_PRF_T1_0.1_1\n",
      "#14  ch-lae_processed  TA  TA_IRGA70_PRF_T1_1_1\n",
      "#15  ch-lae_processed  TA  TA_IRGA70_PRF_T1_27_1\n",
      "#16  ch-lae_processed  TA  TA_IRGA70_PRF_T1_3_1\n",
      "#17  ch-lae_processed  TA  TA_IRGA70_PRF_T1_44_1\n",
      "#18  ch-lae_processed  TA  TA_IRGA70_PRF_T1_54_1\n",
      "#19  ch-lae_processed  TA  TA_IRGA70_PRF_T1_5_1\n",
      "#20  ch-lae_processed  TA  TA_IRGA70_PRF_T1_9_1\n",
      "#21  ch-lae_processed  TA  TA_NABEL_T1_49_1\n",
      "#22  ch-lae_processed  TA  TA_PRF_T1_0.1_1\n",
      "#23  ch-lae_processed  TA  TA_PRF_T1_0.4_1\n",
      "#24  ch-lae_processed  TA  TA_PRF_T1_10_1\n",
      "#25  ch-lae_processed  TA  TA_PRF_T1_27_1\n",
      "#26  ch-lae_processed  TA  TA_PRF_T1_44_1\n",
      "#27  ch-lae_processed  TA  TA_PRF_T1_54_1\n",
      "#28  ch-lae_processed  TA  TA_T1_47_1\n",
      "#29  ch-lae_processed  TA  T_SONIC\n",
      "Found 29 fields in measurement TA of bucket ch-lae_processed.\n",
      "========================================\n",
      "========================================\n",
      "Fields in measurement RH of bucket ch-lae_processed:\n",
      "#1  ch-lae_processed  RH  RH\n",
      "#2  ch-lae_processed  RH  RH_1_1_1\n",
      "#3  ch-lae_processed  RH  RH_EP\n",
      "#4  ch-lae_processed  RH  RH_FF1_2_1\n",
      "#5  ch-lae_processed  RH  RH_NABEL_T1_49_1\n",
      "#6  ch-lae_processed  RH  RH_PRF_T1_0.1_1\n",
      "#7  ch-lae_processed  RH  RH_PRF_T1_0.4_1\n",
      "#8  ch-lae_processed  RH  RH_PRF_T1_10_1\n",
      "#9  ch-lae_processed  RH  RH_PRF_T1_27_1\n",
      "#10  ch-lae_processed  RH  RH_PRF_T1_44_1\n",
      "#11  ch-lae_processed  RH  RH_PRF_T1_54_1\n",
      "#12  ch-lae_processed  RH  RH_T1_47_1\n",
      "Found 12 fields in measurement RH of bucket ch-lae_processed.\n",
      "========================================\n",
      "========================================\n",
      "Fields in measurement SW of bucket ch-lae_processed:\n",
      "#1  ch-lae_processed  SW  NIGHT\n",
      "#2  ch-lae_processed  SW  SW_IN_CORRECTED_T1_47_1\n",
      "#3  ch-lae_processed  SW  SW_IN_ERA\n",
      "#4  ch-lae_processed  SW  SW_IN_F\n",
      "#5  ch-lae_processed  SW  SW_IN_F_MDS\n",
      "#6  ch-lae_processed  SW  SW_IN_F_MDS_QC\n",
      "#7  ch-lae_processed  SW  SW_IN_F_QC\n",
      "#8  ch-lae_processed  SW  SW_IN_NABEL_T1_49_1\n",
      "#9  ch-lae_processed  SW  SW_IN_POT\n",
      "#10  ch-lae_processed  SW  SW_IN_T1_47_1\n",
      "#11  ch-lae_processed  SW  SW_OUT_CORRECTED_T1_47_1\n",
      "#12  ch-lae_processed  SW  SW_OUT_T1_47_1\n",
      "Found 12 fields in measurement SW of bucket ch-lae_processed.\n",
      "========================================\n",
      "CPU times: total: 17.3 s\n",
      "Wall time: 22.9 s\n"
     ]
    }
   ],
   "source": [
    "%%time\n",
    "\n",
    "BUCKET = f'ch-lae_processed'\n",
    "FIELDS = ['TA_NABEL_T1_49_1', 'RH_NABEL_T1_49_1', 'SW_IN_NABEL_T1_49_1']\n",
    "MEASUREMENTS = ['TA', 'RH', 'SW']\n",
    "START = '2004-01-01 00:00:01'\n",
    "STOP = '2019-01-01 00:00:01'\n",
    "DATA_VERSION = 'meteoscreening_diive'\n",
    "\n",
    "nabel_diive_ta_rh_swin_2004_2018, _, _ = dbc.download(\n",
    "    bucket=BUCKET,\n",
    "    measurements=MEASUREMENTS,\n",
    "    fields=FIELDS,\n",
    "    start=START,  # Download data starting with this date (the start date itself IS included),\n",
    "    stop=STOP,  # Download data before this date (the stop date itself IS NOT included),\n",
    "    timezone_offset_to_utc_hours=TIMEZONE_OFFSET_TO_UTC_HOURS,\n",
    "    data_version=DATA_VERSION\n",
    ")"
   ]
  },
  {
   "cell_type": "code",
   "execution_count": 4,
   "id": "b79088be-b2d8-4a0a-a52a-7ea05ebc862c",
   "metadata": {},
   "outputs": [
    {
     "data": {
      "text/html": [
       "<div>\n",
       "<style scoped>\n",
       "    .dataframe tbody tr th:only-of-type {\n",
       "        vertical-align: middle;\n",
       "    }\n",
       "\n",
       "    .dataframe tbody tr th {\n",
       "        vertical-align: top;\n",
       "    }\n",
       "\n",
       "    .dataframe thead th {\n",
       "        text-align: right;\n",
       "    }\n",
       "</style>\n",
       "<table border=\"1\" class=\"dataframe\">\n",
       "  <thead>\n",
       "    <tr style=\"text-align: right;\">\n",
       "      <th></th>\n",
       "      <th>RH_NABEL_T1_49_1</th>\n",
       "      <th>SW_IN_NABEL_T1_49_1</th>\n",
       "      <th>TA_NABEL_T1_49_1</th>\n",
       "    </tr>\n",
       "    <tr>\n",
       "      <th>TIMESTAMP_END</th>\n",
       "      <th></th>\n",
       "      <th></th>\n",
       "      <th></th>\n",
       "    </tr>\n",
       "  </thead>\n",
       "  <tbody>\n",
       "    <tr>\n",
       "      <th>2004-01-01 00:30:00</th>\n",
       "      <td>96.366667</td>\n",
       "      <td>0.0</td>\n",
       "      <td>-2.666667</td>\n",
       "    </tr>\n",
       "    <tr>\n",
       "      <th>2004-01-01 01:00:00</th>\n",
       "      <td>95.566667</td>\n",
       "      <td>0.0</td>\n",
       "      <td>-2.566667</td>\n",
       "    </tr>\n",
       "    <tr>\n",
       "      <th>2004-01-01 01:30:00</th>\n",
       "      <td>92.200000</td>\n",
       "      <td>0.0</td>\n",
       "      <td>-2.533333</td>\n",
       "    </tr>\n",
       "    <tr>\n",
       "      <th>2004-01-01 02:00:00</th>\n",
       "      <td>91.300000</td>\n",
       "      <td>0.0</td>\n",
       "      <td>-2.633333</td>\n",
       "    </tr>\n",
       "    <tr>\n",
       "      <th>2004-01-01 02:30:00</th>\n",
       "      <td>92.633333</td>\n",
       "      <td>0.0</td>\n",
       "      <td>-2.800000</td>\n",
       "    </tr>\n",
       "    <tr>\n",
       "      <th>...</th>\n",
       "      <td>...</td>\n",
       "      <td>...</td>\n",
       "      <td>...</td>\n",
       "    </tr>\n",
       "    <tr>\n",
       "      <th>2018-12-31 22:00:00</th>\n",
       "      <td>99.998000</td>\n",
       "      <td>0.0</td>\n",
       "      <td>3.193900</td>\n",
       "    </tr>\n",
       "    <tr>\n",
       "      <th>2018-12-31 22:30:00</th>\n",
       "      <td>99.998000</td>\n",
       "      <td>0.0</td>\n",
       "      <td>3.021733</td>\n",
       "    </tr>\n",
       "    <tr>\n",
       "      <th>2018-12-31 23:00:00</th>\n",
       "      <td>99.998000</td>\n",
       "      <td>0.0</td>\n",
       "      <td>2.934467</td>\n",
       "    </tr>\n",
       "    <tr>\n",
       "      <th>2018-12-31 23:30:00</th>\n",
       "      <td>99.998000</td>\n",
       "      <td>0.0</td>\n",
       "      <td>2.836867</td>\n",
       "    </tr>\n",
       "    <tr>\n",
       "      <th>2019-01-01 00:00:00</th>\n",
       "      <td>99.998000</td>\n",
       "      <td>0.0</td>\n",
       "      <td>2.749933</td>\n",
       "    </tr>\n",
       "  </tbody>\n",
       "</table>\n",
       "<p>262794 rows × 3 columns</p>\n",
       "</div>"
      ],
      "text/plain": [
       "                     RH_NABEL_T1_49_1  SW_IN_NABEL_T1_49_1  TA_NABEL_T1_49_1\n",
       "TIMESTAMP_END                                                               \n",
       "2004-01-01 00:30:00         96.366667                  0.0         -2.666667\n",
       "2004-01-01 01:00:00         95.566667                  0.0         -2.566667\n",
       "2004-01-01 01:30:00         92.200000                  0.0         -2.533333\n",
       "2004-01-01 02:00:00         91.300000                  0.0         -2.633333\n",
       "2004-01-01 02:30:00         92.633333                  0.0         -2.800000\n",
       "...                               ...                  ...               ...\n",
       "2018-12-31 22:00:00         99.998000                  0.0          3.193900\n",
       "2018-12-31 22:30:00         99.998000                  0.0          3.021733\n",
       "2018-12-31 23:00:00         99.998000                  0.0          2.934467\n",
       "2018-12-31 23:30:00         99.998000                  0.0          2.836867\n",
       "2019-01-01 00:00:00         99.998000                  0.0          2.749933\n",
       "\n",
       "[262794 rows x 3 columns]"
      ]
     },
     "execution_count": 4,
     "metadata": {},
     "output_type": "execute_result"
    }
   ],
   "source": [
    "nabel_diive_ta_rh_swin_2004_2018"
   ]
  },
  {
   "cell_type": "markdown",
   "id": "0888658a-02f8-4e95-9405-334b3686e471",
   "metadata": {},
   "source": [
    "### Sanitize timestamp"
   ]
  },
  {
   "cell_type": "code",
   "execution_count": 5,
   "id": "25f4e329-ec90-442b-8910-c29f7f5420ef",
   "metadata": {},
   "outputs": [
    {
     "data": {
      "text/html": [
       "<div>\n",
       "<style scoped>\n",
       "    .dataframe tbody tr th:only-of-type {\n",
       "        vertical-align: middle;\n",
       "    }\n",
       "\n",
       "    .dataframe tbody tr th {\n",
       "        vertical-align: top;\n",
       "    }\n",
       "\n",
       "    .dataframe thead th {\n",
       "        text-align: right;\n",
       "    }\n",
       "</style>\n",
       "<table border=\"1\" class=\"dataframe\">\n",
       "  <thead>\n",
       "    <tr style=\"text-align: right;\">\n",
       "      <th></th>\n",
       "      <th>RH_NABEL_T1_49_1</th>\n",
       "      <th>SW_IN_NABEL_T1_49_1</th>\n",
       "      <th>TA_NABEL_T1_49_1</th>\n",
       "    </tr>\n",
       "    <tr>\n",
       "      <th>TIMESTAMP_END</th>\n",
       "      <th></th>\n",
       "      <th></th>\n",
       "      <th></th>\n",
       "    </tr>\n",
       "  </thead>\n",
       "  <tbody>\n",
       "    <tr>\n",
       "      <th>2004-01-01 00:30:00</th>\n",
       "      <td>96.366667</td>\n",
       "      <td>0.0</td>\n",
       "      <td>-2.666667</td>\n",
       "    </tr>\n",
       "    <tr>\n",
       "      <th>2004-01-01 01:00:00</th>\n",
       "      <td>95.566667</td>\n",
       "      <td>0.0</td>\n",
       "      <td>-2.566667</td>\n",
       "    </tr>\n",
       "    <tr>\n",
       "      <th>2004-01-01 01:30:00</th>\n",
       "      <td>92.200000</td>\n",
       "      <td>0.0</td>\n",
       "      <td>-2.533333</td>\n",
       "    </tr>\n",
       "    <tr>\n",
       "      <th>2004-01-01 02:00:00</th>\n",
       "      <td>91.300000</td>\n",
       "      <td>0.0</td>\n",
       "      <td>-2.633333</td>\n",
       "    </tr>\n",
       "    <tr>\n",
       "      <th>2004-01-01 02:30:00</th>\n",
       "      <td>92.633333</td>\n",
       "      <td>0.0</td>\n",
       "      <td>-2.800000</td>\n",
       "    </tr>\n",
       "    <tr>\n",
       "      <th>...</th>\n",
       "      <td>...</td>\n",
       "      <td>...</td>\n",
       "      <td>...</td>\n",
       "    </tr>\n",
       "    <tr>\n",
       "      <th>2018-12-31 22:00:00</th>\n",
       "      <td>99.998000</td>\n",
       "      <td>0.0</td>\n",
       "      <td>3.193900</td>\n",
       "    </tr>\n",
       "    <tr>\n",
       "      <th>2018-12-31 22:30:00</th>\n",
       "      <td>99.998000</td>\n",
       "      <td>0.0</td>\n",
       "      <td>3.021733</td>\n",
       "    </tr>\n",
       "    <tr>\n",
       "      <th>2018-12-31 23:00:00</th>\n",
       "      <td>99.998000</td>\n",
       "      <td>0.0</td>\n",
       "      <td>2.934467</td>\n",
       "    </tr>\n",
       "    <tr>\n",
       "      <th>2018-12-31 23:30:00</th>\n",
       "      <td>99.998000</td>\n",
       "      <td>0.0</td>\n",
       "      <td>2.836867</td>\n",
       "    </tr>\n",
       "    <tr>\n",
       "      <th>2019-01-01 00:00:00</th>\n",
       "      <td>99.998000</td>\n",
       "      <td>0.0</td>\n",
       "      <td>2.749933</td>\n",
       "    </tr>\n",
       "  </tbody>\n",
       "</table>\n",
       "<p>262992 rows × 3 columns</p>\n",
       "</div>"
      ],
      "text/plain": [
       "                     RH_NABEL_T1_49_1  SW_IN_NABEL_T1_49_1  TA_NABEL_T1_49_1\n",
       "TIMESTAMP_END                                                               \n",
       "2004-01-01 00:30:00         96.366667                  0.0         -2.666667\n",
       "2004-01-01 01:00:00         95.566667                  0.0         -2.566667\n",
       "2004-01-01 01:30:00         92.200000                  0.0         -2.533333\n",
       "2004-01-01 02:00:00         91.300000                  0.0         -2.633333\n",
       "2004-01-01 02:30:00         92.633333                  0.0         -2.800000\n",
       "...                               ...                  ...               ...\n",
       "2018-12-31 22:00:00         99.998000                  0.0          3.193900\n",
       "2018-12-31 22:30:00         99.998000                  0.0          3.021733\n",
       "2018-12-31 23:00:00         99.998000                  0.0          2.934467\n",
       "2018-12-31 23:30:00         99.998000                  0.0          2.836867\n",
       "2019-01-01 00:00:00         99.998000                  0.0          2.749933\n",
       "\n",
       "[262992 rows x 3 columns]"
      ]
     },
     "execution_count": 5,
     "metadata": {},
     "output_type": "execute_result"
    }
   ],
   "source": [
    "nabel_diive_ta_rh_swin_2004_2018 = TimestampSanitizer(data=nabel_diive_ta_rh_swin_2004_2018, output_middle_timestamp=False).get()\n",
    "nabel_diive_ta_rh_swin_2004_2018"
   ]
  },
  {
   "cell_type": "markdown",
   "id": "5e6d0257-61bd-4662-8872-c2aab7f104e6",
   "metadata": {},
   "source": [
    "### Rename variables for merging"
   ]
  },
  {
   "cell_type": "code",
   "execution_count": 6,
   "id": "a9f39d90-584b-4b09-a2d8-f4feb62892e7",
   "metadata": {},
   "outputs": [
    {
     "data": {
      "text/html": [
       "<div>\n",
       "<style scoped>\n",
       "    .dataframe tbody tr th:only-of-type {\n",
       "        vertical-align: middle;\n",
       "    }\n",
       "\n",
       "    .dataframe tbody tr th {\n",
       "        vertical-align: top;\n",
       "    }\n",
       "\n",
       "    .dataframe thead th {\n",
       "        text-align: right;\n",
       "    }\n",
       "</style>\n",
       "<table border=\"1\" class=\"dataframe\">\n",
       "  <thead>\n",
       "    <tr style=\"text-align: right;\">\n",
       "      <th></th>\n",
       "      <th>RH_T1_47_1</th>\n",
       "      <th>SW_IN_T1_47_1</th>\n",
       "      <th>TA_T1_47_1</th>\n",
       "    </tr>\n",
       "    <tr>\n",
       "      <th>TIMESTAMP_END</th>\n",
       "      <th></th>\n",
       "      <th></th>\n",
       "      <th></th>\n",
       "    </tr>\n",
       "  </thead>\n",
       "  <tbody>\n",
       "    <tr>\n",
       "      <th>2004-01-01 00:30:00</th>\n",
       "      <td>96.366667</td>\n",
       "      <td>0.0</td>\n",
       "      <td>-2.666667</td>\n",
       "    </tr>\n",
       "    <tr>\n",
       "      <th>2004-01-01 01:00:00</th>\n",
       "      <td>95.566667</td>\n",
       "      <td>0.0</td>\n",
       "      <td>-2.566667</td>\n",
       "    </tr>\n",
       "    <tr>\n",
       "      <th>2004-01-01 01:30:00</th>\n",
       "      <td>92.200000</td>\n",
       "      <td>0.0</td>\n",
       "      <td>-2.533333</td>\n",
       "    </tr>\n",
       "    <tr>\n",
       "      <th>2004-01-01 02:00:00</th>\n",
       "      <td>91.300000</td>\n",
       "      <td>0.0</td>\n",
       "      <td>-2.633333</td>\n",
       "    </tr>\n",
       "    <tr>\n",
       "      <th>2004-01-01 02:30:00</th>\n",
       "      <td>92.633333</td>\n",
       "      <td>0.0</td>\n",
       "      <td>-2.800000</td>\n",
       "    </tr>\n",
       "    <tr>\n",
       "      <th>...</th>\n",
       "      <td>...</td>\n",
       "      <td>...</td>\n",
       "      <td>...</td>\n",
       "    </tr>\n",
       "    <tr>\n",
       "      <th>2018-12-31 22:00:00</th>\n",
       "      <td>99.998000</td>\n",
       "      <td>0.0</td>\n",
       "      <td>3.193900</td>\n",
       "    </tr>\n",
       "    <tr>\n",
       "      <th>2018-12-31 22:30:00</th>\n",
       "      <td>99.998000</td>\n",
       "      <td>0.0</td>\n",
       "      <td>3.021733</td>\n",
       "    </tr>\n",
       "    <tr>\n",
       "      <th>2018-12-31 23:00:00</th>\n",
       "      <td>99.998000</td>\n",
       "      <td>0.0</td>\n",
       "      <td>2.934467</td>\n",
       "    </tr>\n",
       "    <tr>\n",
       "      <th>2018-12-31 23:30:00</th>\n",
       "      <td>99.998000</td>\n",
       "      <td>0.0</td>\n",
       "      <td>2.836867</td>\n",
       "    </tr>\n",
       "    <tr>\n",
       "      <th>2019-01-01 00:00:00</th>\n",
       "      <td>99.998000</td>\n",
       "      <td>0.0</td>\n",
       "      <td>2.749933</td>\n",
       "    </tr>\n",
       "  </tbody>\n",
       "</table>\n",
       "<p>262992 rows × 3 columns</p>\n",
       "</div>"
      ],
      "text/plain": [
       "                     RH_T1_47_1  SW_IN_T1_47_1  TA_T1_47_1\n",
       "TIMESTAMP_END                                             \n",
       "2004-01-01 00:30:00   96.366667            0.0   -2.666667\n",
       "2004-01-01 01:00:00   95.566667            0.0   -2.566667\n",
       "2004-01-01 01:30:00   92.200000            0.0   -2.533333\n",
       "2004-01-01 02:00:00   91.300000            0.0   -2.633333\n",
       "2004-01-01 02:30:00   92.633333            0.0   -2.800000\n",
       "...                         ...            ...         ...\n",
       "2018-12-31 22:00:00   99.998000            0.0    3.193900\n",
       "2018-12-31 22:30:00   99.998000            0.0    3.021733\n",
       "2018-12-31 23:00:00   99.998000            0.0    2.934467\n",
       "2018-12-31 23:30:00   99.998000            0.0    2.836867\n",
       "2019-01-01 00:00:00   99.998000            0.0    2.749933\n",
       "\n",
       "[262992 rows x 3 columns]"
      ]
     },
     "execution_count": 6,
     "metadata": {},
     "output_type": "execute_result"
    }
   ],
   "source": [
    "renaming_dict = {\n",
    "    'RH_NABEL_T1_49_1': 'RH_T1_47_1',\n",
    "    'SW_IN_NABEL_T1_49_1': 'SW_IN_T1_47_1',\n",
    "    'TA_NABEL_T1_49_1': 'TA_T1_47_1'\n",
    "}\n",
    "nabel_diive_ta_rh_swin_2004_2018 = nabel_diive_ta_rh_swin_2004_2018.rename(columns=renaming_dict)\n",
    "nabel_diive_ta_rh_swin_2004_2018"
   ]
  },
  {
   "cell_type": "markdown",
   "id": "5b984395-3f38-4b1f-b459-47697834ba18",
   "metadata": {},
   "source": [
    "</br>"
   ]
  },
  {
   "cell_type": "markdown",
   "id": "1710e7c8-09ef-437f-bb65-91678686cf0c",
   "metadata": {},
   "source": [
    "## Data from `mst` meteoscreening (2019-2021)"
   ]
  },
  {
   "cell_type": "markdown",
   "id": "27a69065-f359-45f6-8d79-b0b31db9fad8",
   "metadata": {},
   "source": [
    "### Download"
   ]
  },
  {
   "cell_type": "code",
   "execution_count": 8,
   "id": "9ec44a26-36a4-427d-a9eb-41da8cbaceb9",
   "metadata": {
    "scrolled": true
   },
   "outputs": [
    {
     "name": "stdout",
     "output_type": "stream",
     "text": [
      "\n",
      "DOWNLOADING\n",
      "    from bucket ch-lae_processed\n",
      "    variables ['TA_T1_47_1', 'RH_T1_47_1', 'SW_IN_T1_47_1']\n",
      "    from measurements ['TA', 'RH', 'SW']\n",
      "    from data version ['meteoscreening_mst']\n",
      "    between 2019-01-01 00:00:01 and 2022-01-01 00:00:01\n",
      "    with timezone offset to UTC of 1\n",
      "Using querystring:\n",
      "from(bucket: \"ch-lae_processed\") |> range(start: 2019-01-01T00:00:01+01:00, stop: 2022-01-01T00:00:01+01:00) |> filter(fn: (r) => r[\"_measurement\"] == \"TA\" or r[\"_measurement\"] == \"RH\" or r[\"_measurement\"] == \"SW\") |> filter(fn: (r) => r[\"data_version\"] == \"meteoscreening_mst\") |> filter(fn: (r) => r[\"_field\"] == \"TA_T1_47_1\" or r[\"_field\"] == \"RH_T1_47_1\" or r[\"_field\"] == \"SW_IN_T1_47_1\") |> pivot(rowKey:[\"_time\"], columnKey: [\"_field\"], valueColumn: \"_value\")\n",
      "Used querystring: from(bucket: \"ch-lae_processed\") |> range(start: 2019-01-01T00:00:01+01:00, stop: 2022-01-01T00:00:01+01:00) |> filter(fn: (r) => r[\"_measurement\"] == \"TA\" or r[\"_measurement\"] == \"RH\" or r[\"_measurement\"] == \"SW\") |> filter(fn: (r) => r[\"data_version\"] == \"meteoscreening_mst\") |> filter(fn: (r) => r[\"_field\"] == \"TA_T1_47_1\" or r[\"_field\"] == \"RH_T1_47_1\" or r[\"_field\"] == \"SW_IN_T1_47_1\") |> pivot(rowKey:[\"_time\"], columnKey: [\"_field\"], valueColumn: \"_value\")\n",
      "querystring was constructed from:\n",
      "    bucketstring: from(bucket: \"ch-lae_processed\")\n",
      "    rangestring: |> range(start: 2019-01-01T00:00:01+01:00, stop: 2022-01-01T00:00:01+01:00)\n",
      "    measurementstring: |> filter(fn: (r) => r[\"_measurement\"] == \"TA\" or r[\"_measurement\"] == \"RH\" or r[\"_measurement\"] == \"SW\")\n",
      "    dataversionstring: |> filter(fn: (r) => r[\"data_version\"] == \"meteoscreening_mst\")\n",
      "    fieldstring: |> filter(fn: (r) => r[\"_field\"] == \"TA_T1_47_1\" or r[\"_field\"] == \"RH_T1_47_1\" or r[\"_field\"] == \"SW_IN_T1_47_1\")\n",
      "    pivotstring: |> pivot(rowKey:[\"_time\"], columnKey: [\"_field\"], valueColumn: \"_value\")\n",
      "Download finished.\n",
      "Downloaded data for 3 variables:\n",
      "<-- RH_T1_47_1  (51849 records)  first date: 2019-01-01 00:30:00  last date: 2022-01-01 00:00:00\n",
      "<-- SW_IN_T1_47_1  (51843 records)  first date: 2019-01-01 00:30:00  last date: 2022-01-01 00:00:00\n",
      "<-- TA_T1_47_1  (51849 records)  first date: 2019-01-01 00:30:00  last date: 2022-01-01 00:00:00\n",
      "========================================\n",
      "Fields in measurement TA of bucket ch-lae_processed:\n",
      "#1  ch-lae_processed  TA  TA_EP\n",
      "#2  ch-lae_processed  TA  TA_ERA\n",
      "#3  ch-lae_processed  TA  TA_F\n",
      "#4  ch-lae_processed  TA  TA_FF1_2_1\n",
      "#5  ch-lae_processed  TA  TA_F_MDS\n",
      "#6  ch-lae_processed  TA  TA_F_MDS_QC\n",
      "#7  ch-lae_processed  TA  TA_F_QC\n",
      "#8  ch-lae_processed  TA  TA_H1_0_1\n",
      "#9  ch-lae_processed  TA  TA_IRGA70_PRF_M1_0.1_1\n",
      "#10  ch-lae_processed  TA  TA_IRGA70_PRF_M1_1_1\n",
      "#11  ch-lae_processed  TA  TA_IRGA70_PRF_M2_0.1_1\n",
      "#12  ch-lae_processed  TA  TA_IRGA70_PRF_M2_1_1\n",
      "#13  ch-lae_processed  TA  TA_IRGA70_PRF_T1_0.1_1\n",
      "#14  ch-lae_processed  TA  TA_IRGA70_PRF_T1_1_1\n",
      "#15  ch-lae_processed  TA  TA_IRGA70_PRF_T1_27_1\n",
      "#16  ch-lae_processed  TA  TA_IRGA70_PRF_T1_3_1\n",
      "#17  ch-lae_processed  TA  TA_IRGA70_PRF_T1_44_1\n",
      "#18  ch-lae_processed  TA  TA_IRGA70_PRF_T1_54_1\n",
      "#19  ch-lae_processed  TA  TA_IRGA70_PRF_T1_5_1\n",
      "#20  ch-lae_processed  TA  TA_IRGA70_PRF_T1_9_1\n",
      "#21  ch-lae_processed  TA  TA_NABEL_T1_49_1\n",
      "#22  ch-lae_processed  TA  TA_PRF_T1_0.1_1\n",
      "#23  ch-lae_processed  TA  TA_PRF_T1_0.4_1\n",
      "#24  ch-lae_processed  TA  TA_PRF_T1_10_1\n",
      "#25  ch-lae_processed  TA  TA_PRF_T1_27_1\n",
      "#26  ch-lae_processed  TA  TA_PRF_T1_44_1\n",
      "#27  ch-lae_processed  TA  TA_PRF_T1_54_1\n",
      "#28  ch-lae_processed  TA  TA_T1_47_1\n",
      "#29  ch-lae_processed  TA  T_SONIC\n",
      "Found 29 fields in measurement TA of bucket ch-lae_processed.\n",
      "========================================\n",
      "========================================\n",
      "Fields in measurement RH of bucket ch-lae_processed:\n",
      "#1  ch-lae_processed  RH  RH\n",
      "#2  ch-lae_processed  RH  RH_1_1_1\n",
      "#3  ch-lae_processed  RH  RH_EP\n",
      "#4  ch-lae_processed  RH  RH_FF1_2_1\n",
      "#5  ch-lae_processed  RH  RH_NABEL_T1_49_1\n",
      "#6  ch-lae_processed  RH  RH_PRF_T1_0.1_1\n",
      "#7  ch-lae_processed  RH  RH_PRF_T1_0.4_1\n",
      "#8  ch-lae_processed  RH  RH_PRF_T1_10_1\n",
      "#9  ch-lae_processed  RH  RH_PRF_T1_27_1\n",
      "#10  ch-lae_processed  RH  RH_PRF_T1_44_1\n",
      "#11  ch-lae_processed  RH  RH_PRF_T1_54_1\n",
      "#12  ch-lae_processed  RH  RH_T1_47_1\n",
      "Found 12 fields in measurement RH of bucket ch-lae_processed.\n",
      "========================================\n",
      "========================================\n",
      "Fields in measurement SW of bucket ch-lae_processed:\n",
      "#1  ch-lae_processed  SW  NIGHT\n",
      "#2  ch-lae_processed  SW  SW_IN_CORRECTED_T1_47_1\n",
      "#3  ch-lae_processed  SW  SW_IN_ERA\n",
      "#4  ch-lae_processed  SW  SW_IN_F\n",
      "#5  ch-lae_processed  SW  SW_IN_F_MDS\n",
      "#6  ch-lae_processed  SW  SW_IN_F_MDS_QC\n",
      "#7  ch-lae_processed  SW  SW_IN_F_QC\n",
      "#8  ch-lae_processed  SW  SW_IN_NABEL_T1_49_1\n",
      "#9  ch-lae_processed  SW  SW_IN_POT\n",
      "#10  ch-lae_processed  SW  SW_IN_T1_47_1\n",
      "#11  ch-lae_processed  SW  SW_OUT_CORRECTED_T1_47_1\n",
      "#12  ch-lae_processed  SW  SW_OUT_T1_47_1\n",
      "Found 12 fields in measurement SW of bucket ch-lae_processed.\n",
      "========================================\n",
      "CPU times: total: 3.08 s\n",
      "Wall time: 4.06 s\n"
     ]
    }
   ],
   "source": [
    "%%time\n",
    "\n",
    "BUCKET = f'ch-lae_processed'\n",
    "FIELDS = ['TA_T1_47_1', 'RH_T1_47_1', 'SW_IN_T1_47_1']\n",
    "MEASUREMENTS = ['TA', 'RH', 'SW']\n",
    "START = '2019-01-01 00:00:01'\n",
    "STOP = '2022-01-01 00:00:01'\n",
    "DATA_VERSION = 'meteoscreening_mst'\n",
    "\n",
    "mst_ta_rh_swin_2019_2021, _, _ = dbc.download(\n",
    "    bucket=BUCKET,\n",
    "    measurements=MEASUREMENTS,\n",
    "    fields=FIELDS,\n",
    "    start=START,  # Download data starting with this date (the start date itself IS included),\n",
    "    stop=STOP,  # Download data before this date (the stop date itself IS NOT included),\n",
    "    timezone_offset_to_utc_hours=TIMEZONE_OFFSET_TO_UTC_HOURS,\n",
    "    data_version=DATA_VERSION\n",
    ")"
   ]
  },
  {
   "cell_type": "code",
   "execution_count": 9,
   "id": "5ebcf81b-810f-40ac-8ace-d4fa650a6fb7",
   "metadata": {},
   "outputs": [
    {
     "data": {
      "text/html": [
       "<div>\n",
       "<style scoped>\n",
       "    .dataframe tbody tr th:only-of-type {\n",
       "        vertical-align: middle;\n",
       "    }\n",
       "\n",
       "    .dataframe tbody tr th {\n",
       "        vertical-align: top;\n",
       "    }\n",
       "\n",
       "    .dataframe thead th {\n",
       "        text-align: right;\n",
       "    }\n",
       "</style>\n",
       "<table border=\"1\" class=\"dataframe\">\n",
       "  <thead>\n",
       "    <tr style=\"text-align: right;\">\n",
       "      <th></th>\n",
       "      <th>RH_T1_47_1</th>\n",
       "      <th>SW_IN_T1_47_1</th>\n",
       "      <th>TA_T1_47_1</th>\n",
       "    </tr>\n",
       "    <tr>\n",
       "      <th>TIMESTAMP_END</th>\n",
       "      <th></th>\n",
       "      <th></th>\n",
       "      <th></th>\n",
       "    </tr>\n",
       "  </thead>\n",
       "  <tbody>\n",
       "    <tr>\n",
       "      <th>2019-01-01 00:30:00</th>\n",
       "      <td>99.997990</td>\n",
       "      <td>-2.149965</td>\n",
       "      <td>2.666350</td>\n",
       "    </tr>\n",
       "    <tr>\n",
       "      <th>2019-01-01 01:00:00</th>\n",
       "      <td>99.997990</td>\n",
       "      <td>-2.722333</td>\n",
       "      <td>2.475211</td>\n",
       "    </tr>\n",
       "    <tr>\n",
       "      <th>2019-01-01 01:30:00</th>\n",
       "      <td>99.997990</td>\n",
       "      <td>-3.087591</td>\n",
       "      <td>2.278222</td>\n",
       "    </tr>\n",
       "    <tr>\n",
       "      <th>2019-01-01 02:00:00</th>\n",
       "      <td>99.997990</td>\n",
       "      <td>-2.410228</td>\n",
       "      <td>2.280883</td>\n",
       "    </tr>\n",
       "    <tr>\n",
       "      <th>2019-01-01 02:30:00</th>\n",
       "      <td>99.997990</td>\n",
       "      <td>-2.400173</td>\n",
       "      <td>2.138061</td>\n",
       "    </tr>\n",
       "    <tr>\n",
       "      <th>...</th>\n",
       "      <td>...</td>\n",
       "      <td>...</td>\n",
       "      <td>...</td>\n",
       "    </tr>\n",
       "    <tr>\n",
       "      <th>2021-12-31 22:00:00</th>\n",
       "      <td>94.843261</td>\n",
       "      <td>-9.935194</td>\n",
       "      <td>7.933211</td>\n",
       "    </tr>\n",
       "    <tr>\n",
       "      <th>2021-12-31 22:30:00</th>\n",
       "      <td>93.992424</td>\n",
       "      <td>-10.250348</td>\n",
       "      <td>8.022416</td>\n",
       "    </tr>\n",
       "    <tr>\n",
       "      <th>2021-12-31 23:00:00</th>\n",
       "      <td>95.821067</td>\n",
       "      <td>-9.810373</td>\n",
       "      <td>7.719400</td>\n",
       "    </tr>\n",
       "    <tr>\n",
       "      <th>2021-12-31 23:30:00</th>\n",
       "      <td>95.077413</td>\n",
       "      <td>-9.814824</td>\n",
       "      <td>7.805116</td>\n",
       "    </tr>\n",
       "    <tr>\n",
       "      <th>2022-01-01 00:00:00</th>\n",
       "      <td>92.241917</td>\n",
       "      <td>-9.565127</td>\n",
       "      <td>8.226333</td>\n",
       "    </tr>\n",
       "  </tbody>\n",
       "</table>\n",
       "<p>51849 rows × 3 columns</p>\n",
       "</div>"
      ],
      "text/plain": [
       "                     RH_T1_47_1  SW_IN_T1_47_1  TA_T1_47_1\n",
       "TIMESTAMP_END                                             \n",
       "2019-01-01 00:30:00   99.997990      -2.149965    2.666350\n",
       "2019-01-01 01:00:00   99.997990      -2.722333    2.475211\n",
       "2019-01-01 01:30:00   99.997990      -3.087591    2.278222\n",
       "2019-01-01 02:00:00   99.997990      -2.410228    2.280883\n",
       "2019-01-01 02:30:00   99.997990      -2.400173    2.138061\n",
       "...                         ...            ...         ...\n",
       "2021-12-31 22:00:00   94.843261      -9.935194    7.933211\n",
       "2021-12-31 22:30:00   93.992424     -10.250348    8.022416\n",
       "2021-12-31 23:00:00   95.821067      -9.810373    7.719400\n",
       "2021-12-31 23:30:00   95.077413      -9.814824    7.805116\n",
       "2022-01-01 00:00:00   92.241917      -9.565127    8.226333\n",
       "\n",
       "[51849 rows x 3 columns]"
      ]
     },
     "execution_count": 9,
     "metadata": {},
     "output_type": "execute_result"
    }
   ],
   "source": [
    "mst_ta_rh_swin_2019_2021"
   ]
  },
  {
   "cell_type": "markdown",
   "id": "c0e3a951-583c-445d-934b-2d930f8c6218",
   "metadata": {},
   "source": [
    "### Sanitize timestamp"
   ]
  },
  {
   "cell_type": "code",
   "execution_count": 10,
   "id": "d41d6cb3-671f-4dad-a17b-862bca9a30b7",
   "metadata": {},
   "outputs": [
    {
     "data": {
      "text/html": [
       "<div>\n",
       "<style scoped>\n",
       "    .dataframe tbody tr th:only-of-type {\n",
       "        vertical-align: middle;\n",
       "    }\n",
       "\n",
       "    .dataframe tbody tr th {\n",
       "        vertical-align: top;\n",
       "    }\n",
       "\n",
       "    .dataframe thead th {\n",
       "        text-align: right;\n",
       "    }\n",
       "</style>\n",
       "<table border=\"1\" class=\"dataframe\">\n",
       "  <thead>\n",
       "    <tr style=\"text-align: right;\">\n",
       "      <th></th>\n",
       "      <th>RH_T1_47_1</th>\n",
       "      <th>SW_IN_T1_47_1</th>\n",
       "      <th>TA_T1_47_1</th>\n",
       "    </tr>\n",
       "    <tr>\n",
       "      <th>TIMESTAMP_END</th>\n",
       "      <th></th>\n",
       "      <th></th>\n",
       "      <th></th>\n",
       "    </tr>\n",
       "  </thead>\n",
       "  <tbody>\n",
       "    <tr>\n",
       "      <th>2019-01-01 00:30:00</th>\n",
       "      <td>99.997990</td>\n",
       "      <td>-2.149965</td>\n",
       "      <td>2.666350</td>\n",
       "    </tr>\n",
       "    <tr>\n",
       "      <th>2019-01-01 01:00:00</th>\n",
       "      <td>99.997990</td>\n",
       "      <td>-2.722333</td>\n",
       "      <td>2.475211</td>\n",
       "    </tr>\n",
       "    <tr>\n",
       "      <th>2019-01-01 01:30:00</th>\n",
       "      <td>99.997990</td>\n",
       "      <td>-3.087591</td>\n",
       "      <td>2.278222</td>\n",
       "    </tr>\n",
       "    <tr>\n",
       "      <th>2019-01-01 02:00:00</th>\n",
       "      <td>99.997990</td>\n",
       "      <td>-2.410228</td>\n",
       "      <td>2.280883</td>\n",
       "    </tr>\n",
       "    <tr>\n",
       "      <th>2019-01-01 02:30:00</th>\n",
       "      <td>99.997990</td>\n",
       "      <td>-2.400173</td>\n",
       "      <td>2.138061</td>\n",
       "    </tr>\n",
       "    <tr>\n",
       "      <th>...</th>\n",
       "      <td>...</td>\n",
       "      <td>...</td>\n",
       "      <td>...</td>\n",
       "    </tr>\n",
       "    <tr>\n",
       "      <th>2021-12-31 22:00:00</th>\n",
       "      <td>94.843261</td>\n",
       "      <td>-9.935194</td>\n",
       "      <td>7.933211</td>\n",
       "    </tr>\n",
       "    <tr>\n",
       "      <th>2021-12-31 22:30:00</th>\n",
       "      <td>93.992424</td>\n",
       "      <td>-10.250348</td>\n",
       "      <td>8.022416</td>\n",
       "    </tr>\n",
       "    <tr>\n",
       "      <th>2021-12-31 23:00:00</th>\n",
       "      <td>95.821067</td>\n",
       "      <td>-9.810373</td>\n",
       "      <td>7.719400</td>\n",
       "    </tr>\n",
       "    <tr>\n",
       "      <th>2021-12-31 23:30:00</th>\n",
       "      <td>95.077413</td>\n",
       "      <td>-9.814824</td>\n",
       "      <td>7.805116</td>\n",
       "    </tr>\n",
       "    <tr>\n",
       "      <th>2022-01-01 00:00:00</th>\n",
       "      <td>92.241917</td>\n",
       "      <td>-9.565127</td>\n",
       "      <td>8.226333</td>\n",
       "    </tr>\n",
       "  </tbody>\n",
       "</table>\n",
       "<p>52608 rows × 3 columns</p>\n",
       "</div>"
      ],
      "text/plain": [
       "                     RH_T1_47_1  SW_IN_T1_47_1  TA_T1_47_1\n",
       "TIMESTAMP_END                                             \n",
       "2019-01-01 00:30:00   99.997990      -2.149965    2.666350\n",
       "2019-01-01 01:00:00   99.997990      -2.722333    2.475211\n",
       "2019-01-01 01:30:00   99.997990      -3.087591    2.278222\n",
       "2019-01-01 02:00:00   99.997990      -2.410228    2.280883\n",
       "2019-01-01 02:30:00   99.997990      -2.400173    2.138061\n",
       "...                         ...            ...         ...\n",
       "2021-12-31 22:00:00   94.843261      -9.935194    7.933211\n",
       "2021-12-31 22:30:00   93.992424     -10.250348    8.022416\n",
       "2021-12-31 23:00:00   95.821067      -9.810373    7.719400\n",
       "2021-12-31 23:30:00   95.077413      -9.814824    7.805116\n",
       "2022-01-01 00:00:00   92.241917      -9.565127    8.226333\n",
       "\n",
       "[52608 rows x 3 columns]"
      ]
     },
     "execution_count": 10,
     "metadata": {},
     "output_type": "execute_result"
    }
   ],
   "source": [
    "mst_ta_rh_swin_2019_2021 = TimestampSanitizer(data=mst_ta_rh_swin_2019_2021, output_middle_timestamp=False).get()\n",
    "mst_ta_rh_swin_2019_2021"
   ]
  },
  {
   "cell_type": "markdown",
   "id": "187b89eb-06d8-467c-aad4-9d96eb89e706",
   "metadata": {},
   "source": [
    "### Rename variables for merging"
   ]
  },
  {
   "cell_type": "code",
   "execution_count": 11,
   "id": "d4a2acc0-5c53-4590-9e71-3533dfd12af3",
   "metadata": {},
   "outputs": [
    {
     "data": {
      "text/html": [
       "<div>\n",
       "<style scoped>\n",
       "    .dataframe tbody tr th:only-of-type {\n",
       "        vertical-align: middle;\n",
       "    }\n",
       "\n",
       "    .dataframe tbody tr th {\n",
       "        vertical-align: top;\n",
       "    }\n",
       "\n",
       "    .dataframe thead th {\n",
       "        text-align: right;\n",
       "    }\n",
       "</style>\n",
       "<table border=\"1\" class=\"dataframe\">\n",
       "  <thead>\n",
       "    <tr style=\"text-align: right;\">\n",
       "      <th></th>\n",
       "      <th>RH_T1_47_1</th>\n",
       "      <th>SW_IN_T1_47_1</th>\n",
       "      <th>TA_T1_47_1</th>\n",
       "    </tr>\n",
       "    <tr>\n",
       "      <th>TIMESTAMP_END</th>\n",
       "      <th></th>\n",
       "      <th></th>\n",
       "      <th></th>\n",
       "    </tr>\n",
       "  </thead>\n",
       "  <tbody>\n",
       "    <tr>\n",
       "      <th>2019-01-01 00:30:00</th>\n",
       "      <td>99.997990</td>\n",
       "      <td>-2.149965</td>\n",
       "      <td>2.666350</td>\n",
       "    </tr>\n",
       "    <tr>\n",
       "      <th>2019-01-01 01:00:00</th>\n",
       "      <td>99.997990</td>\n",
       "      <td>-2.722333</td>\n",
       "      <td>2.475211</td>\n",
       "    </tr>\n",
       "    <tr>\n",
       "      <th>2019-01-01 01:30:00</th>\n",
       "      <td>99.997990</td>\n",
       "      <td>-3.087591</td>\n",
       "      <td>2.278222</td>\n",
       "    </tr>\n",
       "    <tr>\n",
       "      <th>2019-01-01 02:00:00</th>\n",
       "      <td>99.997990</td>\n",
       "      <td>-2.410228</td>\n",
       "      <td>2.280883</td>\n",
       "    </tr>\n",
       "    <tr>\n",
       "      <th>2019-01-01 02:30:00</th>\n",
       "      <td>99.997990</td>\n",
       "      <td>-2.400173</td>\n",
       "      <td>2.138061</td>\n",
       "    </tr>\n",
       "    <tr>\n",
       "      <th>...</th>\n",
       "      <td>...</td>\n",
       "      <td>...</td>\n",
       "      <td>...</td>\n",
       "    </tr>\n",
       "    <tr>\n",
       "      <th>2021-12-31 22:00:00</th>\n",
       "      <td>94.843261</td>\n",
       "      <td>-9.935194</td>\n",
       "      <td>7.933211</td>\n",
       "    </tr>\n",
       "    <tr>\n",
       "      <th>2021-12-31 22:30:00</th>\n",
       "      <td>93.992424</td>\n",
       "      <td>-10.250348</td>\n",
       "      <td>8.022416</td>\n",
       "    </tr>\n",
       "    <tr>\n",
       "      <th>2021-12-31 23:00:00</th>\n",
       "      <td>95.821067</td>\n",
       "      <td>-9.810373</td>\n",
       "      <td>7.719400</td>\n",
       "    </tr>\n",
       "    <tr>\n",
       "      <th>2021-12-31 23:30:00</th>\n",
       "      <td>95.077413</td>\n",
       "      <td>-9.814824</td>\n",
       "      <td>7.805116</td>\n",
       "    </tr>\n",
       "    <tr>\n",
       "      <th>2022-01-01 00:00:00</th>\n",
       "      <td>92.241917</td>\n",
       "      <td>-9.565127</td>\n",
       "      <td>8.226333</td>\n",
       "    </tr>\n",
       "  </tbody>\n",
       "</table>\n",
       "<p>52608 rows × 3 columns</p>\n",
       "</div>"
      ],
      "text/plain": [
       "                     RH_T1_47_1  SW_IN_T1_47_1  TA_T1_47_1\n",
       "TIMESTAMP_END                                             \n",
       "2019-01-01 00:30:00   99.997990      -2.149965    2.666350\n",
       "2019-01-01 01:00:00   99.997990      -2.722333    2.475211\n",
       "2019-01-01 01:30:00   99.997990      -3.087591    2.278222\n",
       "2019-01-01 02:00:00   99.997990      -2.410228    2.280883\n",
       "2019-01-01 02:30:00   99.997990      -2.400173    2.138061\n",
       "...                         ...            ...         ...\n",
       "2021-12-31 22:00:00   94.843261      -9.935194    7.933211\n",
       "2021-12-31 22:30:00   93.992424     -10.250348    8.022416\n",
       "2021-12-31 23:00:00   95.821067      -9.810373    7.719400\n",
       "2021-12-31 23:30:00   95.077413      -9.814824    7.805116\n",
       "2022-01-01 00:00:00   92.241917      -9.565127    8.226333\n",
       "\n",
       "[52608 rows x 3 columns]"
      ]
     },
     "execution_count": 11,
     "metadata": {},
     "output_type": "execute_result"
    }
   ],
   "source": [
    "renaming_dict = {\n",
    "    'RH_T1_47_1': 'RH_T1_47_1',\n",
    "    'SW_IN_T1_47_1': 'SW_IN_T1_47_1',\n",
    "    'TA_T1_47_1': 'TA_T1_47_1'\n",
    "}\n",
    "mst_ta_rh_swin_2019_2021 = mst_ta_rh_swin_2019_2021.rename(columns=renaming_dict)\n",
    "mst_ta_rh_swin_2019_2021"
   ]
  },
  {
   "cell_type": "markdown",
   "id": "b06733ce-c5c4-469d-8152-bf3da27908d7",
   "metadata": {},
   "source": [
    "</br>"
   ]
  },
  {
   "cell_type": "markdown",
   "id": "e8942d90-7b14-434d-b8b7-6c14e52d2c8c",
   "metadata": {},
   "source": [
    "## Data from `diive` meteoscreening (2022-2024)"
   ]
  },
  {
   "cell_type": "markdown",
   "id": "007fd4aa-6040-4e4e-9d1c-ff8cd688571a",
   "metadata": {},
   "source": [
    "### Download"
   ]
  },
  {
   "cell_type": "code",
   "execution_count": null,
   "id": "8dff68eb-9280-4fda-837a-b70099fe01f2",
   "metadata": {
    "scrolled": true
   },
   "outputs": [],
   "source": [
    "%%time\n",
    "\n",
    "BUCKET = f'ch-lae_processed'\n",
    "FIELDS = ['TA_T1_47_1', 'RH_T1_47_1', 'SW_IN_T1_47_1', 'LW_IN_T1_47_1', 'PA_T1_47_1', 'PPFD_IN_T1_47_1']\n",
    "MEASUREMENTS = ['TA', 'RH', 'LW', 'PPFD', 'SW', 'PA']\n",
    "START = '2022-01-01 00:00:01'\n",
    "STOP = '2025-01-01 00:00:01'\n",
    "DATA_VERSION = 'meteoscreening_diive'\n",
    "\n",
    "data_simple_diive, data_detailed_diive, assigned_measurements_diive = dbc.download(\n",
    "    bucket=BUCKET,\n",
    "    measurements=MEASUREMENTS,\n",
    "    fields=FIELDS,\n",
    "    start=START,  # Download data starting with this date (the start date itself IS included),\n",
    "    stop=STOP,  # Download data before this date (the stop date itself IS NOT included),\n",
    "    timezone_offset_to_utc_hours=TIMEZONE_OFFSET_TO_UTC_HOURS,\n",
    "    data_version=DATA_VERSION\n",
    ")"
   ]
  },
  {
   "cell_type": "code",
   "execution_count": null,
   "id": "be77f738-1f0c-44b1-9354-05347e2fac6b",
   "metadata": {},
   "outputs": [],
   "source": [
    "data_simple_diive"
   ]
  },
  {
   "cell_type": "markdown",
   "id": "462a4097-82e8-4da8-984c-3e38e068a9f4",
   "metadata": {},
   "source": [
    "### Sanitize timestamp"
   ]
  },
  {
   "cell_type": "code",
   "execution_count": null,
   "id": "ec60e353-43e6-4f00-abae-184cbe0ea72e",
   "metadata": {},
   "outputs": [],
   "source": [
    "data_simple_diive = TimestampSanitizer(data=data_simple_diive, output_middle_timestamp=False).get()\n",
    "data_simple_diive"
   ]
  },
  {
   "cell_type": "markdown",
   "id": "a0041615-5cf9-4308-845c-48cbf26cb971",
   "metadata": {},
   "source": [
    "### Correction: adjust units `PA`"
   ]
  },
  {
   "cell_type": "code",
   "execution_count": null,
   "id": "333f1071-29f8-4448-a7fd-f77b1b00ce0c",
   "metadata": {},
   "outputs": [],
   "source": [
    "# Convert units from Pa to kPa\n",
    "data_simple_diive['PA_T1_47_1'] = data_simple_diive['PA_T1_47_1'].divide(1000)\n",
    "data_simple_diive"
   ]
  },
  {
   "cell_type": "markdown",
   "id": "3d8e0fb7-0273-4c4e-bda7-a978f3b4383d",
   "metadata": {},
   "source": [
    "### Rename variables for merging"
   ]
  },
  {
   "cell_type": "code",
   "execution_count": null,
   "id": "ad6a5996-930e-4657-acd9-d9feb3d5cec8",
   "metadata": {},
   "outputs": [],
   "source": [
    "renaming_dict = {\n",
    "    'LW_IN_T1_47_1': 'LW_IN_T1_47_1',\n",
    "    'PPFD_IN_T1_47_1': 'PPFD_IN_T1_47_1',\n",
    "    'RH_T1_47_1': 'RH_T1_47_1',\n",
    "    'SW_IN_T1_47_1': 'SW_IN_T1_47_1',\n",
    "    'TA_T1_47_1': 'TA_T1_47_1',\n",
    "    'PA_T1_47_1': 'PA_T1_47_1'\n",
    "}\n",
    "data_simple_diive = data_simple_diive.rename(columns=renaming_dict)\n",
    "data_simple_diive"
   ]
  },
  {
   "cell_type": "markdown",
   "id": "0de24049-1e8b-44f4-a922-bd0733b850f4",
   "metadata": {},
   "source": [
    "</br>"
   ]
  },
  {
   "cell_type": "markdown",
   "id": "161320bc-429a-4582-b767-3b56dbb45c7d",
   "metadata": {},
   "source": [
    "# Data from `diive` meteoscreening (2022-2024)"
   ]
  },
  {
   "cell_type": "markdown",
   "id": "6a861344-88e1-48af-8f3a-c69bb98081f1",
   "metadata": {},
   "source": [
    "## Download"
   ]
  },
  {
   "cell_type": "code",
   "execution_count": null,
   "id": "7ae84d33-62ec-4b4f-8898-008015370784",
   "metadata": {
    "scrolled": true
   },
   "outputs": [],
   "source": [
    "%%time\n",
    "\n",
    "BUCKET = f'ch-lae_processed'\n",
    "FIELDS = ['TA_T1_47_1', 'RH_T1_47_1', 'SW_IN_T1_47_1', 'LW_IN_T1_47_1', 'PA_T1_47_1', 'PPFD_IN_T1_47_1']\n",
    "MEASUREMENTS = ['TA', 'RH', 'LW', 'PPFD', 'SW', 'PA']\n",
    "START = '2022-01-01 00:00:01'\n",
    "STOP = '2025-01-01 00:00:01'\n",
    "DATA_VERSION = 'meteoscreening_diive'\n",
    "\n",
    "data_simple_diive, data_detailed_diive, assigned_measurements_diive = dbc.download(\n",
    "    bucket=BUCKET,\n",
    "    measurements=MEASUREMENTS,\n",
    "    fields=FIELDS,\n",
    "    start=START,  # Download data starting with this date (the start date itself IS included),\n",
    "    stop=STOP,  # Download data before this date (the stop date itself IS NOT included),\n",
    "    timezone_offset_to_utc_hours=TIMEZONE_OFFSET_TO_UTC_HOURS,\n",
    "    data_version=DATA_VERSION\n",
    ")"
   ]
  },
  {
   "cell_type": "code",
   "execution_count": null,
   "id": "625f0fe9-0365-46c9-9a7f-7c5ac9c1a21e",
   "metadata": {},
   "outputs": [],
   "source": [
    "data_simple_diive"
   ]
  },
  {
   "cell_type": "markdown",
   "id": "bb88e76d-225b-426d-b33d-e9b111f523db",
   "metadata": {},
   "source": [
    "## Sanitize timestamp"
   ]
  },
  {
   "cell_type": "code",
   "execution_count": null,
   "id": "78cea87b-26d3-4244-a59a-faec972b2e60",
   "metadata": {},
   "outputs": [],
   "source": [
    "data_simple_diive = TimestampSanitizer(data=data_simple_diive, output_middle_timestamp=False).get()\n",
    "data_simple_diive"
   ]
  },
  {
   "cell_type": "markdown",
   "id": "fe5dee76-b0b1-4d21-a68b-67cc38b40556",
   "metadata": {},
   "source": [
    "## Correction: adjust units `PA`"
   ]
  },
  {
   "cell_type": "code",
   "execution_count": null,
   "id": "aff9592b-989f-4ce2-a672-b626c4dcf03e",
   "metadata": {},
   "outputs": [],
   "source": [
    "# Convert units from Pa to kPa\n",
    "data_simple_diive['PA_T1_47_1'] = data_simple_diive['PA_T1_47_1'].divide(1000)\n",
    "data_simple_diive"
   ]
  },
  {
   "cell_type": "markdown",
   "id": "09967401-ab54-4392-9ab2-e57495dbda4f",
   "metadata": {},
   "source": [
    "## Rename variables for merging"
   ]
  },
  {
   "cell_type": "code",
   "execution_count": null,
   "id": "35a48af4-eeea-4f36-a4b0-9d4d68692ed2",
   "metadata": {},
   "outputs": [],
   "source": [
    "renaming_dict = {\n",
    "    'LW_IN_T1_47_1': 'LW_IN_T1_47_1',\n",
    "    'PPFD_IN_T1_47_1': 'PPFD_IN_T1_47_1',\n",
    "    'RH_T1_47_1': 'RH_T1_47_1',\n",
    "    'SW_IN_T1_47_1': 'SW_IN_T1_47_1',\n",
    "    'TA_T1_47_1': 'TA_T1_47_1',\n",
    "    'PA_T1_47_1': 'PA_T1_47_1'\n",
    "}\n",
    "data_simple_diive = data_simple_diive.rename(columns=renaming_dict)\n",
    "data_simple_diive"
   ]
  },
  {
   "cell_type": "markdown",
   "id": "a73f6e56-dded-495a-a9f2-720e27fe4f96",
   "metadata": {},
   "source": [
    "</br>"
   ]
  },
  {
   "cell_type": "markdown",
   "id": "3806344d-7948-485f-b940-ee1f10c59fc8",
   "metadata": {},
   "source": [
    "</br>"
   ]
  },
  {
   "cell_type": "markdown",
   "id": "f39e6dd2-c074-466d-8bdf-144c7b9ec5b7",
   "metadata": {},
   "source": [
    "</br>"
   ]
  },
  {
   "cell_type": "markdown",
   "id": "4d08fab0-b723-465d-8b2f-97237814b997",
   "metadata": {},
   "source": [
    "</br>"
   ]
  },
  {
   "cell_type": "markdown",
   "id": "62855b68-facc-4bfb-ac71-6dd41b45a90c",
   "metadata": {},
   "source": [
    "</br>"
   ]
  },
  {
   "cell_type": "markdown",
   "id": "29127f14-4ac7-4572-bd2a-e0d5c65123e3",
   "metadata": {},
   "source": [
    "</br>"
   ]
  },
  {
   "cell_type": "markdown",
   "id": "b3bd0339-044e-44c2-809f-af174083c7d7",
   "metadata": {},
   "source": [
    "</br>"
   ]
  },
  {
   "cell_type": "markdown",
   "id": "5eea8fbc-9124-46c4-bf5e-946d3a886111",
   "metadata": {},
   "source": [
    "</br>"
   ]
  },
  {
   "cell_type": "markdown",
   "id": "e1451987-8ee9-496c-8acb-6d398cb70f8c",
   "metadata": {},
   "source": [
    "</br>"
   ]
  },
  {
   "cell_type": "markdown",
   "id": "b48600f3-ff73-4272-946d-518cb36b86ee",
   "metadata": {},
   "source": [
    "</br>"
   ]
  },
  {
   "cell_type": "markdown",
   "id": "62f3c522-9a07-4172-9ead-d2d7cc2f75be",
   "metadata": {},
   "source": [
    "# Data from `mst` meteoscreening (2004-2021)"
   ]
  },
  {
   "cell_type": "markdown",
   "id": "85c3f7fb-9707-463f-9e88-e81f00658f36",
   "metadata": {},
   "source": [
    "## Download"
   ]
  },
  {
   "cell_type": "code",
   "execution_count": null,
   "id": "b2fbc87e-78b0-4797-a490-606ccaca66c7",
   "metadata": {
    "scrolled": true
   },
   "outputs": [],
   "source": [
    "%%time\n",
    "\n",
    "BUCKET = f'ch-lae_processed'\n",
    "FIELDS = ['TA_T1_47_1', 'RH_T1_47_1', 'SW_IN_T1_47_1', 'LW_IN_T1_47_1', 'PA_T1_47_1', 'PPFD_IN_T1_47_1']\n",
    "MEASUREMENTS = ['TA', 'RH', 'LW', 'PPFD', 'SW', 'PA']\n",
    "START = '2004-01-01 00:00:01'\n",
    "STOP = '2022-01-01 00:00:01'\n",
    "DATA_VERSION = 'meteoscreening_mst'\n",
    "\n",
    "data_simple_mst, data_detailed_mst, assigned_measurements_mst = dbc.download(\n",
    "    bucket=BUCKET,\n",
    "    measurements=MEASUREMENTS,\n",
    "    fields=FIELDS,\n",
    "    start=START,  # Download data starting with this date (the start date itself IS included),\n",
    "    stop=STOP,  # Download data before this date (the stop date itself IS NOT included),\n",
    "    timezone_offset_to_utc_hours=TIMEZONE_OFFSET_TO_UTC_HOURS,\n",
    "    data_version=DATA_VERSION\n",
    ")"
   ]
  },
  {
   "cell_type": "code",
   "execution_count": null,
   "id": "f569fe0f-0c42-4723-94d4-8c19074430b5",
   "metadata": {},
   "outputs": [],
   "source": [
    "data_simple_mst"
   ]
  },
  {
   "cell_type": "markdown",
   "id": "ad5ef32d-bacb-47e4-8f1b-277500138f07",
   "metadata": {},
   "source": [
    "## Sanitize timestamp"
   ]
  },
  {
   "cell_type": "code",
   "execution_count": null,
   "id": "368970b2-a299-4e5e-a143-21114b589a3e",
   "metadata": {},
   "outputs": [],
   "source": [
    "data_simple_mst = TimestampSanitizer(data=data_simple_mst, output_middle_timestamp=False).get()\n",
    "data_simple_mst"
   ]
  },
  {
   "cell_type": "markdown",
   "id": "add13a06-235e-41e3-92ab-fbbd433e90cb",
   "metadata": {},
   "source": [
    "## Correction: timestamp shift in August 2012\n",
    "**Info from fieldbook entry 17 Aug 2012:**\n",
    ">   adjusted the logger date and time. On Servertime (Computer System Time) 17.08.2012 12:31.42 the loggertime was 16.08.2012 08:06:00. Synchronized time at 17.08.2012 11:40:00 servertime. The logger data aquisition on the moxa embedded was restarted"
   ]
  },
  {
   "cell_type": "code",
   "execution_count": null,
   "id": "e2df3b3e-7da3-4d25-ad7b-d8d94f4a1f29",
   "metadata": {},
   "outputs": [],
   "source": [
    "AFFECTED_VARS = ['TA_T1_47_1', 'RH_T1_47_1', 'SW_IN_T1_47_1', 'LW_IN_T1_47_1', 'PA_T1_47_1', 'PPFD_IN_T1_47_1']\n",
    "\n",
    "for av in AFFECTED_VARS:\n",
    "    fig = plt.figure(figsize=(24, 6), dpi=72)\n",
    "    fig.suptitle(f\"{av}\")\n",
    "    gs = gridspec.GridSpec(1, 5)  # rows, cols\n",
    "    gs.update(wspace=0.5, hspace=1, left=.1, right=.9, top=.85, bottom=.1)\n",
    "    ax_before = fig.add_subplot(gs[0, 0])\n",
    "    ax_unshifted = fig.add_subplot(gs[0, 1])\n",
    "    ax_shifted = fig.add_subplot(gs[0, 2])\n",
    "    ax_after = fig.add_subplot(gs[0, 3])\n",
    "    ax_corrected = fig.add_subplot(gs[0, 4])\n",
    "    \n",
    "    # Show time period around issue, before correction\n",
    "    # _series = data_simple_mst[av].copy()\n",
    "    _show_locs = (data_simple_mst.index >= '2012-08-01 00:00') & (data_simple_mst.index <= '2012-09-01 00:00')\n",
    "    dv.heatmapdatetime(series=data_simple_mst.loc[_show_locs, av], ax=ax_before, title=\"Before correction\").plot()\n",
    "    \n",
    "    # Get shifted time period\n",
    "    _series_corrected = data_simple_mst.loc[_show_locs, av].copy()\n",
    "    # Identify shifted time period\n",
    "    ISSUE_START = '2012-08-09 00:00'\n",
    "    ISSUE_END = '2012-08-17 00:00'\n",
    "    _shifted_locs = (data_simple_mst.index >= ISSUE_START) & (data_simple_mst.index <= ISSUE_END)\n",
    "    _series_shifted = data_simple_mst.loc[_shifted_locs, av].copy()\n",
    "    _series_shifted = _series_shifted.dropna()\n",
    "    dv.heatmapdatetime(series=_series_shifted, ax=ax_unshifted, title=\"UNSHIFTED time period\").plot()\n",
    "    \n",
    "    # Shift SW_IN by 15.5 hours during shifted time period, create corrected time series\n",
    "    _series_shifted.index = _series_shifted.index + pd.Timedelta(hours=15.5)\n",
    "    dv.heatmapdatetime(series=_series_shifted, ax=ax_shifted, title=\"SHIFTED time period\").plot()\n",
    "    \n",
    "    # Delete data between start of issue and the last timestamp of shifted data\n",
    "    _overwrite_locs = (data_simple_mst.index >= ISSUE_START) & (data_simple_mst.index <= _series_shifted.index[-1])\n",
    "    data_simple_mst.loc[_overwrite_locs, av] = np.nan\n",
    "    dv.heatmapdatetime(series=data_simple_mst.loc[_show_locs, av], ax=ax_after, title=\"After deletion\").plot()\n",
    "    \n",
    "    # Fill in corrected values\n",
    "    data_simple_mst.loc[_overwrite_locs, av] = _series_shifted\n",
    "    # _series_corrected = _series_corrected.combine_first(_series_shifted)\n",
    "    dv.heatmapdatetime(series=data_simple_mst.loc[_show_locs, av], ax=ax_corrected, title=\"After correction\").plot()\n",
    "    \n",
    "    # print(_series_shifted.index[-1])\n",
    "    # print(_series_shifted)\n",
    "    # print(_series_corrected[_overwrite_locs])"
   ]
  },
  {
   "cell_type": "markdown",
   "id": "9e950bac-4e44-41db-88b5-2c23c1d17528",
   "metadata": {},
   "source": [
    "## Rename variables for merging"
   ]
  },
  {
   "cell_type": "code",
   "execution_count": null,
   "id": "0de7ef79-649d-4489-a3aa-ecbd85ef93cf",
   "metadata": {},
   "outputs": [],
   "source": [
    "renaming_dict = {\n",
    "    'LW_IN_T1_47_1': 'LW_IN_T1_47_1',\n",
    "    'PPFD_IN_T1_47_1': 'PPFD_IN_T1_47_1',\n",
    "    'RH_T1_47_1': 'RH_T1_47_1',\n",
    "    'SW_IN_T1_47_1': 'SW_IN_T1_47_1',\n",
    "    'TA_T1_47_1': 'TA_T1_47_1',\n",
    "    'PA_T1_47_1': 'PA_T1_47_1'\n",
    "}\n",
    "data_simple_mst = data_simple_mst.rename(columns=renaming_dict)\n",
    "data_simple_mst"
   ]
  },
  {
   "cell_type": "markdown",
   "id": "a8c1432d-9cae-48eb-91b8-26a81e5c58af",
   "metadata": {},
   "source": [
    "</br>"
   ]
  },
  {
   "cell_type": "markdown",
   "id": "a3df3231-195c-4819-b617-114bf707d2ef",
   "metadata": {},
   "source": [
    "# Merge data"
   ]
  },
  {
   "cell_type": "code",
   "execution_count": null,
   "id": "38b62472-e63c-4591-bd39-f6e58fb9c842",
   "metadata": {},
   "outputs": [],
   "source": [
    "# Merge data on index\n",
    "data_simple_merged = pd.concat([data_simple_diive, data_simple_mst], axis=0)\n",
    "data_simple_merged = data_simple_merged.sort_index()\n",
    "data_simple_merged"
   ]
  },
  {
   "cell_type": "markdown",
   "id": "6d6dc544-49fe-480e-a711-810ec07fb5ed",
   "metadata": {},
   "source": [
    "</br>"
   ]
  },
  {
   "cell_type": "markdown",
   "id": "cfa275c2-7698-4cce-b7e0-ed922a4feded",
   "metadata": {},
   "source": [
    "## Set start date to 1 Jan 2004"
   ]
  },
  {
   "cell_type": "code",
   "execution_count": null,
   "id": "8c4eff17-e0d1-4747-a845-a48643e6d36f",
   "metadata": {},
   "outputs": [],
   "source": [
    "# # Define the date for the new row\n",
    "# start_date = pd.to_datetime('2004-01-01 00:30:00')\n",
    "\n",
    "# # Create a new DataFrame for this single row\n",
    "# # Initialize with NaN values for all columns that exist in the original DataFrame\n",
    "# new_row_data = {col: [np.nan] for col in data_simple_merged.columns}\n",
    "# new_row_df = pd.DataFrame(new_row_data, index=[start_date])\n",
    "\n",
    "# # Concatenate the new row DataFrame with the original DataFrame\n",
    "# # Use sort_index() to ensure the combined DataFrame is in chronological order\n",
    "# data_simple_merged = pd.concat([new_row_df, data_simple_merged]).sort_index()\n",
    "# data_simple_merged.index.name = \"TIMESTAMP_END\"\n",
    "# data_simple_merged"
   ]
  },
  {
   "cell_type": "markdown",
   "id": "86939916-a5e8-4e44-af0d-b2f1f85a782e",
   "metadata": {},
   "source": [
    "</br>"
   ]
  },
  {
   "cell_type": "markdown",
   "id": "ff2fe0da-7af6-4f0e-94cf-f0daae1b75d8",
   "metadata": {},
   "source": [
    "## Sanitize timestamp"
   ]
  },
  {
   "cell_type": "code",
   "execution_count": null,
   "id": "4cad2c85-1baf-475d-92bc-fa57020ef40c",
   "metadata": {},
   "outputs": [],
   "source": [
    "data_simple_merged = TimestampSanitizer(data=data_simple_merged, output_middle_timestamp=False).get()\n",
    "data_simple_merged"
   ]
  },
  {
   "cell_type": "markdown",
   "id": "3cd5bb49-cb33-440e-b868-d27b4c8336bd",
   "metadata": {},
   "source": [
    "</br>"
   ]
  },
  {
   "cell_type": "markdown",
   "id": "fdeef0d8-282c-48da-aa3b-d88ab023789b",
   "metadata": {},
   "source": [
    "## Correction: Remove zero offset < 0 from `SW_IN`"
   ]
  },
  {
   "cell_type": "code",
   "execution_count": null,
   "id": "004904ae-ca3c-4c77-89af-dd3eb6856fd0",
   "metadata": {},
   "outputs": [],
   "source": [
    "_swin = data_simple_merged['SW_IN_T1_47_1'].copy()\n",
    "_swin_corrected = remove_radiation_zero_offset(series=_swin, lat=SITE_LAT, lon=SITE_LON, utc_offset=1, showplot=True)\n",
    "data_simple_merged['SW_IN_T1_47_1'] = np.nan\n",
    "data_simple_merged['SW_IN_T1_47_1'] = _swin_corrected"
   ]
  },
  {
   "cell_type": "markdown",
   "id": "054745a2-ede8-4134-810b-5a5038d7e2f6",
   "metadata": {},
   "source": [
    "</br>"
   ]
  },
  {
   "cell_type": "markdown",
   "id": "24ee5d66-cad7-4927-9a6b-3b6c066f7be7",
   "metadata": {},
   "source": [
    "## Correction: Remove zero offset < 0 from `PPFD_IN`"
   ]
  },
  {
   "cell_type": "code",
   "execution_count": null,
   "id": "d0458ab3-deb3-495e-9fbf-474eddfebc21",
   "metadata": {},
   "outputs": [],
   "source": [
    "_ppfdin = data_simple_merged['PPFD_IN_T1_47_1'].copy()\n",
    "_ppfdin_corrected = remove_radiation_zero_offset(series=_ppfdin, lat=SITE_LAT, lon=SITE_LON, utc_offset=1, showplot=True)\n",
    "data_simple_merged['PPFD_IN_T1_47_1'] = np.nan\n",
    "data_simple_merged['PPFD_IN_T1_47_1'] = _ppfdin_corrected"
   ]
  },
  {
   "cell_type": "markdown",
   "id": "a7647c08-8bc2-480b-ac89-3574c24cd9ba",
   "metadata": {},
   "source": [
    "</br>"
   ]
  },
  {
   "cell_type": "markdown",
   "id": "2c812b5f-af97-4ecb-a60d-14e7fbfda30f",
   "metadata": {},
   "source": [
    "## Correction: Remove offset >100% from `RH`"
   ]
  },
  {
   "cell_type": "code",
   "execution_count": null,
   "id": "f0579f74-dde8-4eb5-9aad-0de9996a4e82",
   "metadata": {},
   "outputs": [],
   "source": [
    "_rh = data_simple_merged['RH_T1_47_1'].copy()\n",
    "_rh_corrected = remove_relativehumidity_offset(series=_rh, showplot=True)\n",
    "data_simple_merged['RH_T1_47_1'] = np.nan\n",
    "data_simple_merged['RH_T1_47_1'] = _rh_corrected"
   ]
  },
  {
   "cell_type": "markdown",
   "id": "ccbf1824-914f-4e61-83b8-1df4570d72e8",
   "metadata": {},
   "source": [
    "</br>"
   ]
  },
  {
   "cell_type": "markdown",
   "id": "4cf6ccfd-1880-44f1-a6bf-d1ab32fe70f1",
   "metadata": {},
   "source": [
    "# Plot"
   ]
  },
  {
   "cell_type": "code",
   "execution_count": null,
   "id": "35d8717a-9275-4f30-838f-d9bfab2768a8",
   "metadata": {},
   "outputs": [],
   "source": [
    "_plot_df = data_simple_merged[FIELDS].copy()\n",
    "_plot_df = _plot_df.replace(-9999, np.nan)"
   ]
  },
  {
   "cell_type": "markdown",
   "id": "6e3f677e-d077-40f9-9607-fe3ea05ab302",
   "metadata": {},
   "source": [
    "## Time series plot"
   ]
  },
  {
   "cell_type": "code",
   "execution_count": null,
   "id": "92ed3d3e-10a5-484a-b432-97d4045665f9",
   "metadata": {},
   "outputs": [],
   "source": [
    "_plot_df.plot(subplots=True, figsize=(20, 9), title=\"Meteo data\", alpha=.9, x_compat=True);"
   ]
  },
  {
   "cell_type": "markdown",
   "id": "120ca190-69a2-4322-a8b7-4dfbdef3ec4d",
   "metadata": {},
   "source": [
    "## Heatmaps"
   ]
  },
  {
   "cell_type": "code",
   "execution_count": null,
   "id": "27502ed8-7631-46cf-a24e-0674411739b3",
   "metadata": {},
   "outputs": [],
   "source": [
    "for col in _plot_df.columns:    \n",
    "    series = _plot_df[col]\n",
    "    series.name = col\n",
    "    HeatmapDateTime(series, figsize=(6,9)).show()    "
   ]
  },
  {
   "cell_type": "markdown",
   "id": "03a51d15-d1cc-453f-8031-86abefffb7f8",
   "metadata": {},
   "source": [
    "</br>"
   ]
  },
  {
   "cell_type": "markdown",
   "id": "12ec9658-7195-45ed-aff2-7ed0b9b659bc",
   "metadata": {},
   "source": [
    "# Save to file"
   ]
  },
  {
   "cell_type": "code",
   "execution_count": null,
   "id": "640b6999-44cb-4fca-9680-667ffaca105b",
   "metadata": {},
   "outputs": [],
   "source": [
    "OUTNAME = \"12.1_METEO6_NOT-GAPFILLED_2004-2024\"\n",
    "OUTPATH = r\"\"\n",
    "filepath = save_parquet(filename=OUTNAME, data=data_simple_merged, outpath=OUTPATH)\n",
    "data_simple_merged.to_csv(Path(OUTPATH) / f\"{OUTNAME}.csv\")"
   ]
  },
  {
   "cell_type": "markdown",
   "id": "75598218-2da4-4b79-84e6-548bb6489c3f",
   "metadata": {},
   "source": [
    "</br>"
   ]
  },
  {
   "cell_type": "markdown",
   "id": "83c1da49-4f88-4de0-a22a-e19036edb58a",
   "metadata": {},
   "source": [
    "# End of notebook."
   ]
  },
  {
   "cell_type": "code",
   "execution_count": null,
   "id": "d46a6d27-00e9-474b-8c9e-17b81162722f",
   "metadata": {},
   "outputs": [],
   "source": [
    "dt_string = datetime.now().strftime(\"%Y-%m-%d %H:%M:%S\")\n",
    "print(f\"Finished. {dt_string}\")"
   ]
  },
  {
   "cell_type": "markdown",
   "id": "e94a3a97-bd85-4f01-b374-5f8d854c43ce",
   "metadata": {},
   "source": [
    "</br>"
   ]
  }
 ],
 "metadata": {
  "kernelspec": {
   "display_name": "Python 3 (ipykernel)",
   "language": "python",
   "name": "python3"
  },
  "language_info": {
   "codemirror_mode": {
    "name": "ipython",
    "version": 3
   },
   "file_extension": ".py",
   "mimetype": "text/x-python",
   "name": "python",
   "nbconvert_exporter": "python",
   "pygments_lexer": "ipython3",
   "version": "3.11.11"
  },
  "toc-autonumbering": false,
  "toc-showcode": false,
  "toc-showmarkdowntxt": false
 },
 "nbformat": 4,
 "nbformat_minor": 5
}
